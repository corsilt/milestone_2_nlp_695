{
  "nbformat": 4,
  "nbformat_minor": 0,
  "metadata": {
    "colab": {
      "name": "milestone_nlp_eda.ipynb",
      "provenance": [],
      "collapsed_sections": []
    },
    "kernelspec": {
      "name": "python3",
      "display_name": "Python 3"
    },
    "language_info": {
      "name": "python"
    },
    "widgets": {
      "application/vnd.jupyter.widget-state+json": {
        "715587ca3134414fad3e4761bef5221c": {
          "model_module": "@jupyter-widgets/controls",
          "model_name": "IntProgressModel",
          "model_module_version": "1.5.0",
          "state": {
            "_dom_classes": [],
            "_model_module": "@jupyter-widgets/controls",
            "_model_module_version": "1.5.0",
            "_model_name": "IntProgressModel",
            "_view_count": null,
            "_view_module": "@jupyter-widgets/controls",
            "_view_module_version": "1.5.0",
            "_view_name": "ProgressView",
            "bar_style": "",
            "description": "Processing: ",
            "description_tooltip": null,
            "layout": "IPY_MODEL_d668b58548824e7e9c9a0b5f5b06e3ac",
            "max": 3,
            "min": 0,
            "orientation": "horizontal",
            "style": "IPY_MODEL_cd478a8cb14a4b41a5074a9c4bc28c66",
            "value": 3
          }
        },
        "d668b58548824e7e9c9a0b5f5b06e3ac": {
          "model_module": "@jupyter-widgets/base",
          "model_name": "LayoutModel",
          "model_module_version": "1.2.0",
          "state": {
            "_model_module": "@jupyter-widgets/base",
            "_model_module_version": "1.2.0",
            "_model_name": "LayoutModel",
            "_view_count": null,
            "_view_module": "@jupyter-widgets/base",
            "_view_module_version": "1.2.0",
            "_view_name": "LayoutView",
            "align_content": null,
            "align_items": null,
            "align_self": null,
            "border": null,
            "bottom": null,
            "display": null,
            "flex": null,
            "flex_flow": null,
            "grid_area": null,
            "grid_auto_columns": null,
            "grid_auto_flow": null,
            "grid_auto_rows": null,
            "grid_column": null,
            "grid_gap": null,
            "grid_row": null,
            "grid_template_areas": null,
            "grid_template_columns": null,
            "grid_template_rows": null,
            "height": null,
            "justify_content": null,
            "justify_items": null,
            "left": null,
            "margin": null,
            "max_height": null,
            "max_width": null,
            "min_height": null,
            "min_width": null,
            "object_fit": null,
            "object_position": null,
            "order": null,
            "overflow": null,
            "overflow_x": null,
            "overflow_y": null,
            "padding": null,
            "right": null,
            "top": null,
            "visibility": null,
            "width": null
          }
        },
        "cd478a8cb14a4b41a5074a9c4bc28c66": {
          "model_module": "@jupyter-widgets/controls",
          "model_name": "ProgressStyleModel",
          "model_module_version": "1.5.0",
          "state": {
            "_model_module": "@jupyter-widgets/controls",
            "_model_module_version": "1.5.0",
            "_model_name": "ProgressStyleModel",
            "_view_count": null,
            "_view_module": "@jupyter-widgets/base",
            "_view_module_version": "1.2.0",
            "_view_name": "StyleView",
            "bar_color": null,
            "description_width": ""
          }
        },
        "8d08926c001a467b81cb2ad24611de4c": {
          "model_module": "@jupyter-widgets/controls",
          "model_name": "IntProgressModel",
          "model_module_version": "1.5.0",
          "state": {
            "_dom_classes": [],
            "_model_module": "@jupyter-widgets/controls",
            "_model_module_version": "1.5.0",
            "_model_name": "IntProgressModel",
            "_view_count": null,
            "_view_module": "@jupyter-widgets/controls",
            "_view_module_version": "1.5.0",
            "_view_name": "ProgressView",
            "bar_style": "",
            "description": "Processing: ",
            "description_tooltip": null,
            "layout": "IPY_MODEL_503943e1507042f4a6491977a7958645",
            "max": 64,
            "min": 0,
            "orientation": "horizontal",
            "style": "IPY_MODEL_b800d579898b44afb8c6f3c17af71b3e",
            "value": 64
          }
        },
        "503943e1507042f4a6491977a7958645": {
          "model_module": "@jupyter-widgets/base",
          "model_name": "LayoutModel",
          "model_module_version": "1.2.0",
          "state": {
            "_model_module": "@jupyter-widgets/base",
            "_model_module_version": "1.2.0",
            "_model_name": "LayoutModel",
            "_view_count": null,
            "_view_module": "@jupyter-widgets/base",
            "_view_module_version": "1.2.0",
            "_view_name": "LayoutView",
            "align_content": null,
            "align_items": null,
            "align_self": null,
            "border": null,
            "bottom": null,
            "display": null,
            "flex": null,
            "flex_flow": null,
            "grid_area": null,
            "grid_auto_columns": null,
            "grid_auto_flow": null,
            "grid_auto_rows": null,
            "grid_column": null,
            "grid_gap": null,
            "grid_row": null,
            "grid_template_areas": null,
            "grid_template_columns": null,
            "grid_template_rows": null,
            "height": null,
            "justify_content": null,
            "justify_items": null,
            "left": null,
            "margin": null,
            "max_height": null,
            "max_width": null,
            "min_height": null,
            "min_width": null,
            "object_fit": null,
            "object_position": null,
            "order": null,
            "overflow": null,
            "overflow_x": null,
            "overflow_y": null,
            "padding": null,
            "right": null,
            "top": null,
            "visibility": null,
            "width": null
          }
        },
        "b800d579898b44afb8c6f3c17af71b3e": {
          "model_module": "@jupyter-widgets/controls",
          "model_name": "ProgressStyleModel",
          "model_module_version": "1.5.0",
          "state": {
            "_model_module": "@jupyter-widgets/controls",
            "_model_module_version": "1.5.0",
            "_model_name": "ProgressStyleModel",
            "_view_count": null,
            "_view_module": "@jupyter-widgets/base",
            "_view_module_version": "1.2.0",
            "_view_name": "StyleView",
            "bar_color": null,
            "description_width": ""
          }
        },
        "6d9688d4a33744319443f12f39d15aa2": {
          "model_module": "@jupyter-widgets/controls",
          "model_name": "IntProgressModel",
          "model_module_version": "1.5.0",
          "state": {
            "_dom_classes": [],
            "_model_module": "@jupyter-widgets/controls",
            "_model_module_version": "1.5.0",
            "_model_name": "IntProgressModel",
            "_view_count": null,
            "_view_module": "@jupyter-widgets/controls",
            "_view_module_version": "1.5.0",
            "_view_name": "ProgressView",
            "bar_style": "",
            "description": "Processing: ",
            "description_tooltip": null,
            "layout": "IPY_MODEL_108bad954d8e4ac293a818410ca88236",
            "max": 7,
            "min": 0,
            "orientation": "horizontal",
            "style": "IPY_MODEL_4f1db2e141e44686bb19094744a18734",
            "value": 7
          }
        },
        "108bad954d8e4ac293a818410ca88236": {
          "model_module": "@jupyter-widgets/base",
          "model_name": "LayoutModel",
          "model_module_version": "1.2.0",
          "state": {
            "_model_module": "@jupyter-widgets/base",
            "_model_module_version": "1.2.0",
            "_model_name": "LayoutModel",
            "_view_count": null,
            "_view_module": "@jupyter-widgets/base",
            "_view_module_version": "1.2.0",
            "_view_name": "LayoutView",
            "align_content": null,
            "align_items": null,
            "align_self": null,
            "border": null,
            "bottom": null,
            "display": null,
            "flex": null,
            "flex_flow": null,
            "grid_area": null,
            "grid_auto_columns": null,
            "grid_auto_flow": null,
            "grid_auto_rows": null,
            "grid_column": null,
            "grid_gap": null,
            "grid_row": null,
            "grid_template_areas": null,
            "grid_template_columns": null,
            "grid_template_rows": null,
            "height": null,
            "justify_content": null,
            "justify_items": null,
            "left": null,
            "margin": null,
            "max_height": null,
            "max_width": null,
            "min_height": null,
            "min_width": null,
            "object_fit": null,
            "object_position": null,
            "order": null,
            "overflow": null,
            "overflow_x": null,
            "overflow_y": null,
            "padding": null,
            "right": null,
            "top": null,
            "visibility": null,
            "width": null
          }
        },
        "4f1db2e141e44686bb19094744a18734": {
          "model_module": "@jupyter-widgets/controls",
          "model_name": "ProgressStyleModel",
          "model_module_version": "1.5.0",
          "state": {
            "_model_module": "@jupyter-widgets/controls",
            "_model_module_version": "1.5.0",
            "_model_name": "ProgressStyleModel",
            "_view_count": null,
            "_view_module": "@jupyter-widgets/base",
            "_view_module_version": "1.2.0",
            "_view_name": "StyleView",
            "bar_color": null,
            "description_width": ""
          }
        }
      }
    }
  },
  "cells": [
    {
      "cell_type": "code",
      "execution_count": null,
      "metadata": {
        "id": "ZDCl4wye0Sq_"
      },
      "outputs": [],
      "source": [
        "\n",
        "import pandas as pd\n",
        "import spacy "
      ]
    },
    {
      "cell_type": "code",
      "source": [
        "df = pd.read_csv('WikiLarge_Train.csv')\n",
        "concreteness = pd.read_csv(r'C:\\Users\\corsi\\Downloads\\umich-siads-695-fall21-predicting-text-difficulty\\Concreteness_ratings_Brysbaert_et_al_BRM.txt', delimiter = \"\\t\")\n",
        "basic = pd.read_csv(r'C:\\Users\\corsi\\Downloads\\umich-siads-695-fall21-predicting-text-difficulty\\dale_chall.txt', delimiter = \"\\t\", header=None)\n",
        "aol =pd.read_csv(r'C:\\Users\\corsi\\Downloads\\umich-siads-695-fall21-predicting-text-difficulty\\AoA_51715_words.csv', header=0,encoding = \"ISO-8859-1\" )"
      ],
      "metadata": {
        "id": "CvMsxl0L9EW6"
      },
      "execution_count": null,
      "outputs": []
    },
    {
      "cell_type": "code",
      "source": [
        "!python -m spacy download en_core_web_lg"
      ],
      "metadata": {
        "colab": {
          "base_uri": "https://localhost:8080/"
        },
        "id": "RuMbZSCkgqWd",
        "outputId": "df00962b-0bf6-41c1-9266-2232a4b6b1a6"
      },
      "execution_count": null,
      "outputs": [
        {
          "output_type": "stream",
          "name": "stdout",
          "text": [
            "Collecting en_core_web_lg==2.3.1\n",
            "  Downloading https://github.com/explosion/spacy-models/releases/download/en_core_web_lg-2.3.1/en_core_web_lg-2.3.1.tar.gz (782.7 MB)\n",
            "  Preparing metadata (setup.py): started\n",
            "  Preparing metadata (setup.py): finished with status 'done'\n",
            "Requirement already satisfied: spacy<2.4.0,>=2.3.0 in c:\\users\\corsi\\downloads\\umich-siads-695-fall21-predicting-text-difficulty\\env2\\lib\\site-packages (from en_core_web_lg==2.3.1) (2.3.7)\n",
            "Requirement already satisfied: setuptools in c:\\users\\corsi\\downloads\\umich-siads-695-fall21-predicting-text-difficulty\\env2\\lib\\site-packages (from spacy<2.4.0,>=2.3.0->en_core_web_lg==2.3.1) (59.5.0)\n",
            "Requirement already satisfied: cymem<2.1.0,>=2.0.2 in c:\\users\\corsi\\downloads\\umich-siads-695-fall21-predicting-text-difficulty\\env2\\lib\\site-packages (from spacy<2.4.0,>=2.3.0->en_core_web_lg==2.3.1) (2.0.6)\n",
            "Requirement already satisfied: numpy>=1.15.0 in c:\\users\\corsi\\downloads\\umich-siads-695-fall21-predicting-text-difficulty\\env2\\lib\\site-packages (from spacy<2.4.0,>=2.3.0->en_core_web_lg==2.3.1) (1.19.5)\n",
            "Requirement already satisfied: wasabi<1.1.0,>=0.4.0 in c:\\users\\corsi\\downloads\\umich-siads-695-fall21-predicting-text-difficulty\\env2\\lib\\site-packages (from spacy<2.4.0,>=2.3.0->en_core_web_lg==2.3.1) (0.9.0)\n",
            "Requirement already satisfied: tqdm<5.0.0,>=4.38.0 in c:\\users\\corsi\\downloads\\umich-siads-695-fall21-predicting-text-difficulty\\env2\\lib\\site-packages (from spacy<2.4.0,>=2.3.0->en_core_web_lg==2.3.1) (4.62.3)\n",
            "Requirement already satisfied: murmurhash<1.1.0,>=0.28.0 in c:\\users\\corsi\\downloads\\umich-siads-695-fall21-predicting-text-difficulty\\env2\\lib\\site-packages (from spacy<2.4.0,>=2.3.0->en_core_web_lg==2.3.1) (1.0.6)\n",
            "Requirement already satisfied: blis<0.8.0,>=0.4.0 in c:\\users\\corsi\\downloads\\umich-siads-695-fall21-predicting-text-difficulty\\env2\\lib\\site-packages (from spacy<2.4.0,>=2.3.0->en_core_web_lg==2.3.1) (0.7.5)\n",
            "Requirement already satisfied: catalogue<1.1.0,>=0.0.7 in c:\\users\\corsi\\downloads\\umich-siads-695-fall21-predicting-text-difficulty\\env2\\lib\\site-packages (from spacy<2.4.0,>=2.3.0->en_core_web_lg==2.3.1) (1.0.0)\n",
            "Requirement already satisfied: thinc<7.5.0,>=7.4.1 in c:\\users\\corsi\\downloads\\umich-siads-695-fall21-predicting-text-difficulty\\env2\\lib\\site-packages (from spacy<2.4.0,>=2.3.0->en_core_web_lg==2.3.1) (7.4.5)\n",
            "Requirement already satisfied: srsly<1.1.0,>=1.0.2 in c:\\users\\corsi\\downloads\\umich-siads-695-fall21-predicting-text-difficulty\\env2\\lib\\site-packages (from spacy<2.4.0,>=2.3.0->en_core_web_lg==2.3.1) (1.0.5)\n",
            "Requirement already satisfied: requests<3.0.0,>=2.13.0 in c:\\users\\corsi\\downloads\\umich-siads-695-fall21-predicting-text-difficulty\\env2\\lib\\site-packages (from spacy<2.4.0,>=2.3.0->en_core_web_lg==2.3.1) (2.27.1)\n",
            "Requirement already satisfied: preshed<3.1.0,>=3.0.2 in c:\\users\\corsi\\downloads\\umich-siads-695-fall21-predicting-text-difficulty\\env2\\lib\\site-packages (from spacy<2.4.0,>=2.3.0->en_core_web_lg==2.3.1) (3.0.6)\n",
            "Requirement already satisfied: plac<1.2.0,>=0.9.6 in c:\\users\\corsi\\downloads\\umich-siads-695-fall21-predicting-text-difficulty\\env2\\lib\\site-packages (from spacy<2.4.0,>=2.3.0->en_core_web_lg==2.3.1) (1.1.3)\n",
            "Requirement already satisfied: urllib3<1.27,>=1.21.1 in c:\\users\\corsi\\downloads\\umich-siads-695-fall21-predicting-text-difficulty\\env2\\lib\\site-packages (from requests<3.0.0,>=2.13.0->spacy<2.4.0,>=2.3.0->en_core_web_lg==2.3.1) (1.26.8)\n",
            "Requirement already satisfied: idna<4,>=2.5 in c:\\users\\corsi\\downloads\\umich-siads-695-fall21-predicting-text-difficulty\\env2\\lib\\site-packages (from requests<3.0.0,>=2.13.0->spacy<2.4.0,>=2.3.0->en_core_web_lg==2.3.1) (3.3)\n",
            "Requirement already satisfied: certifi>=2017.4.17 in c:\\users\\corsi\\downloads\\umich-siads-695-fall21-predicting-text-difficulty\\env2\\lib\\site-packages (from requests<3.0.0,>=2.13.0->spacy<2.4.0,>=2.3.0->en_core_web_lg==2.3.1) (2021.10.8)\n",
            "Requirement already satisfied: charset-normalizer~=2.0.0 in c:\\users\\corsi\\downloads\\umich-siads-695-fall21-predicting-text-difficulty\\env2\\lib\\site-packages (from requests<3.0.0,>=2.13.0->spacy<2.4.0,>=2.3.0->en_core_web_lg==2.3.1) (2.0.10)\n",
            "Requirement already satisfied: colorama in c:\\users\\corsi\\downloads\\umich-siads-695-fall21-predicting-text-difficulty\\env2\\lib\\site-packages (from tqdm<5.0.0,>=4.38.0->spacy<2.4.0,>=2.3.0->en_core_web_lg==2.3.1) (0.4.4)\n",
            "Building wheels for collected packages: en-core-web-lg\n",
            "  Building wheel for en-core-web-lg (setup.py): started\n",
            "  Building wheel for en-core-web-lg (setup.py): still running...\n",
            "  Building wheel for en-core-web-lg (setup.py): finished with status 'done'\n",
            "  Created wheel for en-core-web-lg: filename=en_core_web_lg-2.3.1-py3-none-any.whl size=782936122 sha256=1c196154ad443bcf761ff4602c14303ec127778c6706160f9da65c19915621c1\n",
            "  Stored in directory: c:\\users\\corsi\\appdata\\local\\pip\\cache\\wheels\\18\\17\\bd\\804ef6d238a8078be05fd95a64d27d4369846b45d6adc2816a\n",
            "Successfully built en-core-web-lg\n",
            "Installing collected packages: en-core-web-lg\n",
            "Successfully installed en-core-web-lg-2.3.1\n",
            "[+] Download and installation successful\n",
            "You can now load the model via spacy.load('en_core_web_lg')\n"
          ]
        }
      ]
    },
    {
      "cell_type": "code",
      "source": [
        "import en_core_web_lg\n",
        "nlp_model = en_core_web_lg.load()\n",
        "from spacy.tokenizer import Tokenizer\n",
        "tokenizer = Tokenizer(nlp_model.vocab)"
      ],
      "metadata": {
        "id": "1dUIZsHRf--a"
      },
      "execution_count": null,
      "outputs": []
    },
    {
      "cell_type": "code",
      "source": [
        "[i for i in tokenizer('hello lads!, ?')]"
      ],
      "metadata": {
        "colab": {
          "base_uri": "https://localhost:8080/"
        },
        "id": "Qvx3uM1pU-4b",
        "outputId": "6b23bfe2-814b-4ca1-dfe3-8b9a9b7a32c4"
      },
      "execution_count": null,
      "outputs": [
        {
          "output_type": "execute_result",
          "data": {
            "text/plain": [
              "[hello, lads!,, ?]"
            ]
          },
          "metadata": {},
          "execution_count": 65
        }
      ]
    },
    {
      "cell_type": "code",
      "source": [
        "aol.head()"
      ],
      "metadata": {
        "colab": {
          "base_uri": "https://localhost:8080/",
          "height": 206
        },
        "id": "6PbxU5uUnVdo",
        "outputId": "3ea09f3d-10dc-4214-98d2-79aec35c587b"
      },
      "execution_count": null,
      "outputs": [
        {
          "output_type": "execute_result",
          "data": {
            "text/plain": [
              "       Word Alternative.spelling   Freq_pm Dom_PoS_SUBTLEX  Nletters  Nphon  \\\n",
              "0         a                    a  20415.27         Article         1      1   \n",
              "1  aardvark             aardvark      0.41            Noun         8      7   \n",
              "2    abacus               abacus      0.24            Noun         6      6   \n",
              "3  abacuses             abacuses      0.02            Noun         8      9   \n",
              "4   abalone              abalone      0.51            Verb         7      7   \n",
              "\n",
              "   Nsyll Lemma_highest_PoS  AoA_Kup  Perc_known  AoA_Kup_lem  Perc_known_lem  \\\n",
              "0      1                 a     2.89        1.00         2.89            1.00   \n",
              "1      2          aardvark     9.89        1.00         9.89            1.00   \n",
              "2      3            abacus     8.69        0.65         8.69            0.65   \n",
              "3      4            abacus      NaN         NaN         8.69            0.65   \n",
              "4      4           abalone    12.23        0.72        12.23            0.72   \n",
              "\n",
              "   AoA_Bird_lem  AoA_Bristol_lem  AoA_Cort_lem  AoA_Schock  \n",
              "0          3.16              NaN           NaN         NaN  \n",
              "1           NaN              NaN           NaN         NaN  \n",
              "2           NaN              NaN           NaN         NaN  \n",
              "3           NaN              NaN           NaN         NaN  \n",
              "4           NaN              NaN           NaN         NaN  "
            ],
            "text/html": [
              "<div>\n",
              "<style scoped>\n",
              "    .dataframe tbody tr th:only-of-type {\n",
              "        vertical-align: middle;\n",
              "    }\n",
              "\n",
              "    .dataframe tbody tr th {\n",
              "        vertical-align: top;\n",
              "    }\n",
              "\n",
              "    .dataframe thead th {\n",
              "        text-align: right;\n",
              "    }\n",
              "</style>\n",
              "<table border=\"1\" class=\"dataframe\">\n",
              "  <thead>\n",
              "    <tr style=\"text-align: right;\">\n",
              "      <th></th>\n",
              "      <th>Word</th>\n",
              "      <th>Alternative.spelling</th>\n",
              "      <th>Freq_pm</th>\n",
              "      <th>Dom_PoS_SUBTLEX</th>\n",
              "      <th>Nletters</th>\n",
              "      <th>Nphon</th>\n",
              "      <th>Nsyll</th>\n",
              "      <th>Lemma_highest_PoS</th>\n",
              "      <th>AoA_Kup</th>\n",
              "      <th>Perc_known</th>\n",
              "      <th>AoA_Kup_lem</th>\n",
              "      <th>Perc_known_lem</th>\n",
              "      <th>AoA_Bird_lem</th>\n",
              "      <th>AoA_Bristol_lem</th>\n",
              "      <th>AoA_Cort_lem</th>\n",
              "      <th>AoA_Schock</th>\n",
              "    </tr>\n",
              "  </thead>\n",
              "  <tbody>\n",
              "    <tr>\n",
              "      <th>0</th>\n",
              "      <td>a</td>\n",
              "      <td>a</td>\n",
              "      <td>20415.27</td>\n",
              "      <td>Article</td>\n",
              "      <td>1</td>\n",
              "      <td>1</td>\n",
              "      <td>1</td>\n",
              "      <td>a</td>\n",
              "      <td>2.89</td>\n",
              "      <td>1.00</td>\n",
              "      <td>2.89</td>\n",
              "      <td>1.00</td>\n",
              "      <td>3.16</td>\n",
              "      <td>NaN</td>\n",
              "      <td>NaN</td>\n",
              "      <td>NaN</td>\n",
              "    </tr>\n",
              "    <tr>\n",
              "      <th>1</th>\n",
              "      <td>aardvark</td>\n",
              "      <td>aardvark</td>\n",
              "      <td>0.41</td>\n",
              "      <td>Noun</td>\n",
              "      <td>8</td>\n",
              "      <td>7</td>\n",
              "      <td>2</td>\n",
              "      <td>aardvark</td>\n",
              "      <td>9.89</td>\n",
              "      <td>1.00</td>\n",
              "      <td>9.89</td>\n",
              "      <td>1.00</td>\n",
              "      <td>NaN</td>\n",
              "      <td>NaN</td>\n",
              "      <td>NaN</td>\n",
              "      <td>NaN</td>\n",
              "    </tr>\n",
              "    <tr>\n",
              "      <th>2</th>\n",
              "      <td>abacus</td>\n",
              "      <td>abacus</td>\n",
              "      <td>0.24</td>\n",
              "      <td>Noun</td>\n",
              "      <td>6</td>\n",
              "      <td>6</td>\n",
              "      <td>3</td>\n",
              "      <td>abacus</td>\n",
              "      <td>8.69</td>\n",
              "      <td>0.65</td>\n",
              "      <td>8.69</td>\n",
              "      <td>0.65</td>\n",
              "      <td>NaN</td>\n",
              "      <td>NaN</td>\n",
              "      <td>NaN</td>\n",
              "      <td>NaN</td>\n",
              "    </tr>\n",
              "    <tr>\n",
              "      <th>3</th>\n",
              "      <td>abacuses</td>\n",
              "      <td>abacuses</td>\n",
              "      <td>0.02</td>\n",
              "      <td>Noun</td>\n",
              "      <td>8</td>\n",
              "      <td>9</td>\n",
              "      <td>4</td>\n",
              "      <td>abacus</td>\n",
              "      <td>NaN</td>\n",
              "      <td>NaN</td>\n",
              "      <td>8.69</td>\n",
              "      <td>0.65</td>\n",
              "      <td>NaN</td>\n",
              "      <td>NaN</td>\n",
              "      <td>NaN</td>\n",
              "      <td>NaN</td>\n",
              "    </tr>\n",
              "    <tr>\n",
              "      <th>4</th>\n",
              "      <td>abalone</td>\n",
              "      <td>abalone</td>\n",
              "      <td>0.51</td>\n",
              "      <td>Verb</td>\n",
              "      <td>7</td>\n",
              "      <td>7</td>\n",
              "      <td>4</td>\n",
              "      <td>abalone</td>\n",
              "      <td>12.23</td>\n",
              "      <td>0.72</td>\n",
              "      <td>12.23</td>\n",
              "      <td>0.72</td>\n",
              "      <td>NaN</td>\n",
              "      <td>NaN</td>\n",
              "      <td>NaN</td>\n",
              "      <td>NaN</td>\n",
              "    </tr>\n",
              "  </tbody>\n",
              "</table>\n",
              "</div>"
            ]
          },
          "metadata": {},
          "execution_count": 5
        }
      ]
    },
    {
      "cell_type": "code",
      "source": [
        "def lemmatize_text_no_punc(text): #lemma_word1.append(token.lemma_)\n",
        "    text = \" \".join([w.lower() for w in text.split()]) # may not need it's lowercasing beforing sending to tokenizer appears to make some difference like References \n",
        "    return \" \".join([w.lemma_.lower() for w in tokenizer(text) if nlp_model.vocab[w.lemma_].is_punct == False])\n",
        "\n",
        "def lemmatize_text(text): #lemma_word1.append(token.lemma_)\n",
        "    text = \" \".join([w.lower() for w in text.split()]) # may not need it's lowercasing beforing sending to tokenizer appears to make some difference like References \n",
        "    return \" \".join([w.lemma_.lower() for w in tokenizer(text)])"
      ],
      "metadata": {
        "id": "ExxRRTtr0hMs"
      },
      "execution_count": null,
      "outputs": []
    },
    {
      "cell_type": "code",
      "source": [
        "nlp_model.vocab['/'].is_oov == False"
      ],
      "metadata": {
        "colab": {
          "base_uri": "https://localhost:8080/"
        },
        "id": "7rvBDjJAopz0",
        "outputId": "d6865caf-c8c7-4f1a-e416-7100edf06916"
      },
      "execution_count": null,
      "outputs": [
        {
          "output_type": "execute_result",
          "data": {
            "text/plain": [
              "True"
            ]
          },
          "metadata": {},
          "execution_count": 7
        }
      ]
    },
    {
      "cell_type": "code",
      "source": [
        "df.iloc[0]['original_text']"
      ],
      "metadata": {
        "colab": {
          "base_uri": "https://localhost:8080/"
        },
        "id": "2zZKtZwYFLB_",
        "outputId": "c32bec4a-e0cf-445c-fe43-2f6ba3902451"
      },
      "execution_count": null,
      "outputs": [
        {
          "output_type": "execute_result",
          "data": {
            "text/plain": [
              "\"There is manuscript evidence that Austen continued to work on these pieces as late as the period 1809 â '' 11 , and that her niece and nephew , Anna and James Edward Austen , made further additions as late as 1814 .\""
            ]
          },
          "metadata": {},
          "execution_count": 8
        }
      ]
    },
    {
      "cell_type": "code",
      "source": [
        "lemmatize_text_no_punc(df.iloc[0]['original_text'])"
      ],
      "metadata": {
        "colab": {
          "base_uri": "https://localhost:8080/"
        },
        "id": "cLXncmpygL_f",
        "outputId": "f7e4e817-5d1e-4a73-a868-8abc82b9fa03"
      },
      "execution_count": null,
      "outputs": [
        {
          "output_type": "execute_result",
          "data": {
            "text/plain": [
              "'there be manuscript evidence that austen continue to work on this piece a late a the period 1809 â 11 and that her niece and nephew anna and james edward austen make far addition a late a 1814'"
            ]
          },
          "metadata": {},
          "execution_count": 9
        }
      ]
    },
    {
      "cell_type": "code",
      "source": [
        "df.iloc[0]['original_text']"
      ],
      "metadata": {
        "colab": {
          "base_uri": "https://localhost:8080/"
        },
        "id": "1x8OuvzHhMzT",
        "outputId": "527119fb-25e4-4b13-d782-9ac94ca9f1c5"
      },
      "execution_count": null,
      "outputs": [
        {
          "output_type": "execute_result",
          "data": {
            "text/plain": [
              "\"There is manuscript evidence that Austen continued to work on these pieces as late as the period 1809 â '' 11 , and that her niece and nephew , Anna and James Edward Austen , made further additions as late as 1814 .\""
            ]
          },
          "metadata": {},
          "execution_count": 10
        }
      ]
    },
    {
      "cell_type": "code",
      "source": [
        "basic.rename(columns={0:'Word'},inplace=True)\n",
        "basic['Word'] = basic['Word'].astype(str)\n",
        "basic['Word_lem'] = basic['Word'].apply(lemmatize_text)\n",
        "\n",
        "concreteness['Word'] = concreteness['Word'].astype(str)\n",
        "concreteness['Word_lem'] = concreteness['Word'].apply(lemmatize_text)\n",
        "\n",
        "aol['Word'] = aol['Word'].astype(str)\n",
        "aol['Word_lem'] = aol['Word'].apply(lemmatize_text)\n",
        "\n",
        "df['text_lemma'] = df['original_text'].apply(lemmatize_text)\n",
        "df['text_lemma_no_punc'] = df['original_text'].apply(lemmatize_text_no_punc)"
      ],
      "metadata": {
        "id": "KD6K69kiZ1Wm"
      },
      "execution_count": null,
      "outputs": []
    },
    {
      "cell_type": "code",
      "source": [
        "\n",
        "# # import these modules\n",
        "# from nltk.stem import PorterStemmer\n",
        "# from nltk.tokenize import word_tokenize\n",
        "# from nltk.stem.snowball import SnowballStemmer\n",
        "# ps = PorterStemmer()\n",
        " \n",
        "# # choose some words to be stemmed\n",
        "# words = ['stampeders', 'stamp']\n",
        " \n",
        "# for w in words:\n",
        "#     print(w, \" : \", ps.stem(w))"
      ],
      "metadata": {
        "colab": {
          "base_uri": "https://localhost:8080/"
        },
        "id": "u4Ryx-gO3xhi",
        "outputId": "dcc7fce8-6c6c-458c-a48b-bd37f19cf3a2"
      },
      "execution_count": null,
      "outputs": [
        {
          "output_type": "stream",
          "name": "stdout",
          "text": [
            "stampeders  :  stamped\n",
            "stamp  :  stamp\n"
          ]
        }
      ]
    },
    {
      "cell_type": "code",
      "source": [
        "s = lemmatize_text_no_punc(df.iloc[0]['original_text'])\n",
        "\n",
        "count = 0\n",
        "for i in s:\n",
        "  if len(basic_word_set.intersection(i)) == 1:\n",
        "    count+=1\n",
        "print(count)"
      ],
      "metadata": {
        "colab": {
          "base_uri": "https://localhost:8080/"
        },
        "id": "ZQ7riJLjjXVR",
        "outputId": "6f345e54-fa4c-4c45-99a0-ff519f81e124"
      },
      "execution_count": null,
      "outputs": [
        {
          "output_type": "stream",
          "name": "stdout",
          "text": [
            "33\n"
          ]
        }
      ]
    },
    {
      "cell_type": "code",
      "source": [
        "basic_word_set = set(basic['Word_lem'].to_list())\n",
        "\n",
        "def basic_rank(text): # could also potentially reduce to stem to check as well stampeders should map to stamp\n",
        "  split_sent = text.split()\n",
        "  split_len = len(split_sent)\n",
        "  count = 0\n",
        "  count = len(basic_word_set.intersection(set(split_sent)))\n",
        "  # for i in split_sent:\n",
        "  #   if len(basic_word_set.intersection(i)) == 1:\n",
        "  #     count+=1\n",
        "  try:\n",
        "    return count/split_len\n",
        "  except:\n",
        "    return 0\n",
        "\n",
        "def oov(text): # higher less words oov\n",
        "  split_sent = text.split()\n",
        "  split_len = len(split_sent)\n",
        "  count = 0\n",
        "  for i in split_sent:\n",
        "    if nlp_model.vocab[i].is_oov == False:\n",
        "      count+=1\n",
        "  \n",
        "  try:\n",
        "    return count/split_len\n",
        "  except:\n",
        "    return 0"
      ],
      "metadata": {
        "id": "LhWxepq7c4hj"
      },
      "execution_count": null,
      "outputs": []
    },
    {
      "cell_type": "code",
      "source": [
        "df['basic_rank'] = df['text_lemma'].apply(basic_rank)\n",
        "df['basic_rank_no_punc'] = df['text_lemma_no_punc'].apply(basic_rank) # could be more accurate because not diluted by punctuation\n",
        "\n",
        "# df['oov_rank'] = df['text_lemma'].apply(oov)\n",
        "# df['oov_rank_no_punc'] = df['text_lemma_no_punc'].apply(oov)"
      ],
      "metadata": {
        "id": "p5z5YoF3lGEI"
      },
      "execution_count": null,
      "outputs": []
    },
    {
      "cell_type": "code",
      "source": [
        "df.select_dtypes('number').groupby('label').mean()"
      ],
      "metadata": {
        "colab": {
          "base_uri": "https://localhost:8080/",
          "height": 193
        },
        "id": "DFI-v6mi2Ibx",
        "outputId": "c5801ef9-13de-45bd-a9fb-237f772d5970"
      },
      "execution_count": null,
      "outputs": [
        {
          "output_type": "execute_result",
          "data": {
            "text/plain": [
              "       basic_rank  basic_rank_no_punc  oov_rank  oov_rank_no_punc  word_len  \\\n",
              "label                                                                         \n",
              "0        0.462658            0.520398  0.941628          0.933193  4.551476   \n",
              "1        0.430113            0.486205  0.939914          0.930700  4.536010   \n",
              "\n",
              "       word_len_no_punc    sent_len  word_count_no_punct  word_count  \\\n",
              "label                                                                  \n",
              "0              4.771629   98.056511            16.383830   18.492826   \n",
              "1              4.801225  137.496079            22.274095   25.164029   \n",
              "\n",
              "          punct  ...  concreteness_rank_nan_no_punc_perc  \\\n",
              "label            ...                                       \n",
              "0      1.008456  ...                            2.575678   \n",
              "1      1.674702  ...                            2.517170   \n",
              "\n",
              "       concreteness_rank_no_punc_perc  aol_rank_nan  aol_rank  \\\n",
              "label                                                           \n",
              "0                            1.985906      5.964127  4.066981   \n",
              "1                            1.944086      6.074069  4.090764   \n",
              "\n",
              "       aol_rank_nan_no_punc  aol_rank_no_punc  aol_rank_nan_perc  \\\n",
              "label                                                              \n",
              "0                  5.964127          4.550628           5.361844   \n",
              "1                  6.074069          4.618012           5.405308   \n",
              "\n",
              "       aol_rank_perc  aol_rank_nan_no_punc_perc  aol_rank_no_punc_perc  \n",
              "label                                                                   \n",
              "0           2.927289                   5.361844               3.513191  \n",
              "1           2.962890                   5.405308               3.566259  \n",
              "\n",
              "[2 rows x 27 columns]"
            ],
            "text/html": [
              "<div>\n",
              "<style scoped>\n",
              "    .dataframe tbody tr th:only-of-type {\n",
              "        vertical-align: middle;\n",
              "    }\n",
              "\n",
              "    .dataframe tbody tr th {\n",
              "        vertical-align: top;\n",
              "    }\n",
              "\n",
              "    .dataframe thead th {\n",
              "        text-align: right;\n",
              "    }\n",
              "</style>\n",
              "<table border=\"1\" class=\"dataframe\">\n",
              "  <thead>\n",
              "    <tr style=\"text-align: right;\">\n",
              "      <th></th>\n",
              "      <th>basic_rank</th>\n",
              "      <th>basic_rank_no_punc</th>\n",
              "      <th>oov_rank</th>\n",
              "      <th>oov_rank_no_punc</th>\n",
              "      <th>word_len</th>\n",
              "      <th>word_len_no_punc</th>\n",
              "      <th>sent_len</th>\n",
              "      <th>word_count_no_punct</th>\n",
              "      <th>word_count</th>\n",
              "      <th>punct</th>\n",
              "      <th>...</th>\n",
              "      <th>concreteness_rank_nan_no_punc_perc</th>\n",
              "      <th>concreteness_rank_no_punc_perc</th>\n",
              "      <th>aol_rank_nan</th>\n",
              "      <th>aol_rank</th>\n",
              "      <th>aol_rank_nan_no_punc</th>\n",
              "      <th>aol_rank_no_punc</th>\n",
              "      <th>aol_rank_nan_perc</th>\n",
              "      <th>aol_rank_perc</th>\n",
              "      <th>aol_rank_nan_no_punc_perc</th>\n",
              "      <th>aol_rank_no_punc_perc</th>\n",
              "    </tr>\n",
              "    <tr>\n",
              "      <th>label</th>\n",
              "      <th></th>\n",
              "      <th></th>\n",
              "      <th></th>\n",
              "      <th></th>\n",
              "      <th></th>\n",
              "      <th></th>\n",
              "      <th></th>\n",
              "      <th></th>\n",
              "      <th></th>\n",
              "      <th></th>\n",
              "      <th></th>\n",
              "      <th></th>\n",
              "      <th></th>\n",
              "      <th></th>\n",
              "      <th></th>\n",
              "      <th></th>\n",
              "      <th></th>\n",
              "      <th></th>\n",
              "      <th></th>\n",
              "      <th></th>\n",
              "      <th></th>\n",
              "    </tr>\n",
              "  </thead>\n",
              "  <tbody>\n",
              "    <tr>\n",
              "      <th>0</th>\n",
              "      <td>0.462658</td>\n",
              "      <td>0.520398</td>\n",
              "      <td>0.941628</td>\n",
              "      <td>0.933193</td>\n",
              "      <td>4.551476</td>\n",
              "      <td>4.771629</td>\n",
              "      <td>98.056511</td>\n",
              "      <td>16.383830</td>\n",
              "      <td>18.492826</td>\n",
              "      <td>1.008456</td>\n",
              "      <td>...</td>\n",
              "      <td>2.575678</td>\n",
              "      <td>1.985906</td>\n",
              "      <td>5.964127</td>\n",
              "      <td>4.066981</td>\n",
              "      <td>5.964127</td>\n",
              "      <td>4.550628</td>\n",
              "      <td>5.361844</td>\n",
              "      <td>2.927289</td>\n",
              "      <td>5.361844</td>\n",
              "      <td>3.513191</td>\n",
              "    </tr>\n",
              "    <tr>\n",
              "      <th>1</th>\n",
              "      <td>0.430113</td>\n",
              "      <td>0.486205</td>\n",
              "      <td>0.939914</td>\n",
              "      <td>0.930700</td>\n",
              "      <td>4.536010</td>\n",
              "      <td>4.801225</td>\n",
              "      <td>137.496079</td>\n",
              "      <td>22.274095</td>\n",
              "      <td>25.164029</td>\n",
              "      <td>1.674702</td>\n",
              "      <td>...</td>\n",
              "      <td>2.517170</td>\n",
              "      <td>1.944086</td>\n",
              "      <td>6.074069</td>\n",
              "      <td>4.090764</td>\n",
              "      <td>6.074069</td>\n",
              "      <td>4.618012</td>\n",
              "      <td>5.405308</td>\n",
              "      <td>2.962890</td>\n",
              "      <td>5.405308</td>\n",
              "      <td>3.566259</td>\n",
              "    </tr>\n",
              "  </tbody>\n",
              "</table>\n",
              "<p>2 rows × 27 columns</p>\n",
              "</div>"
            ]
          },
          "metadata": {},
          "execution_count": 51
        }
      ]
    },
    {
      "cell_type": "code",
      "source": [
        "pd.DataFrame(df.select_dtypes('number').groupby('label').mean().to_numpy())"
      ],
      "metadata": {
        "colab": {
          "base_uri": "https://localhost:8080/",
          "height": 141
        },
        "id": "eAl1ZoGPkMjj",
        "outputId": "4b3b4e10-d1db-4965-a5e0-a3793f45ed05"
      },
      "execution_count": null,
      "outputs": [
        {
          "output_type": "execute_result",
          "data": {
            "text/plain": [
              "         0         1         2         3         4         5           6   \\\n",
              "0  0.410897  0.462174  0.941628  0.933193  4.551476  4.771629   98.056511   \n",
              "1  0.406486  0.460685  0.939914  0.930700  4.536010  4.801225  137.496079   \n",
              "\n",
              "          7          8         9   ...        17        18        19  \\\n",
              "0  16.383830  18.492826  1.008456  ...  2.575678  1.985906  5.964127   \n",
              "1  22.274095  25.164029  1.674702  ...  2.517170  1.944086  6.074069   \n",
              "\n",
              "         20        21        22        23        24        25        26  \n",
              "0  4.066981  5.964127  4.550628  5.361844  2.927289  5.361844  3.513191  \n",
              "1  4.090764  6.074069  4.618012  5.405308  2.962890  5.405308  3.566259  \n",
              "\n",
              "[2 rows x 27 columns]"
            ],
            "text/html": [
              "<div>\n",
              "<style scoped>\n",
              "    .dataframe tbody tr th:only-of-type {\n",
              "        vertical-align: middle;\n",
              "    }\n",
              "\n",
              "    .dataframe tbody tr th {\n",
              "        vertical-align: top;\n",
              "    }\n",
              "\n",
              "    .dataframe thead th {\n",
              "        text-align: right;\n",
              "    }\n",
              "</style>\n",
              "<table border=\"1\" class=\"dataframe\">\n",
              "  <thead>\n",
              "    <tr style=\"text-align: right;\">\n",
              "      <th></th>\n",
              "      <th>0</th>\n",
              "      <th>1</th>\n",
              "      <th>2</th>\n",
              "      <th>3</th>\n",
              "      <th>4</th>\n",
              "      <th>5</th>\n",
              "      <th>6</th>\n",
              "      <th>7</th>\n",
              "      <th>8</th>\n",
              "      <th>9</th>\n",
              "      <th>...</th>\n",
              "      <th>17</th>\n",
              "      <th>18</th>\n",
              "      <th>19</th>\n",
              "      <th>20</th>\n",
              "      <th>21</th>\n",
              "      <th>22</th>\n",
              "      <th>23</th>\n",
              "      <th>24</th>\n",
              "      <th>25</th>\n",
              "      <th>26</th>\n",
              "    </tr>\n",
              "  </thead>\n",
              "  <tbody>\n",
              "    <tr>\n",
              "      <th>0</th>\n",
              "      <td>0.410897</td>\n",
              "      <td>0.462174</td>\n",
              "      <td>0.941628</td>\n",
              "      <td>0.933193</td>\n",
              "      <td>4.551476</td>\n",
              "      <td>4.771629</td>\n",
              "      <td>98.056511</td>\n",
              "      <td>16.383830</td>\n",
              "      <td>18.492826</td>\n",
              "      <td>1.008456</td>\n",
              "      <td>...</td>\n",
              "      <td>2.575678</td>\n",
              "      <td>1.985906</td>\n",
              "      <td>5.964127</td>\n",
              "      <td>4.066981</td>\n",
              "      <td>5.964127</td>\n",
              "      <td>4.550628</td>\n",
              "      <td>5.361844</td>\n",
              "      <td>2.927289</td>\n",
              "      <td>5.361844</td>\n",
              "      <td>3.513191</td>\n",
              "    </tr>\n",
              "    <tr>\n",
              "      <th>1</th>\n",
              "      <td>0.406486</td>\n",
              "      <td>0.460685</td>\n",
              "      <td>0.939914</td>\n",
              "      <td>0.930700</td>\n",
              "      <td>4.536010</td>\n",
              "      <td>4.801225</td>\n",
              "      <td>137.496079</td>\n",
              "      <td>22.274095</td>\n",
              "      <td>25.164029</td>\n",
              "      <td>1.674702</td>\n",
              "      <td>...</td>\n",
              "      <td>2.517170</td>\n",
              "      <td>1.944086</td>\n",
              "      <td>6.074069</td>\n",
              "      <td>4.090764</td>\n",
              "      <td>6.074069</td>\n",
              "      <td>4.618012</td>\n",
              "      <td>5.405308</td>\n",
              "      <td>2.962890</td>\n",
              "      <td>5.405308</td>\n",
              "      <td>3.566259</td>\n",
              "    </tr>\n",
              "  </tbody>\n",
              "</table>\n",
              "<p>2 rows × 27 columns</p>\n",
              "</div>"
            ]
          },
          "metadata": {},
          "execution_count": 40
        }
      ]
    },
    {
      "cell_type": "code",
      "source": [
        "from collections import defaultdict\n",
        "d = defaultdict(float, {'a':3.23423})"
      ],
      "metadata": {
        "id": "LjzC8IgQmkRn"
      },
      "execution_count": null,
      "outputs": []
    },
    {
      "cell_type": "code",
      "source": [
        "concreteness_dict = dict(zip(concreteness['Word_lem'],concreteness['Conc.M'] )) # should also try scaling by perc known can multiple right here when creating initial dict\n",
        "concreteness_dict_perc = dict(zip(concreteness['Word_lem'],concreteness['Conc.M']*concreteness['Percent_known'] )) # should also try scaling by perc known can multiple right here when creating initial dict\n",
        "def concreteness_rank(text):\n",
        "  import numpy as np\n",
        "  from collections import defaultdict\n",
        "  temp_dict = defaultdict(float, concreteness_dict)\n",
        "  split_sent = text.split()\n",
        "\n",
        "  text_array = np.array([temp_dict[i] for i in split_sent]) # if not present substitute 0 should think about making nan ht = defaultdict(lambda:np.Nan, ht), arr[arr == 0] = 'nan' # or use np.nan\n",
        "\n",
        "  average_array = np.nanmean(text_array)\n",
        "\n",
        "\n",
        "  return average_array\n",
        "\n",
        "def concreteness_rank_nan(text):\n",
        "  import numpy as np\n",
        "  from collections import defaultdict\n",
        "  temp_dict = defaultdict(float, concreteness_dict)\n",
        "  split_sent = text.split()\n",
        "\n",
        "  text_array = np.array([temp_dict[i] for i in split_sent]) # if not present substitute 0 should think about making nan ht = defaultdict(lambda:np.Nan, ht), arr[arr == 0] = 'nan' # or use np.nan\n",
        "  text_array[text_array == 0.0] = np.nan\n",
        "  average_array = np.nanmean(text_array)\n",
        "\n",
        "\n",
        "  return average_array\n",
        "\n",
        "def concreteness_rank_perc(text):\n",
        "  import numpy as np\n",
        "  from collections import defaultdict\n",
        "  temp_dict = defaultdict(float, concreteness_dict_perc)\n",
        "  split_sent = text.split()\n",
        "\n",
        "  text_array = np.array([temp_dict[i] for i in split_sent]) # if not present substitute 0 should think about making nan ht = defaultdict(lambda:np.Nan, ht), arr[arr == 0] = 'nan' # or use np.nan\n",
        "\n",
        "  average_array = np.nanmean(text_array)\n",
        "\n",
        "\n",
        "  return average_array\n",
        "\n",
        "def concreteness_rank_nan_perc(text):\n",
        "  import numpy as np\n",
        "  from collections import defaultdict\n",
        "  temp_dict = defaultdict(float, concreteness_dict_perc)\n",
        "  split_sent = text.split()\n",
        "\n",
        "  text_array = np.array([temp_dict[i] for i in split_sent]) # if not present substitute 0 should think about making nan ht = defaultdict(lambda:np.Nan, ht), arr[arr == 0] = 'nan' # or use np.nan\n",
        "  text_array[text_array == 0.0] = np.nan\n",
        "  average_array = np.nanmean(text_array)\n",
        "\n",
        "\n",
        "  return average_array\n"
      ],
      "metadata": {
        "id": "6osHzRQ3orfi"
      },
      "execution_count": null,
      "outputs": []
    },
    {
      "cell_type": "code",
      "source": [
        "aol_dict = dict(zip(aol['Word_lem'],aol['AoA_Kup_lem'] )) \n",
        "def aol_rank(text):\n",
        "  import numpy as np\n",
        "  from collections import defaultdict\n",
        "  temp_dict = defaultdict(float, aol_dict)\n",
        "  split_sent = text.split()\n",
        "\n",
        "  text_array = np.array([temp_dict[i] for i in split_sent]) # if not present substitute 0 should think about making nan ht = defaultdict(lambda:np.Nan, ht), arr[arr == 0] = 'nan' # or use np.nan\n",
        "\n",
        "  average_array = np.nanmean(text_array)\n",
        "\n",
        "\n",
        "  return average_array\n",
        "\n",
        "\n",
        "def aol_rank_nan(text):\n",
        "  import numpy as np\n",
        "  from collections import defaultdict\n",
        "  temp_dict = defaultdict(float, aol_dict)\n",
        "  split_sent = text.split()\n",
        "\n",
        "  text_array = np.array([temp_dict[i] for i in split_sent]) # if not present substitute 0 should think about making nan ht = defaultdict(lambda:np.Nan, ht), arr[arr == 0] = 'nan' # or use np.nan\n",
        "  text_array[text_array == 0.0] = np.nan\n",
        "  average_array = np.nanmean(text_array)\n",
        "\n",
        "\n",
        "  return average_array\n",
        "\n",
        "\n",
        "aol_dict_perc = dict(zip(aol['Word_lem'],aol['AoA_Kup_lem']*aol['Perc_known'] )) \n",
        "def aol_rank_perc(text):\n",
        "  import numpy as np\n",
        "  from collections import defaultdict\n",
        "  temp_dict = defaultdict(float, aol_dict_perc)\n",
        "  split_sent = text.split()\n",
        "\n",
        "  text_array = np.array([temp_dict[i] for i in split_sent]) # if not present substitute 0 should think about making nan ht = defaultdict(lambda:np.Nan, ht), arr[arr == 0] = 'nan' # or use np.nan\n",
        "\n",
        "  average_array = np.nanmean(text_array)\n",
        "\n",
        "\n",
        "  return average_array\n",
        "\n",
        "\n",
        "def aol_rank_nan_perc(text):\n",
        "  import numpy as np\n",
        "  from collections import defaultdict\n",
        "  temp_dict = defaultdict(float, aol_dict_perc)\n",
        "  split_sent = text.split()\n",
        "\n",
        "  text_array = np.array([temp_dict[i] for i in split_sent]) # if not present substitute 0 should think about making nan ht = defaultdict(lambda:np.Nan, ht), arr[arr == 0] = 'nan' # or use np.nan\n",
        "  text_array[text_array == 0.0] = np.nan\n",
        "  average_array = np.nanmean(text_array)\n",
        "\n",
        "\n",
        "  return average_array"
      ],
      "metadata": {
        "id": "r-2K2Cwzv0eB"
      },
      "execution_count": null,
      "outputs": []
    },
    {
      "cell_type": "code",
      "source": [
        "def sent_length(text):\n",
        "  return len(text)\n",
        "\n",
        "def word_count(text):\n",
        "  return len(text.split())\n",
        "\n",
        "def word_length(text): #original text\n",
        "\n",
        "  import numpy as np\n",
        "  split_sent = [w for w in tokenizer(text) if nlp_model.vocab[w.lemma_].is_punct == False]\n",
        "  \n",
        "\n",
        "  text_array = np.array([len(i) for i in split_sent]) # if not present substitute 0 should think about making nan ht = defaultdict(lambda:np.Nan, ht), arr[arr == 0] = 'nan' # or use np.nan\n",
        "  average_array = np.nanmean(text_array)\n",
        "\n",
        "\n",
        "  return average_array\n",
        "\n",
        "def stop_word(text): #original text\n",
        "  split_sent = [w for w in tokenizer(text) if nlp_model.vocab[w.lemma_].is_stop == True]\n",
        "  return len(split_sent)\n",
        "\n",
        "\n",
        "def numbers(text): #original text\n",
        "  split_sent = [w for w in tokenizer(text) if nlp_model.vocab[w.lemma_].is_digit == True]\n",
        "  return len(split_sent)\n",
        "\n",
        "\n"
      ],
      "metadata": {
        "id": "tMM7arjh27we"
      },
      "execution_count": null,
      "outputs": []
    },
    {
      "cell_type": "code",
      "source": [
        "d = tokenizer('66')\n",
        "d.i\n"
      ],
      "metadata": {
        "id": "l5IgstDvEHWQ"
      },
      "execution_count": null,
      "outputs": []
    },
    {
      "cell_type": "code",
      "source": [
        "nlp_model.vocab['the'].is_stop"
      ],
      "metadata": {
        "colab": {
          "base_uri": "https://localhost:8080/"
        },
        "id": "r0uyXIIyD7jJ",
        "outputId": "d8595548-150d-4395-a7c1-1a57bb5c30e8"
      },
      "execution_count": null,
      "outputs": [
        {
          "output_type": "execute_result",
          "data": {
            "text/plain": [
              "True"
            ]
          },
          "metadata": {},
          "execution_count": 100
        }
      ]
    },
    {
      "cell_type": "code",
      "source": [
        "def rare_punctuation(text):\n",
        "  import string \n",
        "      \n",
        "  # Storing the sets of punctuation in variable result \n",
        "  result = '''!\"#$%&'()*+,-./:;<=>?@[\\]^_`{|}~ #'''# removed quotes and .\n",
        "  \n",
        "  split_sent = text.split()\n",
        "  count = 0\n",
        "  for i in split_sent:\n",
        "    if i in result:\n",
        "      count +=1\n",
        "\n",
        "  return count\n"
      ],
      "metadata": {
        "id": "us9HpGIo27we"
      },
      "execution_count": null,
      "outputs": []
    },
    {
      "cell_type": "code",
      "source": [
        "df"
      ],
      "metadata": {
        "id": "NgXA4drC35LP"
      },
      "execution_count": null,
      "outputs": []
    },
    {
      "cell_type": "code",
      "source": [
        "df['word_len'] = df['original_text'].apply(word_length) #lemmatize will shorten only tokenize\n",
        "\n",
        "\n",
        "df['stop_word'] = df['original_text'].apply(stop_word)\n",
        "df['nums'] = df['original_text'].apply(numbers)\n",
        "\n",
        "df['word_len_no_punc'] = df['text_lemma_no_punc'].apply(word_length)\n",
        "\n",
        "df['sent_len'] = df['original_text'].apply(sent_length)\n",
        "\n",
        "df['word_count_no_punct'] = df['text_lemma_no_punc'].apply(word_count)\n",
        "df['word_count'] = df['text_lemma'].apply(word_count)\n",
        "\n",
        "\n",
        "df['punct'] = df['original_text'].apply(rare_punctuation)\n",
        "df['punct_lemm'] = df['text_lemma'].apply(rare_punctuation)"
      ],
      "metadata": {
        "id": "Dj730kW827wf"
      },
      "execution_count": null,
      "outputs": []
    },
    {
      "cell_type": "markdown",
      "source": [
        "with using nans have the option to make zero if none show up; also prevents the situation where they are concrete words with zero scoring entities in the sentence bringing the score way down"
      ],
      "metadata": {
        "id": "3aYj8PabBQuu"
      }
    },
    {
      "cell_type": "code",
      "source": [
        "df['concreteness_rank_nan'] = df['text_lemma'].apply(concreteness_rank_nan)\n",
        "df['concreteness_rank'] = df['text_lemma'].apply(concreteness_rank)\n",
        "\n",
        "df['concreteness_rank_nan_no_punc'] = df['text_lemma_no_punc'].apply(concreteness_rank_nan)\n",
        "df['concreteness_rank_no_punc'] = df['text_lemma_no_punc'].apply(concreteness_rank)\n",
        "\n",
        "df['concreteness_rank_nan_perc'] = df['text_lemma'].apply(concreteness_rank_nan_perc)\n",
        "df['concreteness_rank_perc'] = df['text_lemma'].apply(concreteness_rank_perc)\n",
        "\n",
        "df['concreteness_rank_nan_no_punc_perc'] = df['text_lemma_no_punc'].apply(concreteness_rank_nan_perc)\n",
        "df['concreteness_rank_no_punc_perc'] = df['text_lemma_no_punc'].apply(concreteness_rank_perc)\n",
        "\n",
        "\n",
        "\n",
        "df['aol_rank_nan'] = df['text_lemma'].apply(aol_rank_nan)\n",
        "df['aol_rank'] = df['text_lemma'].apply(aol_rank)\n",
        "\n",
        "df['aol_rank_nan_no_punc'] = df['text_lemma_no_punc'].apply(aol_rank_nan)\n",
        "df['aol_rank_no_punc'] = df['text_lemma_no_punc'].apply(aol_rank)\n",
        "\n",
        "\n",
        "df['aol_rank_nan_perc'] = df['text_lemma'].apply(aol_rank_nan_perc)\n",
        "df['aol_rank_perc'] = df['text_lemma'].apply(aol_rank_perc)\n",
        "\n",
        "df['aol_rank_nan_no_punc_perc'] = df['text_lemma_no_punc'].apply(aol_rank_nan_perc)\n",
        "df['aol_rank_no_punc_perc'] = df['text_lemma_no_punc'].apply(aol_rank_perc)"
      ],
      "metadata": {
        "colab": {
          "base_uri": "https://localhost:8080/"
        },
        "id": "OOj6QnbXsiXO",
        "outputId": "80fb3a94-c175-40fc-d356-a17f46c9863c"
      },
      "execution_count": null,
      "outputs": [
        {
          "output_type": "stream",
          "name": "stderr",
          "text": [
            "C:\\Users\\corsi\\AppData\\Local\\Temp/ipykernel_7552/1460970154.py:24: RuntimeWarning: Mean of empty slice\n",
            "  average_array = np.nanmean(text_array)\n",
            "C:\\Users\\corsi\\AppData\\Local\\Temp/ipykernel_7552/1460970154.py:11: RuntimeWarning: Mean of empty slice\n",
            "  average_array = np.nanmean(text_array)\n",
            "C:\\Users\\corsi\\AppData\\Local\\Temp/ipykernel_7552/1460970154.py:50: RuntimeWarning: Mean of empty slice\n",
            "  average_array = np.nanmean(text_array)\n",
            "C:\\Users\\corsi\\AppData\\Local\\Temp/ipykernel_7552/1460970154.py:37: RuntimeWarning: Mean of empty slice\n",
            "  average_array = np.nanmean(text_array)\n",
            "C:\\Users\\corsi\\AppData\\Local\\Temp/ipykernel_7552/3577557391.py:10: RuntimeWarning: Mean of empty slice\n",
            "  average_array = np.nanmean(text_array)\n",
            "C:\\Users\\corsi\\AppData\\Local\\Temp/ipykernel_7552/3577557391.py:53: RuntimeWarning: Mean of empty slice\n",
            "  average_array = np.nanmean(text_array)\n",
            "C:\\Users\\corsi\\AppData\\Local\\Temp/ipykernel_7552/3577557391.py:39: RuntimeWarning: Mean of empty slice\n",
            "  average_array = np.nanmean(text_array)\n"
          ]
        }
      ]
    },
    {
      "cell_type": "code",
      "source": [
        "df = pd.read_csv(r'C:\\Users\\corsi\\Downloads\\umich-siads-695-fall21-predicting-text-difficulty\\df_train_with_ranks.csv')\n",
        "df = df.drop(columns=['Unnamed: 0'])"
      ],
      "metadata": {
        "id": "K4SL-s-8LTTn"
      },
      "execution_count": null,
      "outputs": []
    },
    {
      "cell_type": "code",
      "source": [
        "from sklearn.feature_selection import mutual_info_classif\n",
        "df_test_drop = df.copy().dropna()\n",
        "df_test_drop = df_test_drop.select_dtypes('number')\n",
        "df_test_drop.pop('label')\n",
        "# label = df['label'].copy()\n",
        "# normalized_df=(df_test_drop-df_test_drop.mean())/df_test_drop.std()\n",
        "\n",
        "# normalized_df = pd.concat([normalized_df,label], axis=1)\n",
        "\n",
        "from sklearn.preprocessing import MinMaxScaler, StandardScaler\n",
        "\n",
        "scaler = MinMaxScaler()\n",
        "standard = StandardScaler()\n",
        "normalized_df = pd.DataFrame(standard.fit_transform(df_test_drop), columns=df_test_drop.columns)\n",
        "normalized_df = pd.concat([normalized_df,label], axis=1)\n",
        "X = normalized_df.dropna()\n",
        "y = X['label']\n",
        "X.pop('label')\n",
        "\n",
        "#mutual_info_classif(X,y)"
      ],
      "metadata": {
        "colab": {
          "base_uri": "https://localhost:8080/"
        },
        "id": "V6XNk3r220hS",
        "outputId": "60f74763-28d7-4588-f3e8-9745cc15b698"
      },
      "execution_count": null,
      "outputs": [
        {
          "output_type": "execute_result",
          "data": {
            "text/plain": [
              "0         1\n",
              "1         1\n",
              "2         1\n",
              "3         1\n",
              "4         1\n",
              "         ..\n",
              "394875    0\n",
              "394876    0\n",
              "394877    0\n",
              "394878    0\n",
              "394879    0\n",
              "Name: label, Length: 394880, dtype: int64"
            ]
          },
          "metadata": {},
          "execution_count": 42
        }
      ]
    },
    {
      "cell_type": "code",
      "source": [
        ""
      ],
      "metadata": {
        "colab": {
          "base_uri": "https://localhost:8080/",
          "height": 443
        },
        "id": "0M1TYBJWLh0o",
        "outputId": "0153e538-8e4e-4d34-8d2b-71e19930a060"
      },
      "execution_count": null,
      "outputs": [
        {
          "output_type": "execute_result",
          "data": {
            "text/plain": [
              "        basic_rank  basic_rank_no_punc  oov_rank  oov_rank_no_punc  word_len  \\\n",
              "0        -0.762827           -0.778390  0.707119          0.705499 -0.642527   \n",
              "1        -1.064526           -1.158225 -1.038694         -0.976045  1.640847   \n",
              "2         0.114842            0.020040  0.125181          0.144984 -0.205929   \n",
              "3        -0.172440            0.066066  0.707119          0.705499  1.756270   \n",
              "4        -1.433079           -1.231867 -2.267229         -2.657588  0.944521   \n",
              "...            ...                 ...       ...               ...       ...   \n",
              "416763         NaN                 NaN       NaN               NaN       NaN   \n",
              "416764         NaN                 NaN       NaN               NaN       NaN   \n",
              "416765         NaN                 NaN       NaN               NaN       NaN   \n",
              "416766         NaN                 NaN       NaN               NaN       NaN   \n",
              "416767         NaN                 NaN       NaN               NaN       NaN   \n",
              "\n",
              "        word_len_no_punc  sent_len  word_count_no_punct  word_count     punct  \\\n",
              "0              -0.788944  1.351384             1.622283    1.644173  0.941297   \n",
              "1               1.662705  0.454031             0.069790    0.013198 -0.228301   \n",
              "2              -0.433910  1.836837             1.987575    1.888819  0.941297   \n",
              "3               1.144248  1.807416             1.074344    1.317978  2.695694   \n",
              "4               1.206919  1.145434             0.709052    1.073332  3.280493   \n",
              "...                  ...       ...                  ...         ...       ...   \n",
              "416763               NaN       NaN                  NaN         NaN       NaN   \n",
              "416764               NaN       NaN                  NaN         NaN       NaN   \n",
              "416765               NaN       NaN                  NaN         NaN       NaN   \n",
              "416766               NaN       NaN                  NaN         NaN       NaN   \n",
              "416767               NaN       NaN                  NaN         NaN       NaN   \n",
              "\n",
              "        ...  aol_rank_nan_no_punc  aol_rank_no_punc  aol_rank_nan_perc  \\\n",
              "0       ...             -0.214257         -0.200127          -0.397169   \n",
              "1       ...              1.641309          0.530067           0.932549   \n",
              "2       ...             -0.588397          0.114364          -0.419850   \n",
              "3       ...              0.848776          1.340162           1.481832   \n",
              "4       ...             -0.638582         -1.432759          -0.140505   \n",
              "...     ...                   ...               ...                ...   \n",
              "416763  ...                   NaN               NaN                NaN   \n",
              "416764  ...                   NaN               NaN                NaN   \n",
              "416765  ...                   NaN               NaN                NaN   \n",
              "416766  ...                   NaN               NaN                NaN   \n",
              "416767  ...                   NaN               NaN                NaN   \n",
              "\n",
              "        aol_rank_perc  aol_rank_nan_no_punc_perc  aol_rank_no_punc_perc  \\\n",
              "0           -0.379121                  -0.397169              -0.389868   \n",
              "1           -0.079865                   0.932549              -0.180294   \n",
              "2            0.238059                  -0.419850               0.176484   \n",
              "3            0.447710                   1.481832               1.450017   \n",
              "4           -0.903783                  -0.140505              -0.805925   \n",
              "...               ...                        ...                    ...   \n",
              "416763            NaN                        NaN                    NaN   \n",
              "416764            NaN                        NaN                    NaN   \n",
              "416765            NaN                        NaN                    NaN   \n",
              "416766            NaN                        NaN                    NaN   \n",
              "416767            NaN                        NaN                    NaN   \n",
              "\n",
              "        stop_word      nums  label  label  \n",
              "0        1.565746  2.046333      1      1  \n",
              "1       -0.289028 -0.563125      1      1  \n",
              "2        2.678610 -0.563125      1      1  \n",
              "3       -0.474505 -0.563125      1      1  \n",
              "4        0.638359 -0.563125      1      1  \n",
              "...           ...       ...    ...    ...  \n",
              "416763        NaN       NaN      0      0  \n",
              "416764        NaN       NaN      0      0  \n",
              "416765        NaN       NaN      0      0  \n",
              "416766        NaN       NaN      0      0  \n",
              "416767        NaN       NaN      0      0  \n",
              "\n",
              "[416768 rows x 31 columns]"
            ],
            "text/html": [
              "<div>\n",
              "<style scoped>\n",
              "    .dataframe tbody tr th:only-of-type {\n",
              "        vertical-align: middle;\n",
              "    }\n",
              "\n",
              "    .dataframe tbody tr th {\n",
              "        vertical-align: top;\n",
              "    }\n",
              "\n",
              "    .dataframe thead th {\n",
              "        text-align: right;\n",
              "    }\n",
              "</style>\n",
              "<table border=\"1\" class=\"dataframe\">\n",
              "  <thead>\n",
              "    <tr style=\"text-align: right;\">\n",
              "      <th></th>\n",
              "      <th>basic_rank</th>\n",
              "      <th>basic_rank_no_punc</th>\n",
              "      <th>oov_rank</th>\n",
              "      <th>oov_rank_no_punc</th>\n",
              "      <th>word_len</th>\n",
              "      <th>word_len_no_punc</th>\n",
              "      <th>sent_len</th>\n",
              "      <th>word_count_no_punct</th>\n",
              "      <th>word_count</th>\n",
              "      <th>punct</th>\n",
              "      <th>...</th>\n",
              "      <th>aol_rank_nan_no_punc</th>\n",
              "      <th>aol_rank_no_punc</th>\n",
              "      <th>aol_rank_nan_perc</th>\n",
              "      <th>aol_rank_perc</th>\n",
              "      <th>aol_rank_nan_no_punc_perc</th>\n",
              "      <th>aol_rank_no_punc_perc</th>\n",
              "      <th>stop_word</th>\n",
              "      <th>nums</th>\n",
              "      <th>label</th>\n",
              "      <th>label</th>\n",
              "    </tr>\n",
              "  </thead>\n",
              "  <tbody>\n",
              "    <tr>\n",
              "      <th>0</th>\n",
              "      <td>-0.762827</td>\n",
              "      <td>-0.778390</td>\n",
              "      <td>0.707119</td>\n",
              "      <td>0.705499</td>\n",
              "      <td>-0.642527</td>\n",
              "      <td>-0.788944</td>\n",
              "      <td>1.351384</td>\n",
              "      <td>1.622283</td>\n",
              "      <td>1.644173</td>\n",
              "      <td>0.941297</td>\n",
              "      <td>...</td>\n",
              "      <td>-0.214257</td>\n",
              "      <td>-0.200127</td>\n",
              "      <td>-0.397169</td>\n",
              "      <td>-0.379121</td>\n",
              "      <td>-0.397169</td>\n",
              "      <td>-0.389868</td>\n",
              "      <td>1.565746</td>\n",
              "      <td>2.046333</td>\n",
              "      <td>1</td>\n",
              "      <td>1</td>\n",
              "    </tr>\n",
              "    <tr>\n",
              "      <th>1</th>\n",
              "      <td>-1.064526</td>\n",
              "      <td>-1.158225</td>\n",
              "      <td>-1.038694</td>\n",
              "      <td>-0.976045</td>\n",
              "      <td>1.640847</td>\n",
              "      <td>1.662705</td>\n",
              "      <td>0.454031</td>\n",
              "      <td>0.069790</td>\n",
              "      <td>0.013198</td>\n",
              "      <td>-0.228301</td>\n",
              "      <td>...</td>\n",
              "      <td>1.641309</td>\n",
              "      <td>0.530067</td>\n",
              "      <td>0.932549</td>\n",
              "      <td>-0.079865</td>\n",
              "      <td>0.932549</td>\n",
              "      <td>-0.180294</td>\n",
              "      <td>-0.289028</td>\n",
              "      <td>-0.563125</td>\n",
              "      <td>1</td>\n",
              "      <td>1</td>\n",
              "    </tr>\n",
              "    <tr>\n",
              "      <th>2</th>\n",
              "      <td>0.114842</td>\n",
              "      <td>0.020040</td>\n",
              "      <td>0.125181</td>\n",
              "      <td>0.144984</td>\n",
              "      <td>-0.205929</td>\n",
              "      <td>-0.433910</td>\n",
              "      <td>1.836837</td>\n",
              "      <td>1.987575</td>\n",
              "      <td>1.888819</td>\n",
              "      <td>0.941297</td>\n",
              "      <td>...</td>\n",
              "      <td>-0.588397</td>\n",
              "      <td>0.114364</td>\n",
              "      <td>-0.419850</td>\n",
              "      <td>0.238059</td>\n",
              "      <td>-0.419850</td>\n",
              "      <td>0.176484</td>\n",
              "      <td>2.678610</td>\n",
              "      <td>-0.563125</td>\n",
              "      <td>1</td>\n",
              "      <td>1</td>\n",
              "    </tr>\n",
              "    <tr>\n",
              "      <th>3</th>\n",
              "      <td>-0.172440</td>\n",
              "      <td>0.066066</td>\n",
              "      <td>0.707119</td>\n",
              "      <td>0.705499</td>\n",
              "      <td>1.756270</td>\n",
              "      <td>1.144248</td>\n",
              "      <td>1.807416</td>\n",
              "      <td>1.074344</td>\n",
              "      <td>1.317978</td>\n",
              "      <td>2.695694</td>\n",
              "      <td>...</td>\n",
              "      <td>0.848776</td>\n",
              "      <td>1.340162</td>\n",
              "      <td>1.481832</td>\n",
              "      <td>0.447710</td>\n",
              "      <td>1.481832</td>\n",
              "      <td>1.450017</td>\n",
              "      <td>-0.474505</td>\n",
              "      <td>-0.563125</td>\n",
              "      <td>1</td>\n",
              "      <td>1</td>\n",
              "    </tr>\n",
              "    <tr>\n",
              "      <th>4</th>\n",
              "      <td>-1.433079</td>\n",
              "      <td>-1.231867</td>\n",
              "      <td>-2.267229</td>\n",
              "      <td>-2.657588</td>\n",
              "      <td>0.944521</td>\n",
              "      <td>1.206919</td>\n",
              "      <td>1.145434</td>\n",
              "      <td>0.709052</td>\n",
              "      <td>1.073332</td>\n",
              "      <td>3.280493</td>\n",
              "      <td>...</td>\n",
              "      <td>-0.638582</td>\n",
              "      <td>-1.432759</td>\n",
              "      <td>-0.140505</td>\n",
              "      <td>-0.903783</td>\n",
              "      <td>-0.140505</td>\n",
              "      <td>-0.805925</td>\n",
              "      <td>0.638359</td>\n",
              "      <td>-0.563125</td>\n",
              "      <td>1</td>\n",
              "      <td>1</td>\n",
              "    </tr>\n",
              "    <tr>\n",
              "      <th>...</th>\n",
              "      <td>...</td>\n",
              "      <td>...</td>\n",
              "      <td>...</td>\n",
              "      <td>...</td>\n",
              "      <td>...</td>\n",
              "      <td>...</td>\n",
              "      <td>...</td>\n",
              "      <td>...</td>\n",
              "      <td>...</td>\n",
              "      <td>...</td>\n",
              "      <td>...</td>\n",
              "      <td>...</td>\n",
              "      <td>...</td>\n",
              "      <td>...</td>\n",
              "      <td>...</td>\n",
              "      <td>...</td>\n",
              "      <td>...</td>\n",
              "      <td>...</td>\n",
              "      <td>...</td>\n",
              "      <td>...</td>\n",
              "      <td>...</td>\n",
              "    </tr>\n",
              "    <tr>\n",
              "      <th>416763</th>\n",
              "      <td>NaN</td>\n",
              "      <td>NaN</td>\n",
              "      <td>NaN</td>\n",
              "      <td>NaN</td>\n",
              "      <td>NaN</td>\n",
              "      <td>NaN</td>\n",
              "      <td>NaN</td>\n",
              "      <td>NaN</td>\n",
              "      <td>NaN</td>\n",
              "      <td>NaN</td>\n",
              "      <td>...</td>\n",
              "      <td>NaN</td>\n",
              "      <td>NaN</td>\n",
              "      <td>NaN</td>\n",
              "      <td>NaN</td>\n",
              "      <td>NaN</td>\n",
              "      <td>NaN</td>\n",
              "      <td>NaN</td>\n",
              "      <td>NaN</td>\n",
              "      <td>0</td>\n",
              "      <td>0</td>\n",
              "    </tr>\n",
              "    <tr>\n",
              "      <th>416764</th>\n",
              "      <td>NaN</td>\n",
              "      <td>NaN</td>\n",
              "      <td>NaN</td>\n",
              "      <td>NaN</td>\n",
              "      <td>NaN</td>\n",
              "      <td>NaN</td>\n",
              "      <td>NaN</td>\n",
              "      <td>NaN</td>\n",
              "      <td>NaN</td>\n",
              "      <td>NaN</td>\n",
              "      <td>...</td>\n",
              "      <td>NaN</td>\n",
              "      <td>NaN</td>\n",
              "      <td>NaN</td>\n",
              "      <td>NaN</td>\n",
              "      <td>NaN</td>\n",
              "      <td>NaN</td>\n",
              "      <td>NaN</td>\n",
              "      <td>NaN</td>\n",
              "      <td>0</td>\n",
              "      <td>0</td>\n",
              "    </tr>\n",
              "    <tr>\n",
              "      <th>416765</th>\n",
              "      <td>NaN</td>\n",
              "      <td>NaN</td>\n",
              "      <td>NaN</td>\n",
              "      <td>NaN</td>\n",
              "      <td>NaN</td>\n",
              "      <td>NaN</td>\n",
              "      <td>NaN</td>\n",
              "      <td>NaN</td>\n",
              "      <td>NaN</td>\n",
              "      <td>NaN</td>\n",
              "      <td>...</td>\n",
              "      <td>NaN</td>\n",
              "      <td>NaN</td>\n",
              "      <td>NaN</td>\n",
              "      <td>NaN</td>\n",
              "      <td>NaN</td>\n",
              "      <td>NaN</td>\n",
              "      <td>NaN</td>\n",
              "      <td>NaN</td>\n",
              "      <td>0</td>\n",
              "      <td>0</td>\n",
              "    </tr>\n",
              "    <tr>\n",
              "      <th>416766</th>\n",
              "      <td>NaN</td>\n",
              "      <td>NaN</td>\n",
              "      <td>NaN</td>\n",
              "      <td>NaN</td>\n",
              "      <td>NaN</td>\n",
              "      <td>NaN</td>\n",
              "      <td>NaN</td>\n",
              "      <td>NaN</td>\n",
              "      <td>NaN</td>\n",
              "      <td>NaN</td>\n",
              "      <td>...</td>\n",
              "      <td>NaN</td>\n",
              "      <td>NaN</td>\n",
              "      <td>NaN</td>\n",
              "      <td>NaN</td>\n",
              "      <td>NaN</td>\n",
              "      <td>NaN</td>\n",
              "      <td>NaN</td>\n",
              "      <td>NaN</td>\n",
              "      <td>0</td>\n",
              "      <td>0</td>\n",
              "    </tr>\n",
              "    <tr>\n",
              "      <th>416767</th>\n",
              "      <td>NaN</td>\n",
              "      <td>NaN</td>\n",
              "      <td>NaN</td>\n",
              "      <td>NaN</td>\n",
              "      <td>NaN</td>\n",
              "      <td>NaN</td>\n",
              "      <td>NaN</td>\n",
              "      <td>NaN</td>\n",
              "      <td>NaN</td>\n",
              "      <td>NaN</td>\n",
              "      <td>...</td>\n",
              "      <td>NaN</td>\n",
              "      <td>NaN</td>\n",
              "      <td>NaN</td>\n",
              "      <td>NaN</td>\n",
              "      <td>NaN</td>\n",
              "      <td>NaN</td>\n",
              "      <td>NaN</td>\n",
              "      <td>NaN</td>\n",
              "      <td>0</td>\n",
              "      <td>0</td>\n",
              "    </tr>\n",
              "  </tbody>\n",
              "</table>\n",
              "<p>416768 rows × 31 columns</p>\n",
              "</div>"
            ]
          },
          "metadata": {},
          "execution_count": 40
        }
      ]
    },
    {
      "cell_type": "code",
      "source": [
        "def make_mi_scores(X, y):\n",
        "    mi_scores = mutual_info_classif(X, y)\n",
        "    mi_scores = pd.Series(mi_scores, name=\"MI Scores\", index=X.columns)\n",
        "    mi_scores = mi_scores.sort_values(ascending=False)\n",
        "    return mi_scores\n",
        "\n",
        "mi_scores = make_mi_scores(X, y)"
      ],
      "metadata": {
        "id": "63MgfwKw20WD"
      },
      "execution_count": null,
      "outputs": []
    },
    {
      "cell_type": "code",
      "source": [
        "import matplotlib.pyplot as plt\n",
        "%matplotlib inline\n",
        "def plot_mi_scores(scores):\n",
        "    import numpy as np\n",
        "    import matplotlib.pyplot as plt\n",
        "    scores = scores.sort_values(ascending=True)\n",
        "    width = np.arange(len(scores))\n",
        "    ticks = list(scores.index)\n",
        "    plt.barh(width, scores)\n",
        "    plt.yticks(width, ticks)\n",
        "    plt.title(\"Mutual Information Scores\")\n",
        "    print(ticks)\n",
        "\n",
        "plt.figure(dpi=100, figsize=(8, 5))\n",
        "plot_mi_scores(mi_scores)"
      ],
      "metadata": {
        "colab": {
          "base_uri": "https://localhost:8080/",
          "height": 498
        },
        "id": "vgMtqz_qmoA8",
        "outputId": "f85b5a9d-d03a-4d47-d32a-5e1703ab9286"
      },
      "execution_count": null,
      "outputs": [
        {
          "output_type": "stream",
          "name": "stdout",
          "text": [
            "['nums', 'oov_rank', 'stop_word', 'oov_rank_no_punc', 'punct_lemm', 'punct', 'word_len_no_punc', 'word_len', 'basic_rank', 'basic_rank_no_punc', 'word_count_no_punct', 'word_count', 'sent_len', 'concreteness_rank_nan_no_punc', 'concreteness_rank_nan', 'concreteness_rank_no_punc', 'concreteness_rank', 'aol_rank_nan_no_punc_perc', 'aol_rank_nan_perc', 'aol_rank_no_punc', 'aol_rank_nan', 'aol_rank_nan_no_punc', 'aol_rank', 'aol_rank_no_punc_perc', 'aol_rank_perc', 'concreteness_rank_nan_perc', 'concreteness_rank_nan_no_punc_perc', 'concreteness_rank_no_punc_perc', 'concreteness_rank_perc']\n"
          ]
        },
        {
          "output_type": "display_data",
          "data": {
            "text/plain": [
              "<Figure size 800x500 with 1 Axes>"
            ],
            "image/png": "[encoded data removed]"
          },
          "metadata": {
            "needs_background": "light"
          }
        }
      ]
    },
    {
      "cell_type": "markdown",
      "source": [
        "![image.png](data:image/png;base64,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)"
      ],
      "metadata": {
        "id": "DmV6P3rEqz-q"
      }
    },
    {
      "cell_type": "code",
      "source": [
        "normalized_df.groupby('label').mean()"
      ],
      "metadata": {
        "colab": {
          "base_uri": "https://localhost:8080/",
          "height": 193
        },
        "id": "WCWf9EPBPv6K",
        "outputId": "d95c4934-c01a-45df-87d1-ac2960afaeaf"
      },
      "execution_count": null,
      "outputs": [
        {
          "output_type": "execute_result",
          "data": {
            "text/plain": [
              "       basic_rank  basic_rank_no_punc  oov_rank  oov_rank_no_punc  word_len  \\\n",
              "label                                                                         \n",
              "0        0.161909            0.162336  0.026629          0.027367 -0.098289   \n",
              "1       -0.144902           -0.145285 -0.023832         -0.024493  0.087965   \n",
              "\n",
              "       word_len_no_punc  sent_len  word_count_no_punct  word_count     punct  \\\n",
              "label                                                                          \n",
              "0             -0.096711 -0.266173            -0.241279   -0.244014 -0.188634   \n",
              "1              0.086553  0.238215             0.215936    0.218384  0.168821   \n",
              "\n",
              "       ...  aol_rank_nan  aol_rank  aol_rank_nan_no_punc  aol_rank_no_punc  \\\n",
              "label  ...                                                                   \n",
              "0      ...     -0.106046 -0.027006             -0.106046         -0.035590   \n",
              "1      ...      0.094908  0.024169              0.094908          0.031852   \n",
              "\n",
              "       aol_rank_nan_perc  aol_rank_perc  aol_rank_nan_no_punc_perc  \\\n",
              "label                                                                \n",
              "0              -0.023515       0.019377                  -0.023515   \n",
              "1               0.021045      -0.017342                   0.021045   \n",
              "\n",
              "       aol_rank_no_punc_perc  stop_word      nums  \n",
              "label                                              \n",
              "0                   0.014989  -0.172917 -0.057868  \n",
              "1                  -0.013414   0.154755  0.051790  \n",
              "\n",
              "[2 rows x 29 columns]"
            ],
            "text/html": [
              "<div>\n",
              "<style scoped>\n",
              "    .dataframe tbody tr th:only-of-type {\n",
              "        vertical-align: middle;\n",
              "    }\n",
              "\n",
              "    .dataframe tbody tr th {\n",
              "        vertical-align: top;\n",
              "    }\n",
              "\n",
              "    .dataframe thead th {\n",
              "        text-align: right;\n",
              "    }\n",
              "</style>\n",
              "<table border=\"1\" class=\"dataframe\">\n",
              "  <thead>\n",
              "    <tr style=\"text-align: right;\">\n",
              "      <th></th>\n",
              "      <th>basic_rank</th>\n",
              "      <th>basic_rank_no_punc</th>\n",
              "      <th>oov_rank</th>\n",
              "      <th>oov_rank_no_punc</th>\n",
              "      <th>word_len</th>\n",
              "      <th>word_len_no_punc</th>\n",
              "      <th>sent_len</th>\n",
              "      <th>word_count_no_punct</th>\n",
              "      <th>word_count</th>\n",
              "      <th>punct</th>\n",
              "      <th>...</th>\n",
              "      <th>aol_rank_nan</th>\n",
              "      <th>aol_rank</th>\n",
              "      <th>aol_rank_nan_no_punc</th>\n",
              "      <th>aol_rank_no_punc</th>\n",
              "      <th>aol_rank_nan_perc</th>\n",
              "      <th>aol_rank_perc</th>\n",
              "      <th>aol_rank_nan_no_punc_perc</th>\n",
              "      <th>aol_rank_no_punc_perc</th>\n",
              "      <th>stop_word</th>\n",
              "      <th>nums</th>\n",
              "    </tr>\n",
              "    <tr>\n",
              "      <th>label</th>\n",
              "      <th></th>\n",
              "      <th></th>\n",
              "      <th></th>\n",
              "      <th></th>\n",
              "      <th></th>\n",
              "      <th></th>\n",
              "      <th></th>\n",
              "      <th></th>\n",
              "      <th></th>\n",
              "      <th></th>\n",
              "      <th></th>\n",
              "      <th></th>\n",
              "      <th></th>\n",
              "      <th></th>\n",
              "      <th></th>\n",
              "      <th></th>\n",
              "      <th></th>\n",
              "      <th></th>\n",
              "      <th></th>\n",
              "      <th></th>\n",
              "      <th></th>\n",
              "    </tr>\n",
              "  </thead>\n",
              "  <tbody>\n",
              "    <tr>\n",
              "      <th>0</th>\n",
              "      <td>0.161909</td>\n",
              "      <td>0.162336</td>\n",
              "      <td>0.026629</td>\n",
              "      <td>0.027367</td>\n",
              "      <td>-0.098289</td>\n",
              "      <td>-0.096711</td>\n",
              "      <td>-0.266173</td>\n",
              "      <td>-0.241279</td>\n",
              "      <td>-0.244014</td>\n",
              "      <td>-0.188634</td>\n",
              "      <td>...</td>\n",
              "      <td>-0.106046</td>\n",
              "      <td>-0.027006</td>\n",
              "      <td>-0.106046</td>\n",
              "      <td>-0.035590</td>\n",
              "      <td>-0.023515</td>\n",
              "      <td>0.019377</td>\n",
              "      <td>-0.023515</td>\n",
              "      <td>0.014989</td>\n",
              "      <td>-0.172917</td>\n",
              "      <td>-0.057868</td>\n",
              "    </tr>\n",
              "    <tr>\n",
              "      <th>1</th>\n",
              "      <td>-0.144902</td>\n",
              "      <td>-0.145285</td>\n",
              "      <td>-0.023832</td>\n",
              "      <td>-0.024493</td>\n",
              "      <td>0.087965</td>\n",
              "      <td>0.086553</td>\n",
              "      <td>0.238215</td>\n",
              "      <td>0.215936</td>\n",
              "      <td>0.218384</td>\n",
              "      <td>0.168821</td>\n",
              "      <td>...</td>\n",
              "      <td>0.094908</td>\n",
              "      <td>0.024169</td>\n",
              "      <td>0.094908</td>\n",
              "      <td>0.031852</td>\n",
              "      <td>0.021045</td>\n",
              "      <td>-0.017342</td>\n",
              "      <td>0.021045</td>\n",
              "      <td>-0.013414</td>\n",
              "      <td>0.154755</td>\n",
              "      <td>0.051790</td>\n",
              "    </tr>\n",
              "  </tbody>\n",
              "</table>\n",
              "<p>2 rows × 29 columns</p>\n",
              "</div>"
            ]
          },
          "metadata": {},
          "execution_count": 48
        }
      ]
    },
    {
      "cell_type": "code",
      "source": [
        "df['p']"
      ],
      "metadata": {
        "id": "JQqn8ifkQ4QY"
      },
      "execution_count": null,
      "outputs": []
    },
    {
      "cell_type": "code",
      "source": [
        "df[['punct', 'punct_lemm', 'label']].groupby('label').mean()"
      ],
      "metadata": {
        "colab": {
          "base_uri": "https://localhost:8080/",
          "height": 143
        },
        "id": "lgCGl_ljQdp_",
        "outputId": "c5943b42-d2f5-43d9-f1d9-56fd8ef28180"
      },
      "execution_count": null,
      "outputs": [
        {
          "output_type": "execute_result",
          "data": {
            "text/plain": [
              "          punct  punct_lemm\n",
              "label                      \n",
              "0      1.952136    1.952136\n",
              "1      2.643461    2.643461"
            ],
            "text/html": [
              "<div>\n",
              "<style scoped>\n",
              "    .dataframe tbody tr th:only-of-type {\n",
              "        vertical-align: middle;\n",
              "    }\n",
              "\n",
              "    .dataframe tbody tr th {\n",
              "        vertical-align: top;\n",
              "    }\n",
              "\n",
              "    .dataframe thead th {\n",
              "        text-align: right;\n",
              "    }\n",
              "</style>\n",
              "<table border=\"1\" class=\"dataframe\">\n",
              "  <thead>\n",
              "    <tr style=\"text-align: right;\">\n",
              "      <th></th>\n",
              "      <th>punct</th>\n",
              "      <th>punct_lemm</th>\n",
              "    </tr>\n",
              "    <tr>\n",
              "      <th>label</th>\n",
              "      <th></th>\n",
              "      <th></th>\n",
              "    </tr>\n",
              "  </thead>\n",
              "  <tbody>\n",
              "    <tr>\n",
              "      <th>0</th>\n",
              "      <td>1.952136</td>\n",
              "      <td>1.952136</td>\n",
              "    </tr>\n",
              "    <tr>\n",
              "      <th>1</th>\n",
              "      <td>2.643461</td>\n",
              "      <td>2.643461</td>\n",
              "    </tr>\n",
              "  </tbody>\n",
              "</table>\n",
              "</div>"
            ]
          },
          "metadata": {},
          "execution_count": 58
        }
      ]
    },
    {
      "cell_type": "code",
      "source": [
        "df.to_csv('df_train_with_ranks.csv')"
      ],
      "metadata": {
        "id": "VS8_3fjUsmjI"
      },
      "execution_count": null,
      "outputs": []
    },
    {
      "cell_type": "code",
      "source": [
        "['basic_rank_no_punc', \n",
        " 'basic_rank', 'oov_rank', \n",
        " 'oov_rank_no_punc', 'punct_lemm', \n",
        " 'punct', 'word_len', \n",
        " 'word_len_no_punc', \n",
        " 'word_count_no_punct', \n",
        " 'word_count', 'sent_len', \n",
        " 'concreteness_rank_nan', \n",
        " 'concreteness_rank_nan_no_punc', \n",
        " 'concreteness_rank_no_punc', \n",
        " 'concreteness_rank',\n",
        " 'aol_rank_nan_perc', 'aol_rank_nan_no_punc_perc',\n",
        " 'aol_rank_no_punc', 'aol_rank_nan', 'aol_rank_nan_no_punc', \n",
        " 'aol_rank', 'aol_rank_no_punc_perc', 'aol_rank_perc', 'concreteness_rank_nan_no_punc_perc',\n",
        " 'concreteness_rank_nan_perc', 'concreteness_rank_no_punc_perc', 'concreteness_rank_perc']\n"
      ],
      "metadata": {
        "colab": {
          "base_uri": "https://localhost:8080/"
        },
        "id": "xNnGwNItfagt",
        "outputId": "398bbd55-4170-495c-d533-495ac37d6eef"
      },
      "execution_count": null,
      "outputs": [
        {
          "output_type": "execute_result",
          "data": {
            "text/plain": [
              "['basic_rank_no_punc',\n",
              " 'basic_rank',\n",
              " 'oov_rank',\n",
              " 'oov_rank_no_punc',\n",
              " 'punct_lemm',\n",
              " 'punct',\n",
              " 'word_len',\n",
              " 'word_len_no_punc',\n",
              " 'word_count_no_punct',\n",
              " 'word_count',\n",
              " 'sent_len',\n",
              " 'concreteness_rank_nan',\n",
              " 'concreteness_rank_nan_no_punc',\n",
              " 'concreteness_rank_no_punc',\n",
              " 'concreteness_rank',\n",
              " 'aol_rank_nan_perc',\n",
              " 'aol_rank_nan_no_punc_perc',\n",
              " 'aol_rank_no_punc',\n",
              " 'aol_rank_nan',\n",
              " 'aol_rank_nan_no_punc',\n",
              " 'aol_rank',\n",
              " 'aol_rank_no_punc_perc',\n",
              " 'aol_rank_perc',\n",
              " 'concreteness_rank_nan_no_punc_perc',\n",
              " 'concreteness_rank_nan_perc',\n",
              " 'concreteness_rank_no_punc_perc',\n",
              " 'concreteness_rank_perc']"
            ]
          },
          "metadata": {},
          "execution_count": 66
        }
      ]
    },
    {
      "cell_type": "code",
      "source": [
        "df_to_test = df[['concreteness_rank_perc','concreteness_rank_no_punc_perc' , 'aol_rank_perc',  'aol_rank_no_punc_perc', 'basic_rank', 'oov_rank',\n",
        " 'oov_rank_no_punc','punct_lemm','punct', 'word_len', 'word_len_no_punc', 'word_count_no_punct', 'word_count', 'sent_len','label']]"
      ],
      "metadata": {
        "id": "q8vqMNLr7hQh"
      },
      "execution_count": null,
      "outputs": []
    },
    {
      "cell_type": "code",
      "source": [
        "df_nan"
      ],
      "metadata": {
        "colab": {
          "base_uri": "https://localhost:8080/",
          "height": 423
        },
        "id": "rj95-rTSDdgC",
        "outputId": "de530d2b-70a5-43ef-c421-c6f402cbfe87"
      },
      "execution_count": null,
      "outputs": [
        {
          "output_type": "execute_result",
          "data": {
            "text/plain": [
              "                                  original_text  label  \\\n",
              "90                                Walter Kogler      1   \n",
              "139                                 Alternating      1   \n",
              "140                                      OMIM =      1   \n",
              "157                          ISBN 3-85052-197-4      1   \n",
              "328      Riverton , Mississippi , United States      1   \n",
              "...                                         ...    ...   \n",
              "416553                                    Titus      0   \n",
              "416564  Inglourious Basterds -LRB-/O2009/O-RRB-      0   \n",
              "416652                          Writing numbers      0   \n",
              "416762                               References      0   \n",
              "416767                     Calgary Stampeders ,      0   \n",
              "\n",
              "                                     text_lemma  basic_rank  concreteness_rank  \n",
              "90                                walter kogler         0.0                NaN  \n",
              "139                                 alternating         0.0                NaN  \n",
              "140                                      omim =         0.0                NaN  \n",
              "157                          isbn 3-85052-197-4         0.0                NaN  \n",
              "328      riverton , mississippi , united states         0.0                NaN  \n",
              "...                                         ...         ...                ...  \n",
              "416553                                    titus         0.0                NaN  \n",
              "416564  inglourious basterds -lrb-/o2009/o-rrb-         0.0                NaN  \n",
              "416652                           writing number         0.0                NaN  \n",
              "416762                               references         0.0                NaN  \n",
              "416767                     calgary stampeders ,         0.0                NaN  \n",
              "\n",
              "[11719 rows x 5 columns]"
            ],
            "text/html": [
              "<div>\n",
              "<style scoped>\n",
              "    .dataframe tbody tr th:only-of-type {\n",
              "        vertical-align: middle;\n",
              "    }\n",
              "\n",
              "    .dataframe tbody tr th {\n",
              "        vertical-align: top;\n",
              "    }\n",
              "\n",
              "    .dataframe thead th {\n",
              "        text-align: right;\n",
              "    }\n",
              "</style>\n",
              "<table border=\"1\" class=\"dataframe\">\n",
              "  <thead>\n",
              "    <tr style=\"text-align: right;\">\n",
              "      <th></th>\n",
              "      <th>original_text</th>\n",
              "      <th>label</th>\n",
              "      <th>text_lemma</th>\n",
              "      <th>basic_rank</th>\n",
              "      <th>concreteness_rank</th>\n",
              "    </tr>\n",
              "  </thead>\n",
              "  <tbody>\n",
              "    <tr>\n",
              "      <th>90</th>\n",
              "      <td>Walter Kogler</td>\n",
              "      <td>1</td>\n",
              "      <td>walter kogler</td>\n",
              "      <td>0.0</td>\n",
              "      <td>NaN</td>\n",
              "    </tr>\n",
              "    <tr>\n",
              "      <th>139</th>\n",
              "      <td>Alternating</td>\n",
              "      <td>1</td>\n",
              "      <td>alternating</td>\n",
              "      <td>0.0</td>\n",
              "      <td>NaN</td>\n",
              "    </tr>\n",
              "    <tr>\n",
              "      <th>140</th>\n",
              "      <td>OMIM =</td>\n",
              "      <td>1</td>\n",
              "      <td>omim =</td>\n",
              "      <td>0.0</td>\n",
              "      <td>NaN</td>\n",
              "    </tr>\n",
              "    <tr>\n",
              "      <th>157</th>\n",
              "      <td>ISBN 3-85052-197-4</td>\n",
              "      <td>1</td>\n",
              "      <td>isbn 3-85052-197-4</td>\n",
              "      <td>0.0</td>\n",
              "      <td>NaN</td>\n",
              "    </tr>\n",
              "    <tr>\n",
              "      <th>328</th>\n",
              "      <td>Riverton , Mississippi , United States</td>\n",
              "      <td>1</td>\n",
              "      <td>riverton , mississippi , united states</td>\n",
              "      <td>0.0</td>\n",
              "      <td>NaN</td>\n",
              "    </tr>\n",
              "    <tr>\n",
              "      <th>...</th>\n",
              "      <td>...</td>\n",
              "      <td>...</td>\n",
              "      <td>...</td>\n",
              "      <td>...</td>\n",
              "      <td>...</td>\n",
              "    </tr>\n",
              "    <tr>\n",
              "      <th>416553</th>\n",
              "      <td>Titus</td>\n",
              "      <td>0</td>\n",
              "      <td>titus</td>\n",
              "      <td>0.0</td>\n",
              "      <td>NaN</td>\n",
              "    </tr>\n",
              "    <tr>\n",
              "      <th>416564</th>\n",
              "      <td>Inglourious Basterds -LRB-/O2009/O-RRB-</td>\n",
              "      <td>0</td>\n",
              "      <td>inglourious basterds -lrb-/o2009/o-rrb-</td>\n",
              "      <td>0.0</td>\n",
              "      <td>NaN</td>\n",
              "    </tr>\n",
              "    <tr>\n",
              "      <th>416652</th>\n",
              "      <td>Writing numbers</td>\n",
              "      <td>0</td>\n",
              "      <td>writing number</td>\n",
              "      <td>0.0</td>\n",
              "      <td>NaN</td>\n",
              "    </tr>\n",
              "    <tr>\n",
              "      <th>416762</th>\n",
              "      <td>References</td>\n",
              "      <td>0</td>\n",
              "      <td>references</td>\n",
              "      <td>0.0</td>\n",
              "      <td>NaN</td>\n",
              "    </tr>\n",
              "    <tr>\n",
              "      <th>416767</th>\n",
              "      <td>Calgary Stampeders ,</td>\n",
              "      <td>0</td>\n",
              "      <td>calgary stampeders ,</td>\n",
              "      <td>0.0</td>\n",
              "      <td>NaN</td>\n",
              "    </tr>\n",
              "  </tbody>\n",
              "</table>\n",
              "<p>11719 rows × 5 columns</p>\n",
              "</div>"
            ]
          },
          "metadata": {},
          "execution_count": 213
        }
      ]
    },
    {
      "cell_type": "markdown",
      "source": [
        "lowercase before lemmatizing"
      ],
      "metadata": {
        "id": "0Cd_Wwv8ENcp"
      }
    },
    {
      "cell_type": "code",
      "source": [
        "lemmatize_text('references')"
      ],
      "metadata": {
        "colab": {
          "base_uri": "https://localhost:8080/"
        },
        "id": "rSsL0vs-Dwl5",
        "outputId": "f0f720e6-9fed-4ac6-b75c-dd006e0aead0"
      },
      "execution_count": null,
      "outputs": [
        {
          "output_type": "execute_result",
          "data": {
            "text/plain": [
              "'reference'"
            ]
          },
          "metadata": {},
          "execution_count": 221
        }
      ]
    },
    {
      "cell_type": "code",
      "source": [
        "df[df.isna().any(axis=1)]['label'].value_counts()"
      ],
      "metadata": {
        "colab": {
          "base_uri": "https://localhost:8080/"
        },
        "id": "yp-fkNIlBsUg",
        "outputId": "39113f64-9416-4e39-b384-0534d5b0c566"
      },
      "execution_count": null,
      "outputs": [
        {
          "output_type": "execute_result",
          "data": {
            "text/plain": [
              "0    5948\n",
              "1    2795\n",
              "Name: label, dtype: int64"
            ]
          },
          "metadata": {},
          "execution_count": 245
        }
      ]
    },
    {
      "cell_type": "code",
      "source": [
        "df[df.isna().any(axis=1)]"
      ],
      "metadata": {
        "colab": {
          "base_uri": "https://localhost:8080/",
          "height": 423
        },
        "id": "FmARKbd3fnsi",
        "outputId": "7c959d5d-3e1e-4375-ced7-7860546ea7b7"
      },
      "execution_count": null,
      "outputs": [
        {
          "output_type": "execute_result",
          "data": {
            "text/plain": [
              "                                  original_text  label  \\\n",
              "90                                Walter Kogler      1   \n",
              "140                                      OMIM =      1   \n",
              "157                          ISBN 3-85052-197-4      1   \n",
              "594                                        Cugy      1   \n",
              "607                                        ! ''      1   \n",
              "...                                         ...    ...   \n",
              "416501                               Werkelijke      0   \n",
              "416503                     2005 - Toronto Aeros      0   \n",
              "416553                                    Titus      0   \n",
              "416564  Inglourious Basterds -LRB-/O2009/O-RRB-      0   \n",
              "416767                     Calgary Stampeders ,      0   \n",
              "\n",
              "                                     text_lemma  basic_rank  \\\n",
              "90                                walter kogler         0.0   \n",
              "140                                      omim =         0.0   \n",
              "157                          isbn 3-85052-197-4         0.0   \n",
              "594                                        cugy         0.0   \n",
              "607                                        ! ''         0.0   \n",
              "...                                         ...         ...   \n",
              "416501                               werkelijke         0.0   \n",
              "416503                     2005 - toronto aeros         0.0   \n",
              "416553                                    titus         0.0   \n",
              "416564  inglourious basterds -lrb-/o2009/o-rrb-         0.0   \n",
              "416767                     calgary stampeders ,         0.0   \n",
              "\n",
              "        concreteness_rank_nan  concreteness_rank  aol_rank_nan  aol_rank  \n",
              "90                        NaN                0.0           NaN       0.0  \n",
              "140                       NaN                0.0           NaN       0.0  \n",
              "157                       NaN                0.0           NaN       0.0  \n",
              "594                       NaN                0.0           NaN       0.0  \n",
              "607                       NaN                0.0           NaN       0.0  \n",
              "...                       ...                ...           ...       ...  \n",
              "416501                    NaN                0.0           NaN       0.0  \n",
              "416503                    NaN                0.0           NaN       0.0  \n",
              "416553                    NaN                0.0           NaN       0.0  \n",
              "416564                    NaN                0.0           NaN       0.0  \n",
              "416767                    NaN                0.0           NaN       0.0  \n",
              "\n",
              "[8743 rows x 8 columns]"
            ],
            "text/html": [
              "<div>\n",
              "<style scoped>\n",
              "    .dataframe tbody tr th:only-of-type {\n",
              "        vertical-align: middle;\n",
              "    }\n",
              "\n",
              "    .dataframe tbody tr th {\n",
              "        vertical-align: top;\n",
              "    }\n",
              "\n",
              "    .dataframe thead th {\n",
              "        text-align: right;\n",
              "    }\n",
              "</style>\n",
              "<table border=\"1\" class=\"dataframe\">\n",
              "  <thead>\n",
              "    <tr style=\"text-align: right;\">\n",
              "      <th></th>\n",
              "      <th>original_text</th>\n",
              "      <th>label</th>\n",
              "      <th>text_lemma</th>\n",
              "      <th>basic_rank</th>\n",
              "      <th>concreteness_rank_nan</th>\n",
              "      <th>concreteness_rank</th>\n",
              "      <th>aol_rank_nan</th>\n",
              "      <th>aol_rank</th>\n",
              "    </tr>\n",
              "  </thead>\n",
              "  <tbody>\n",
              "    <tr>\n",
              "      <th>90</th>\n",
              "      <td>Walter Kogler</td>\n",
              "      <td>1</td>\n",
              "      <td>walter kogler</td>\n",
              "      <td>0.0</td>\n",
              "      <td>NaN</td>\n",
              "      <td>0.0</td>\n",
              "      <td>NaN</td>\n",
              "      <td>0.0</td>\n",
              "    </tr>\n",
              "    <tr>\n",
              "      <th>140</th>\n",
              "      <td>OMIM =</td>\n",
              "      <td>1</td>\n",
              "      <td>omim =</td>\n",
              "      <td>0.0</td>\n",
              "      <td>NaN</td>\n",
              "      <td>0.0</td>\n",
              "      <td>NaN</td>\n",
              "      <td>0.0</td>\n",
              "    </tr>\n",
              "    <tr>\n",
              "      <th>157</th>\n",
              "      <td>ISBN 3-85052-197-4</td>\n",
              "      <td>1</td>\n",
              "      <td>isbn 3-85052-197-4</td>\n",
              "      <td>0.0</td>\n",
              "      <td>NaN</td>\n",
              "      <td>0.0</td>\n",
              "      <td>NaN</td>\n",
              "      <td>0.0</td>\n",
              "    </tr>\n",
              "    <tr>\n",
              "      <th>594</th>\n",
              "      <td>Cugy</td>\n",
              "      <td>1</td>\n",
              "      <td>cugy</td>\n",
              "      <td>0.0</td>\n",
              "      <td>NaN</td>\n",
              "      <td>0.0</td>\n",
              "      <td>NaN</td>\n",
              "      <td>0.0</td>\n",
              "    </tr>\n",
              "    <tr>\n",
              "      <th>607</th>\n",
              "      <td>! ''</td>\n",
              "      <td>1</td>\n",
              "      <td>! ''</td>\n",
              "      <td>0.0</td>\n",
              "      <td>NaN</td>\n",
              "      <td>0.0</td>\n",
              "      <td>NaN</td>\n",
              "      <td>0.0</td>\n",
              "    </tr>\n",
              "    <tr>\n",
              "      <th>...</th>\n",
              "      <td>...</td>\n",
              "      <td>...</td>\n",
              "      <td>...</td>\n",
              "      <td>...</td>\n",
              "      <td>...</td>\n",
              "      <td>...</td>\n",
              "      <td>...</td>\n",
              "      <td>...</td>\n",
              "    </tr>\n",
              "    <tr>\n",
              "      <th>416501</th>\n",
              "      <td>Werkelijke</td>\n",
              "      <td>0</td>\n",
              "      <td>werkelijke</td>\n",
              "      <td>0.0</td>\n",
              "      <td>NaN</td>\n",
              "      <td>0.0</td>\n",
              "      <td>NaN</td>\n",
              "      <td>0.0</td>\n",
              "    </tr>\n",
              "    <tr>\n",
              "      <th>416503</th>\n",
              "      <td>2005 - Toronto Aeros</td>\n",
              "      <td>0</td>\n",
              "      <td>2005 - toronto aeros</td>\n",
              "      <td>0.0</td>\n",
              "      <td>NaN</td>\n",
              "      <td>0.0</td>\n",
              "      <td>NaN</td>\n",
              "      <td>0.0</td>\n",
              "    </tr>\n",
              "    <tr>\n",
              "      <th>416553</th>\n",
              "      <td>Titus</td>\n",
              "      <td>0</td>\n",
              "      <td>titus</td>\n",
              "      <td>0.0</td>\n",
              "      <td>NaN</td>\n",
              "      <td>0.0</td>\n",
              "      <td>NaN</td>\n",
              "      <td>0.0</td>\n",
              "    </tr>\n",
              "    <tr>\n",
              "      <th>416564</th>\n",
              "      <td>Inglourious Basterds -LRB-/O2009/O-RRB-</td>\n",
              "      <td>0</td>\n",
              "      <td>inglourious basterds -lrb-/o2009/o-rrb-</td>\n",
              "      <td>0.0</td>\n",
              "      <td>NaN</td>\n",
              "      <td>0.0</td>\n",
              "      <td>NaN</td>\n",
              "      <td>0.0</td>\n",
              "    </tr>\n",
              "    <tr>\n",
              "      <th>416767</th>\n",
              "      <td>Calgary Stampeders ,</td>\n",
              "      <td>0</td>\n",
              "      <td>calgary stampeders ,</td>\n",
              "      <td>0.0</td>\n",
              "      <td>NaN</td>\n",
              "      <td>0.0</td>\n",
              "      <td>NaN</td>\n",
              "      <td>0.0</td>\n",
              "    </tr>\n",
              "  </tbody>\n",
              "</table>\n",
              "<p>8743 rows × 8 columns</p>\n",
              "</div>"
            ]
          },
          "metadata": {},
          "execution_count": 246
        }
      ]
    },
    {
      "cell_type": "code",
      "source": [
        "df_test = df_to_test.select_dtypes('number')"
      ],
      "metadata": {
        "id": "xNQHARW7CqCF"
      },
      "execution_count": null,
      "outputs": []
    },
    {
      "cell_type": "code",
      "source": [
        "df_nan = df[df['concreteness_rank'].isna()]\n",
        "df_nan.groupby('label').mean()"
      ],
      "metadata": {
        "colab": {
          "base_uri": "https://localhost:8080/",
          "height": 143
        },
        "id": "cd19ueWMCZmt",
        "outputId": "42c04369-3e29-4fd4-e421-2bc2be653de2"
      },
      "execution_count": null,
      "outputs": [
        {
          "output_type": "execute_result",
          "data": {
            "text/plain": [
              "       basic_rank  concreteness_rank\n",
              "label                               \n",
              "0             0.0                NaN\n",
              "1             0.0                NaN"
            ],
            "text/html": [
              "<div>\n",
              "<style scoped>\n",
              "    .dataframe tbody tr th:only-of-type {\n",
              "        vertical-align: middle;\n",
              "    }\n",
              "\n",
              "    .dataframe tbody tr th {\n",
              "        vertical-align: top;\n",
              "    }\n",
              "\n",
              "    .dataframe thead th {\n",
              "        text-align: right;\n",
              "    }\n",
              "</style>\n",
              "<table border=\"1\" class=\"dataframe\">\n",
              "  <thead>\n",
              "    <tr style=\"text-align: right;\">\n",
              "      <th></th>\n",
              "      <th>basic_rank</th>\n",
              "      <th>concreteness_rank</th>\n",
              "    </tr>\n",
              "    <tr>\n",
              "      <th>label</th>\n",
              "      <th></th>\n",
              "      <th></th>\n",
              "    </tr>\n",
              "  </thead>\n",
              "  <tbody>\n",
              "    <tr>\n",
              "      <th>0</th>\n",
              "      <td>0.0</td>\n",
              "      <td>NaN</td>\n",
              "    </tr>\n",
              "    <tr>\n",
              "      <th>1</th>\n",
              "      <td>0.0</td>\n",
              "      <td>NaN</td>\n",
              "    </tr>\n",
              "  </tbody>\n",
              "</table>\n",
              "</div>"
            ]
          },
          "metadata": {},
          "execution_count": 211
        }
      ]
    },
    {
      "cell_type": "code",
      "source": [
        "df[df['concreteness_rank'] == 'NaN']"
      ],
      "metadata": {
        "colab": {
          "base_uri": "https://localhost:8080/",
          "height": 50
        },
        "id": "mDon09mWzuoQ",
        "outputId": "d260a083-1ff1-4406-934e-ffa1c1952256"
      },
      "execution_count": null,
      "outputs": [
        {
          "output_type": "execute_result",
          "data": {
            "text/plain": [
              "Empty DataFrame\n",
              "Columns: [original_text, label, text_lemma, basic_rank, concreteness_rank]\n",
              "Index: []"
            ],
            "text/html": [
              "<div>\n",
              "<style scoped>\n",
              "    .dataframe tbody tr th:only-of-type {\n",
              "        vertical-align: middle;\n",
              "    }\n",
              "\n",
              "    .dataframe tbody tr th {\n",
              "        vertical-align: top;\n",
              "    }\n",
              "\n",
              "    .dataframe thead th {\n",
              "        text-align: right;\n",
              "    }\n",
              "</style>\n",
              "<table border=\"1\" class=\"dataframe\">\n",
              "  <thead>\n",
              "    <tr style=\"text-align: right;\">\n",
              "      <th></th>\n",
              "      <th>original_text</th>\n",
              "      <th>label</th>\n",
              "      <th>text_lemma</th>\n",
              "      <th>basic_rank</th>\n",
              "      <th>concreteness_rank</th>\n",
              "    </tr>\n",
              "  </thead>\n",
              "  <tbody>\n",
              "  </tbody>\n",
              "</table>\n",
              "</div>"
            ]
          },
          "metadata": {},
          "execution_count": 206
        }
      ]
    },
    {
      "cell_type": "markdown",
      "source": [
        "find what stampede lemmatizes to; using nans, even if there are words that aren't in that dictionary, having another concrete one might be enough to infer the meaning\n",
        "\n",
        "it's possible that if all three metrics are 0, then it needs to be simplified. could have case where not all are 0 and would not be simplified\n",
        "\n",
        "what to do with punctation? could be meaningful to keep\n",
        "\n",
        "could also fit word vectors for ground truth and find similarity scores for each text\n",
        "\n",
        "below imagine wasn't lowercasing the lemma after getting so wasn't matching some"
      ],
      "metadata": {
        "id": "7DpWbTKI9vb9"
      }
    },
    {
      "cell_type": "markdown",
      "source": [
        "![image.png](data:image/png;base64,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)"
      ],
      "metadata": {
        "id": "1FX__0V51dHF"
      }
    },
    {
      "cell_type": "code",
      "source": [
        ""
      ],
      "metadata": {
        "id": "aOiA5d4v1b1j"
      },
      "execution_count": null,
      "outputs": []
    },
    {
      "cell_type": "code",
      "source": [
        "import numpy as np\n",
        "arr = np.array([3,0.0,2])\n",
        "\n",
        "arr[arr == 0] = np.nan\n",
        "arr"
      ],
      "metadata": {
        "colab": {
          "base_uri": "https://localhost:8080/"
        },
        "id": "HIS2bwI-obiX",
        "outputId": "0f77003d-e86c-429a-9557-d5d9b4665a42"
      },
      "execution_count": null,
      "outputs": [
        {
          "output_type": "execute_result",
          "data": {
            "text/plain": [
              "array([ 3., nan,  2.])"
            ]
          },
          "metadata": {},
          "execution_count": 174
        }
      ]
    },
    {
      "cell_type": "code",
      "source": [
        "df['original_text'] = df['original_text'].apply(lemmatize_text)"
      ],
      "metadata": {
        "id": "am8zz3BVbpWX"
      },
      "execution_count": null,
      "outputs": []
    },
    {
      "cell_type": "code",
      "source": [
        "df.sample(5)"
      ],
      "metadata": {
        "colab": {
          "base_uri": "https://localhost:8080/",
          "height": 206
        },
        "id": "GsnV8ozYe0ug",
        "outputId": "88bded12-b329-4a32-c08c-c5a0c31b80d3"
      },
      "execution_count": null,
      "outputs": [
        {
          "output_type": "execute_result",
          "data": {
            "text/plain": [
              "                                            original_text  label\n",
              "102108  The politics of the force were intermingled wi...      1\n",
              "49653   The game comes bundled with a Wii MotionPlus d...      1\n",
              "146642  Matringhem is a commune in the Pas-de-Calais d...      1\n",
              "261946     Hoffman was born in Los Angeles , California .      0\n",
              "362449                                Examples would be :      0"
            ],
            "text/html": [
              "<div>\n",
              "<style scoped>\n",
              "    .dataframe tbody tr th:only-of-type {\n",
              "        vertical-align: middle;\n",
              "    }\n",
              "\n",
              "    .dataframe tbody tr th {\n",
              "        vertical-align: top;\n",
              "    }\n",
              "\n",
              "    .dataframe thead th {\n",
              "        text-align: right;\n",
              "    }\n",
              "</style>\n",
              "<table border=\"1\" class=\"dataframe\">\n",
              "  <thead>\n",
              "    <tr style=\"text-align: right;\">\n",
              "      <th></th>\n",
              "      <th>original_text</th>\n",
              "      <th>label</th>\n",
              "    </tr>\n",
              "  </thead>\n",
              "  <tbody>\n",
              "    <tr>\n",
              "      <th>102108</th>\n",
              "      <td>The politics of the force were intermingled wi...</td>\n",
              "      <td>1</td>\n",
              "    </tr>\n",
              "    <tr>\n",
              "      <th>49653</th>\n",
              "      <td>The game comes bundled with a Wii MotionPlus d...</td>\n",
              "      <td>1</td>\n",
              "    </tr>\n",
              "    <tr>\n",
              "      <th>146642</th>\n",
              "      <td>Matringhem is a commune in the Pas-de-Calais d...</td>\n",
              "      <td>1</td>\n",
              "    </tr>\n",
              "    <tr>\n",
              "      <th>261946</th>\n",
              "      <td>Hoffman was born in Los Angeles , California .</td>\n",
              "      <td>0</td>\n",
              "    </tr>\n",
              "    <tr>\n",
              "      <th>362449</th>\n",
              "      <td>Examples would be :</td>\n",
              "      <td>0</td>\n",
              "    </tr>\n",
              "  </tbody>\n",
              "</table>\n",
              "</div>"
            ]
          },
          "metadata": {},
          "execution_count": 146
        }
      ]
    },
    {
      "cell_type": "code",
      "source": [
        "set('There is manuscript evidence that Austen'.split())"
      ],
      "metadata": {
        "colab": {
          "base_uri": "https://localhost:8080/"
        },
        "id": "V3f3QPV2e0bf",
        "outputId": "17e5ffb3-d1f1-4d03-f5ed-72ef792dd5f2"
      },
      "execution_count": null,
      "outputs": [
        {
          "output_type": "execute_result",
          "data": {
            "text/plain": [
              "{'Austen', 'There', 'evidence', 'is', 'manuscript', 'that'}"
            ]
          },
          "metadata": {},
          "execution_count": 138
        }
      ]
    },
    {
      "cell_type": "markdown",
      "source": [
        "features for % basic, average concreteness, aol  scores"
      ],
      "metadata": {
        "id": "_JhA0Cw0elmW"
      }
    },
    {
      "cell_type": "code",
      "source": [
        "df.head()"
      ],
      "metadata": {
        "colab": {
          "base_uri": "https://localhost:8080/",
          "height": 206
        },
        "id": "gWT3X7qu0mdv",
        "outputId": "ff5bda9d-2615-426d-83be-b48aee136757"
      },
      "execution_count": null,
      "outputs": [
        {
          "output_type": "execute_result",
          "data": {
            "text/plain": [
              "                                       original_text  label\n",
              "0  There is manuscript evidence that Austen conti...      1\n",
              "1  In a remarkable comparative analysis , Mandaea...      1\n",
              "2  Before Persephone was released to Hermes , who...      1\n",
              "3  Cogeneration plants are commonly found in dist...      1\n",
              "4  Geneva -LRB- , ; , ; , ; ; -RRB- is the second...      1"
            ],
            "text/html": [
              "<div>\n",
              "<style scoped>\n",
              "    .dataframe tbody tr th:only-of-type {\n",
              "        vertical-align: middle;\n",
              "    }\n",
              "\n",
              "    .dataframe tbody tr th {\n",
              "        vertical-align: top;\n",
              "    }\n",
              "\n",
              "    .dataframe thead th {\n",
              "        text-align: right;\n",
              "    }\n",
              "</style>\n",
              "<table border=\"1\" class=\"dataframe\">\n",
              "  <thead>\n",
              "    <tr style=\"text-align: right;\">\n",
              "      <th></th>\n",
              "      <th>original_text</th>\n",
              "      <th>label</th>\n",
              "    </tr>\n",
              "  </thead>\n",
              "  <tbody>\n",
              "    <tr>\n",
              "      <th>0</th>\n",
              "      <td>There is manuscript evidence that Austen conti...</td>\n",
              "      <td>1</td>\n",
              "    </tr>\n",
              "    <tr>\n",
              "      <th>1</th>\n",
              "      <td>In a remarkable comparative analysis , Mandaea...</td>\n",
              "      <td>1</td>\n",
              "    </tr>\n",
              "    <tr>\n",
              "      <th>2</th>\n",
              "      <td>Before Persephone was released to Hermes , who...</td>\n",
              "      <td>1</td>\n",
              "    </tr>\n",
              "    <tr>\n",
              "      <th>3</th>\n",
              "      <td>Cogeneration plants are commonly found in dist...</td>\n",
              "      <td>1</td>\n",
              "    </tr>\n",
              "    <tr>\n",
              "      <th>4</th>\n",
              "      <td>Geneva -LRB- , ; , ; , ; ; -RRB- is the second...</td>\n",
              "      <td>1</td>\n",
              "    </tr>\n",
              "  </tbody>\n",
              "</table>\n",
              "</div>"
            ]
          },
          "metadata": {},
          "execution_count": 99
        }
      ]
    },
    {
      "cell_type": "code",
      "source": [
        "s = df.iloc[0]['original_text']"
      ],
      "metadata": {
        "id": "9fQywsDu0nSv"
      },
      "execution_count": null,
      "outputs": []
    },
    {
      "cell_type": "code",
      "source": [
        "nlp_model = spacy.load('en_core_web_sm')"
      ],
      "metadata": {
        "id": "pWmJxUd6Ffhb",
        "colab": {
          "base_uri": "https://localhost:8080/",
          "height": 430
        },
        "outputId": "6aed0fc7-c6b7-4be3-92f8-fae621e658fa"
      },
      "execution_count": null,
      "outputs": [
        {
          "output_type": "error",
          "ename": "OSError",
          "evalue": "ignored",
          "traceback": [
            "\u001b[1;31m---------------------------------------------------------------------------\u001b[0m",
            "\u001b[1;31mOSError\u001b[0m                                   Traceback (most recent call last)",
            "\u001b[1;32m~\\AppData\\Local\\Temp/ipykernel_47660/2157277621.py\u001b[0m in \u001b[0;36m<module>\u001b[1;34m\u001b[0m\n\u001b[1;32m----> 1\u001b[1;33m \u001b[0mnlp_model\u001b[0m \u001b[1;33m=\u001b[0m \u001b[0mspacy\u001b[0m\u001b[1;33m.\u001b[0m\u001b[0mload\u001b[0m\u001b[1;33m(\u001b[0m\u001b[1;34m'en_core_web_sm'\u001b[0m\u001b[1;33m)\u001b[0m\u001b[1;33m\u001b[0m\u001b[1;33m\u001b[0m\u001b[0m\n\u001b[0m",
            "\u001b[1;32m~\\Downloads\\umich-siads-695-fall21-predicting-text-difficulty\\env2\\lib\\site-packages\\spacy\\__init__.py\u001b[0m in \u001b[0;36mload\u001b[1;34m(name, **overrides)\u001b[0m\n\u001b[0;32m     28\u001b[0m     \u001b[1;32mif\u001b[0m \u001b[0mdepr_path\u001b[0m \u001b[1;32mnot\u001b[0m \u001b[1;32min\u001b[0m \u001b[1;33m(\u001b[0m\u001b[1;32mTrue\u001b[0m\u001b[1;33m,\u001b[0m \u001b[1;32mFalse\u001b[0m\u001b[1;33m,\u001b[0m \u001b[1;32mNone\u001b[0m\u001b[1;33m)\u001b[0m\u001b[1;33m:\u001b[0m\u001b[1;33m\u001b[0m\u001b[1;33m\u001b[0m\u001b[0m\n\u001b[0;32m     29\u001b[0m         \u001b[0mwarnings\u001b[0m\u001b[1;33m.\u001b[0m\u001b[0mwarn\u001b[0m\u001b[1;33m(\u001b[0m\u001b[0mWarnings\u001b[0m\u001b[1;33m.\u001b[0m\u001b[0mW001\u001b[0m\u001b[1;33m.\u001b[0m\u001b[0mformat\u001b[0m\u001b[1;33m(\u001b[0m\u001b[0mpath\u001b[0m\u001b[1;33m=\u001b[0m\u001b[0mdepr_path\u001b[0m\u001b[1;33m)\u001b[0m\u001b[1;33m,\u001b[0m \u001b[0mDeprecationWarning\u001b[0m\u001b[1;33m)\u001b[0m\u001b[1;33m\u001b[0m\u001b[1;33m\u001b[0m\u001b[0m\n\u001b[1;32m---> 30\u001b[1;33m     \u001b[1;32mreturn\u001b[0m \u001b[0mutil\u001b[0m\u001b[1;33m.\u001b[0m\u001b[0mload_model\u001b[0m\u001b[1;33m(\u001b[0m\u001b[0mname\u001b[0m\u001b[1;33m,\u001b[0m \u001b[1;33m**\u001b[0m\u001b[0moverrides\u001b[0m\u001b[1;33m)\u001b[0m\u001b[1;33m\u001b[0m\u001b[1;33m\u001b[0m\u001b[0m\n\u001b[0m\u001b[0;32m     31\u001b[0m \u001b[1;33m\u001b[0m\u001b[0m\n\u001b[0;32m     32\u001b[0m \u001b[1;33m\u001b[0m\u001b[0m\n",
            "\u001b[1;32m~\\Downloads\\umich-siads-695-fall21-predicting-text-difficulty\\env2\\lib\\site-packages\\spacy\\util.py\u001b[0m in \u001b[0;36mload_model\u001b[1;34m(name, **overrides)\u001b[0m\n\u001b[0;32m    173\u001b[0m     \u001b[1;32melif\u001b[0m \u001b[0mhasattr\u001b[0m\u001b[1;33m(\u001b[0m\u001b[0mname\u001b[0m\u001b[1;33m,\u001b[0m \u001b[1;34m\"exists\"\u001b[0m\u001b[1;33m)\u001b[0m\u001b[1;33m:\u001b[0m  \u001b[1;31m# Path or Path-like to model data\u001b[0m\u001b[1;33m\u001b[0m\u001b[1;33m\u001b[0m\u001b[0m\n\u001b[0;32m    174\u001b[0m         \u001b[1;32mreturn\u001b[0m \u001b[0mload_model_from_path\u001b[0m\u001b[1;33m(\u001b[0m\u001b[0mname\u001b[0m\u001b[1;33m,\u001b[0m \u001b[1;33m**\u001b[0m\u001b[0moverrides\u001b[0m\u001b[1;33m)\u001b[0m\u001b[1;33m\u001b[0m\u001b[1;33m\u001b[0m\u001b[0m\n\u001b[1;32m--> 175\u001b[1;33m     \u001b[1;32mraise\u001b[0m \u001b[0mIOError\u001b[0m\u001b[1;33m(\u001b[0m\u001b[0mErrors\u001b[0m\u001b[1;33m.\u001b[0m\u001b[0mE050\u001b[0m\u001b[1;33m.\u001b[0m\u001b[0mformat\u001b[0m\u001b[1;33m(\u001b[0m\u001b[0mname\u001b[0m\u001b[1;33m=\u001b[0m\u001b[0mname\u001b[0m\u001b[1;33m)\u001b[0m\u001b[1;33m)\u001b[0m\u001b[1;33m\u001b[0m\u001b[1;33m\u001b[0m\u001b[0m\n\u001b[0m\u001b[0;32m    176\u001b[0m \u001b[1;33m\u001b[0m\u001b[0m\n\u001b[0;32m    177\u001b[0m \u001b[1;33m\u001b[0m\u001b[0m\n",
            "\u001b[1;31mOSError\u001b[0m: [E050] Can't find model 'en_core_web_sm'. It doesn't seem to be a shortcut link, a Python package or a valid path to a data directory."
          ]
        }
      ]
    },
    {
      "cell_type": "code",
      "source": [
        "tok = nlp_model(s)"
      ],
      "metadata": {
        "id": "CoPfZCgLGe1v",
        "colab": {
          "base_uri": "https://localhost:8080/",
          "height": 172
        },
        "outputId": "2b03c1a2-5817-4cb7-d022-5552d87f6b0d"
      },
      "execution_count": null,
      "outputs": [
        {
          "output_type": "error",
          "ename": "NameError",
          "evalue": "ignored",
          "traceback": [
            "\u001b[1;31m---------------------------------------------------------------------------\u001b[0m",
            "\u001b[1;31mNameError\u001b[0m                                 Traceback (most recent call last)",
            "\u001b[1;32m~\\AppData\\Local\\Temp/ipykernel_47660/781461209.py\u001b[0m in \u001b[0;36m<module>\u001b[1;34m\u001b[0m\n\u001b[1;32m----> 1\u001b[1;33m \u001b[0mtok\u001b[0m \u001b[1;33m=\u001b[0m \u001b[0mnlp_model\u001b[0m\u001b[1;33m(\u001b[0m\u001b[0ms\u001b[0m\u001b[1;33m)\u001b[0m\u001b[1;33m\u001b[0m\u001b[1;33m\u001b[0m\u001b[0m\n\u001b[0m",
            "\u001b[1;31mNameError\u001b[0m: name 'nlp_model' is not defined"
          ]
        }
      ]
    },
    {
      "cell_type": "code",
      "source": [
        "from spacy.tokenizer import Tokenizer\n",
        "tokenizer = Tokenizer(nlp.vocab)"
      ],
      "metadata": {
        "id": "PBVtIH0BHRdF"
      },
      "execution_count": null,
      "outputs": []
    },
    {
      "cell_type": "code",
      "source": [
        "d = tokenizer(s)"
      ],
      "metadata": {
        "id": "Bw6Qa4dTH1YW"
      },
      "execution_count": null,
      "outputs": []
    },
    {
      "cell_type": "code",
      "source": [
        "from spacy.lang.en import English\n",
        "nlp = English()\n",
        "\n",
        "# Creating a blank Tokenizer with just the English vocab\n",
        "tokenizer = Tokenizer(nlp.vocab)\n",
        "# tokens = tokenizer(s)\n",
        "# # print(\"Blank tokenizer\",end=\" : \")\n",
        "# # for token in tokens:\n",
        "# #     print(token,end=', ')"
      ],
      "metadata": {
        "id": "Yt-ibwgiH8Lh"
      },
      "execution_count": null,
      "outputs": []
    },
    {
      "cell_type": "code",
      "source": [
        "from spacy.lang.en.stop_words import STOP_WORDS\n",
        "\n",
        "token_list = []\n",
        "for token in tok:\n",
        "    token_list.append(token.text)\n",
        "\n",
        "# Create list of word tokens after removing stopwords\n",
        "filtered_sentence =[] \n",
        "\n",
        "for word in token_list:\n",
        "    lexeme = nlp_model.vocab[word]\n",
        "    if lexeme.is_stop == False and lexeme.is_punct == False: # remove stop words and punctutation \n",
        "        filtered_sentence.append(word) \n",
        "print(token_list)\n",
        "print(filtered_sentence)   "
      ],
      "metadata": {
        "colab": {
          "base_uri": "https://localhost:8080/"
        },
        "id": "4-TL-SSMKDoP",
        "outputId": "eabb2956-6f51-4f6e-a25d-7d615e4bdc66"
      },
      "execution_count": null,
      "outputs": [
        {
          "output_type": "stream",
          "name": "stdout",
          "text": [
            "['There', 'is', 'manuscript', 'evidence', 'that', 'Austen', 'continued', 'to', 'work', 'on', 'these', 'pieces', 'as', 'late', 'as', 'the', 'period', '1809', 'â', \"''\", '11', ',', 'and', 'that', 'her', 'niece', 'and', 'nephew', ',', 'Anna', 'and', 'James', 'Edward', 'Austen', ',', 'made', 'further', 'additions', 'as', 'late', 'as', '1814', '.']\n",
            "['manuscript', 'evidence', 'Austen', 'continue', 'work', 'piece', 'late', 'period', '1809', 'â', '11', 'niece', 'nephew', 'Anna', 'James', 'Edward', 'Austen', 'addition', 'late', '1814']\n"
          ]
        }
      ]
    },
    {
      "cell_type": "markdown",
      "source": [
        "##lemmatization"
      ],
      "metadata": {
        "id": "BJJoShAJPAro"
      }
    },
    {
      "cell_type": "code",
      "source": [
        "lemma_word1 = [] \n",
        "for token in tok:\n",
        "    lemma_word1.append(token.lemma_)\n",
        "lemma_word1"
      ],
      "metadata": {
        "id": "k_TKTjiIKLdA",
        "colab": {
          "base_uri": "https://localhost:8080/",
          "height": 227
        },
        "outputId": "441710f0-d080-49f1-fa8b-04e8c94c2ca2"
      },
      "execution_count": null,
      "outputs": [
        {
          "output_type": "error",
          "ename": "NameError",
          "evalue": "ignored",
          "traceback": [
            "\u001b[1;31m---------------------------------------------------------------------------\u001b[0m",
            "\u001b[1;31mNameError\u001b[0m                                 Traceback (most recent call last)",
            "\u001b[1;32m~\\AppData\\Local\\Temp/ipykernel_47660/1472783675.py\u001b[0m in \u001b[0;36m<module>\u001b[1;34m\u001b[0m\n\u001b[0;32m      1\u001b[0m \u001b[0mlemma_word1\u001b[0m \u001b[1;33m=\u001b[0m \u001b[1;33m[\u001b[0m\u001b[1;33m]\u001b[0m\u001b[1;33m\u001b[0m\u001b[1;33m\u001b[0m\u001b[0m\n\u001b[1;32m----> 2\u001b[1;33m \u001b[1;32mfor\u001b[0m \u001b[0mtoken\u001b[0m \u001b[1;32min\u001b[0m \u001b[0mtok\u001b[0m\u001b[1;33m:\u001b[0m\u001b[1;33m\u001b[0m\u001b[1;33m\u001b[0m\u001b[0m\n\u001b[0m\u001b[0;32m      3\u001b[0m     \u001b[0mlemma_word1\u001b[0m\u001b[1;33m.\u001b[0m\u001b[0mappend\u001b[0m\u001b[1;33m(\u001b[0m\u001b[0mtoken\u001b[0m\u001b[1;33m.\u001b[0m\u001b[0mlemma_\u001b[0m\u001b[1;33m)\u001b[0m\u001b[1;33m\u001b[0m\u001b[1;33m\u001b[0m\u001b[0m\n\u001b[0;32m      4\u001b[0m \u001b[0mlemma_word1\u001b[0m\u001b[1;33m\u001b[0m\u001b[1;33m\u001b[0m\u001b[0m\n",
            "\u001b[1;31mNameError\u001b[0m: name 'tok' is not defined"
          ]
        }
      ]
    },
    {
      "cell_type": "code",
      "source": [
        "from collections import Counter, defaultdict\n",
        "from sklearn.dummy import DummyClassifier\n",
        "from sklearn.feature_extraction.text import TfidfVectorizer\n",
        "from sklearn.linear_model import LogisticRegression\n",
        "from sklearn.metrics import f1_score\n",
        "from sklearn.model_selection import train_test_split\n",
        "from tqdm import tqdm"
      ],
      "metadata": {
        "id": "-XF-SkENQTm-"
      },
      "execution_count": null,
      "outputs": []
    },
    {
      "cell_type": "code",
      "source": [
        "bigram_vectorizer = TfidfVectorizer(stop_words='english', min_df=5, ngram_range=(1,2))\n",
        "X_train = bigram_vectorizer.fit_transform(df.original_text)"
      ],
      "metadata": {
        "id": "fs8mWbgHKod1"
      },
      "execution_count": null,
      "outputs": []
    },
    {
      "cell_type": "code",
      "source": [
        "from pycaret.classification import *"
      ],
      "metadata": {
        "id": "UJ75onSF1OvD"
      },
      "execution_count": null,
      "outputs": []
    },
    {
      "cell_type": "code",
      "source": [
        "from sklearn.pipeline import Pipeline\n",
        "from sklearn.compose import make_column_transformer,make_column_selector"
      ],
      "metadata": {
        "id": "na9eCqAS81sU"
      },
      "execution_count": null,
      "outputs": []
    },
    {
      "cell_type": "code",
      "source": [
        "tf = TfidfVectorizer(stop_words='english', min_df=5, ngram_range=(1,2))"
      ],
      "metadata": {
        "id": "_5b-_mJ32Bhj"
      },
      "execution_count": null,
      "outputs": []
    },
    {
      "cell_type": "code",
      "source": [
        "from sklearn.decomposition import TruncatedSVD\n",
        "\n",
        "X_train = tf.fit_transform(df.original_text)\n",
        "svd = TruncatedSVD(n_components=40, random_state=42)\n",
        "data = svd.fit_transform(X_train) "
      ],
      "metadata": {
        "id": "GONdCJRz1xUC"
      },
      "execution_count": null,
      "outputs": []
    },
    {
      "cell_type": "code",
      "source": [
        "df2 = pd.DataFrame(data)"
      ],
      "metadata": {
        "id": "adrVWKtM2N0H"
      },
      "execution_count": null,
      "outputs": []
    },
    {
      "cell_type": "code",
      "source": [
        "\n",
        "df3 = pd.concat([df2, df['label']],axis= 1)"
      ],
      "metadata": {
        "id": "GszMfKZD2w0q"
      },
      "execution_count": null,
      "outputs": []
    },
    {
      "cell_type": "code",
      "source": [
        "import pandas as pd\n",
        "df_test = pd.read_csv(r'C:\\Users\\corsi\\Downloads\\umich-siads-695-fall21-predicting-text-difficulty\\df_train_with_ranks.csv')"
      ],
      "metadata": {
        "id": "B3v8wIuT28Qh"
      },
      "execution_count": null,
      "outputs": []
    },
    {
      "cell_type": "code",
      "source": [
        "df_test_drop = df_test.dropna(how='any')"
      ],
      "metadata": {
        "id": "jwYy1iwK55BY"
      },
      "execution_count": null,
      "outputs": []
    },
    {
      "cell_type": "code",
      "source": [
        "label = df_test_drop['label']\n",
        "df_test_drop.pop('label')"
      ],
      "metadata": {
        "colab": {
          "base_uri": "https://localhost:8080/"
        },
        "id": "KbZur-9I8rLy",
        "outputId": "91ffc439-e903-4739-f189-b23edacccee4"
      },
      "execution_count": null,
      "outputs": [
        {
          "output_type": "execute_result",
          "data": {
            "text/plain": [
              "0         1\n",
              "1         1\n",
              "2         1\n",
              "3         1\n",
              "4         1\n",
              "         ..\n",
              "416763    0\n",
              "416764    0\n",
              "416765    0\n",
              "416766    0\n",
              "416767    0\n",
              "Name: label, Length: 409601, dtype: int64"
            ]
          },
          "metadata": {},
          "execution_count": 74
        }
      ]
    },
    {
      "cell_type": "code",
      "source": [
        "normalized_df=(df_test_drop-df_test_drop.mean())/df_test_drop.std()\n",
        "\n",
        "normalized_df = pd.concat([normalized_df,label], axis=1)"
      ],
      "metadata": {
        "id": "Wp8GrvJwiZb9"
      },
      "execution_count": null,
      "outputs": []
    },
    {
      "cell_type": "code",
      "source": [
        "def sent_length(text):\n",
        "  return len(text)\n",
        "\n",
        "\n",
        "def word_length(text):\n",
        "\n",
        "  import numpy as np\n",
        "  split_sent = text.split()\n",
        "\n",
        "  text_array = np.array([len(i) for i in split_sent]) # if not present substitute 0 should think about making nan ht = defaultdict(lambda:np.Nan, ht), arr[arr == 0] = 'nan' # or use np.nan\n",
        "  average_array = np.nanmean(text_array)\n",
        "\n",
        "\n",
        "  return average_array"
      ],
      "metadata": {
        "id": "1r3YUE8SNllp"
      },
      "execution_count": null,
      "outputs": []
    },
    {
      "cell_type": "code",
      "source": [
        "def rare_punctuation(text):\n",
        "  import string \n",
        "      \n",
        "  # Storing the sets of punctuation in variable result \n",
        "  result = '!\"#$%&\\'()*+,-/:;<=>?@[\\\\]^_`{|}~'\n",
        "  \n",
        "  split_sent = text.split()\n",
        "  count = 0\n",
        "  for i in split_sent:\n",
        "    if i in result:\n",
        "      count +=1\n",
        "\n",
        "  return count\n"
      ],
      "metadata": {
        "id": "iRl7PEgujA5D"
      },
      "execution_count": null,
      "outputs": []
    },
    {
      "cell_type": "code",
      "source": [
        "df_test['word_len'] = df_test['original_text'].apply(word_length)\n",
        "df_test['sent_len'] = df_test['original_text'].apply(sent_length)\n",
        "df_test['punct'] = df_test['original_text'].apply(rare_punctuation)\n",
        "df_test['punct_lemm'] = df_test['text_lemma'].apply(rare_punctuation)"
      ],
      "metadata": {
        "id": "siP4zsu2N_PL"
      },
      "execution_count": null,
      "outputs": []
    },
    {
      "cell_type": "code",
      "source": [
        "df_test_drop_col =  df_test_drop[['basic_rank','concreteness_rank_nan', 'concreteness_rank', 'aol_rank','label']]"
      ],
      "metadata": {
        "id": "Ra2-k3DLiTUt"
      },
      "execution_count": null,
      "outputs": []
    },
    {
      "cell_type": "code",
      "source": [
        "df_test"
      ],
      "metadata": {
        "colab": {
          "base_uri": "https://localhost:8080/",
          "height": 423
        },
        "id": "bXLWg3ahljHK",
        "outputId": "074a36ac-e04c-431f-cb84-1251cc61e0bd"
      },
      "execution_count": null,
      "outputs": [
        {
          "output_type": "execute_result",
          "data": {
            "text/plain": [
              "                                            original_text  label  \\\n",
              "0       There is manuscript evidence that Austen conti...      1   \n",
              "1       In a remarkable comparative analysis , Mandaea...      1   \n",
              "2       Before Persephone was released to Hermes , who...      1   \n",
              "3       Cogeneration plants are commonly found in dist...      1   \n",
              "4       Geneva -LRB- , ; , ; , ; ; -RRB- is the second...      1   \n",
              "...                                                   ...    ...   \n",
              "416763  A Duke Nukem 3D version has been sold for Xbox...      0   \n",
              "416764  However , it is becoming replaced as a method ...      0   \n",
              "416765  There are hand gestures in both Hindu and Budd...      0   \n",
              "416766  If it is necessary to use colors , try to choo...      0   \n",
              "416767                               Calgary Stampeders ,      0   \n",
              "\n",
              "                                               text_lemma  basic_rank  \\\n",
              "0       there be manuscript evidence that austen conti...    0.348837   \n",
              "1       in a remarkable comparative analysis , mandaea...    0.304348   \n",
              "2       before persephone be release to hermes , who h...    0.478261   \n",
              "3       cogeneration plant be commonly find in distric...    0.435897   \n",
              "4       geneva -lrb- , ; , ; , ; ; -rrb- be the second...    0.250000   \n",
              "...                                                   ...         ...   \n",
              "416763  a duke nukem 3d version have be sell for xbox ...    0.470588   \n",
              "416764  however , it be become replace a a method of e...    0.550000   \n",
              "416765  there be hand gesture in both hindu and buddhi...    0.545455   \n",
              "416766  if it be necessary to use color , try to choos...    0.452381   \n",
              "416767                               calgary stampeders ,    0.000000   \n",
              "\n",
              "        concreteness_rank_nan  concreteness_rank  aol_rank_nan  aol_rank  \\\n",
              "0                    2.327333           1.623721      5.774483  3.894419   \n",
              "1                    2.325000           1.617391      7.426667  4.843478   \n",
              "2                    2.346757           1.887609      5.441351  4.376739   \n",
              "3                    3.080645           2.448718      6.721000  5.170000   \n",
              "4                    2.274667           0.947778      5.396667  2.248611   \n",
              "...                       ...                ...           ...       ...   \n",
              "416763               2.478182           1.603529      6.146667  3.254118   \n",
              "416764               2.293333           2.064000      6.822222  6.140000   \n",
              "416765               2.761111           2.259091      6.788889  5.554545   \n",
              "416766               2.402500           2.059286      5.069444  4.345238   \n",
              "416767                    NaN           0.000000           NaN  0.000000   \n",
              "\n",
              "        word_len  sent_len  punct  punct_lemm  \n",
              "0       4.023256       215      3           3  \n",
              "1       5.739130       154      1           1  \n",
              "2       4.413043       248      3           3  \n",
              "3       5.333333       246      6           6  \n",
              "4       4.611111       201      7           7  \n",
              "...          ...       ...    ...         ...  \n",
              "416763  3.705882        79      1           1  \n",
              "416764  4.600000       111      1           1  \n",
              "416765  4.909091        64      0           0  \n",
              "416766  4.166667       216      1           1  \n",
              "416767  6.000000        20      1           1  \n",
              "\n",
              "[416768 rows x 12 columns]"
            ],
            "text/html": [
              "<div>\n",
              "<style scoped>\n",
              "    .dataframe tbody tr th:only-of-type {\n",
              "        vertical-align: middle;\n",
              "    }\n",
              "\n",
              "    .dataframe tbody tr th {\n",
              "        vertical-align: top;\n",
              "    }\n",
              "\n",
              "    .dataframe thead th {\n",
              "        text-align: right;\n",
              "    }\n",
              "</style>\n",
              "<table border=\"1\" class=\"dataframe\">\n",
              "  <thead>\n",
              "    <tr style=\"text-align: right;\">\n",
              "      <th></th>\n",
              "      <th>original_text</th>\n",
              "      <th>label</th>\n",
              "      <th>text_lemma</th>\n",
              "      <th>basic_rank</th>\n",
              "      <th>concreteness_rank_nan</th>\n",
              "      <th>concreteness_rank</th>\n",
              "      <th>aol_rank_nan</th>\n",
              "      <th>aol_rank</th>\n",
              "      <th>word_len</th>\n",
              "      <th>sent_len</th>\n",
              "      <th>punct</th>\n",
              "      <th>punct_lemm</th>\n",
              "    </tr>\n",
              "  </thead>\n",
              "  <tbody>\n",
              "    <tr>\n",
              "      <th>0</th>\n",
              "      <td>There is manuscript evidence that Austen conti...</td>\n",
              "      <td>1</td>\n",
              "      <td>there be manuscript evidence that austen conti...</td>\n",
              "      <td>0.348837</td>\n",
              "      <td>2.327333</td>\n",
              "      <td>1.623721</td>\n",
              "      <td>5.774483</td>\n",
              "      <td>3.894419</td>\n",
              "      <td>4.023256</td>\n",
              "      <td>215</td>\n",
              "      <td>3</td>\n",
              "      <td>3</td>\n",
              "    </tr>\n",
              "    <tr>\n",
              "      <th>1</th>\n",
              "      <td>In a remarkable comparative analysis , Mandaea...</td>\n",
              "      <td>1</td>\n",
              "      <td>in a remarkable comparative analysis , mandaea...</td>\n",
              "      <td>0.304348</td>\n",
              "      <td>2.325000</td>\n",
              "      <td>1.617391</td>\n",
              "      <td>7.426667</td>\n",
              "      <td>4.843478</td>\n",
              "      <td>5.739130</td>\n",
              "      <td>154</td>\n",
              "      <td>1</td>\n",
              "      <td>1</td>\n",
              "    </tr>\n",
              "    <tr>\n",
              "      <th>2</th>\n",
              "      <td>Before Persephone was released to Hermes , who...</td>\n",
              "      <td>1</td>\n",
              "      <td>before persephone be release to hermes , who h...</td>\n",
              "      <td>0.478261</td>\n",
              "      <td>2.346757</td>\n",
              "      <td>1.887609</td>\n",
              "      <td>5.441351</td>\n",
              "      <td>4.376739</td>\n",
              "      <td>4.413043</td>\n",
              "      <td>248</td>\n",
              "      <td>3</td>\n",
              "      <td>3</td>\n",
              "    </tr>\n",
              "    <tr>\n",
              "      <th>3</th>\n",
              "      <td>Cogeneration plants are commonly found in dist...</td>\n",
              "      <td>1</td>\n",
              "      <td>cogeneration plant be commonly find in distric...</td>\n",
              "      <td>0.435897</td>\n",
              "      <td>3.080645</td>\n",
              "      <td>2.448718</td>\n",
              "      <td>6.721000</td>\n",
              "      <td>5.170000</td>\n",
              "      <td>5.333333</td>\n",
              "      <td>246</td>\n",
              "      <td>6</td>\n",
              "      <td>6</td>\n",
              "    </tr>\n",
              "    <tr>\n",
              "      <th>4</th>\n",
              "      <td>Geneva -LRB- , ; , ; , ; ; -RRB- is the second...</td>\n",
              "      <td>1</td>\n",
              "      <td>geneva -lrb- , ; , ; , ; ; -rrb- be the second...</td>\n",
              "      <td>0.250000</td>\n",
              "      <td>2.274667</td>\n",
              "      <td>0.947778</td>\n",
              "      <td>5.396667</td>\n",
              "      <td>2.248611</td>\n",
              "      <td>4.611111</td>\n",
              "      <td>201</td>\n",
              "      <td>7</td>\n",
              "      <td>7</td>\n",
              "    </tr>\n",
              "    <tr>\n",
              "      <th>...</th>\n",
              "      <td>...</td>\n",
              "      <td>...</td>\n",
              "      <td>...</td>\n",
              "      <td>...</td>\n",
              "      <td>...</td>\n",
              "      <td>...</td>\n",
              "      <td>...</td>\n",
              "      <td>...</td>\n",
              "      <td>...</td>\n",
              "      <td>...</td>\n",
              "      <td>...</td>\n",
              "      <td>...</td>\n",
              "    </tr>\n",
              "    <tr>\n",
              "      <th>416763</th>\n",
              "      <td>A Duke Nukem 3D version has been sold for Xbox...</td>\n",
              "      <td>0</td>\n",
              "      <td>a duke nukem 3d version have be sell for xbox ...</td>\n",
              "      <td>0.470588</td>\n",
              "      <td>2.478182</td>\n",
              "      <td>1.603529</td>\n",
              "      <td>6.146667</td>\n",
              "      <td>3.254118</td>\n",
              "      <td>3.705882</td>\n",
              "      <td>79</td>\n",
              "      <td>1</td>\n",
              "      <td>1</td>\n",
              "    </tr>\n",
              "    <tr>\n",
              "      <th>416764</th>\n",
              "      <td>However , it is becoming replaced as a method ...</td>\n",
              "      <td>0</td>\n",
              "      <td>however , it be become replace a a method of e...</td>\n",
              "      <td>0.550000</td>\n",
              "      <td>2.293333</td>\n",
              "      <td>2.064000</td>\n",
              "      <td>6.822222</td>\n",
              "      <td>6.140000</td>\n",
              "      <td>4.600000</td>\n",
              "      <td>111</td>\n",
              "      <td>1</td>\n",
              "      <td>1</td>\n",
              "    </tr>\n",
              "    <tr>\n",
              "      <th>416765</th>\n",
              "      <td>There are hand gestures in both Hindu and Budd...</td>\n",
              "      <td>0</td>\n",
              "      <td>there be hand gesture in both hindu and buddhi...</td>\n",
              "      <td>0.545455</td>\n",
              "      <td>2.761111</td>\n",
              "      <td>2.259091</td>\n",
              "      <td>6.788889</td>\n",
              "      <td>5.554545</td>\n",
              "      <td>4.909091</td>\n",
              "      <td>64</td>\n",
              "      <td>0</td>\n",
              "      <td>0</td>\n",
              "    </tr>\n",
              "    <tr>\n",
              "      <th>416766</th>\n",
              "      <td>If it is necessary to use colors , try to choo...</td>\n",
              "      <td>0</td>\n",
              "      <td>if it be necessary to use color , try to choos...</td>\n",
              "      <td>0.452381</td>\n",
              "      <td>2.402500</td>\n",
              "      <td>2.059286</td>\n",
              "      <td>5.069444</td>\n",
              "      <td>4.345238</td>\n",
              "      <td>4.166667</td>\n",
              "      <td>216</td>\n",
              "      <td>1</td>\n",
              "      <td>1</td>\n",
              "    </tr>\n",
              "    <tr>\n",
              "      <th>416767</th>\n",
              "      <td>Calgary Stampeders ,</td>\n",
              "      <td>0</td>\n",
              "      <td>calgary stampeders ,</td>\n",
              "      <td>0.000000</td>\n",
              "      <td>NaN</td>\n",
              "      <td>0.000000</td>\n",
              "      <td>NaN</td>\n",
              "      <td>0.000000</td>\n",
              "      <td>6.000000</td>\n",
              "      <td>20</td>\n",
              "      <td>1</td>\n",
              "      <td>1</td>\n",
              "    </tr>\n",
              "  </tbody>\n",
              "</table>\n",
              "<p>416768 rows × 12 columns</p>\n",
              "</div>"
            ]
          },
          "metadata": {},
          "execution_count": 62
        }
      ]
    },
    {
      "cell_type": "code",
      "source": [
        "df_test = df_test.select_dtypes('number')"
      ],
      "metadata": {
        "id": "MAlf83p45PQv"
      },
      "execution_count": null,
      "outputs": []
    },
    {
      "cell_type": "code",
      "source": [
        "df_test.columns"
      ],
      "metadata": {
        "colab": {
          "base_uri": "https://localhost:8080/"
        },
        "id": "0AkkdXdKOvIF",
        "outputId": "ab0ad940-2fac-4c10-fe47-267793ab45e7"
      },
      "execution_count": null,
      "outputs": [
        {
          "output_type": "execute_result",
          "data": {
            "text/plain": [
              "Index(['label', 'basic_rank', 'concreteness_rank_nan', 'concreteness_rank',\n",
              "       'aol_rank_nan', 'aol_rank', 'word_len', 'sent_len', 'punct',\n",
              "       'punct_lemm'],\n",
              "      dtype='object')"
            ]
          },
          "metadata": {},
          "execution_count": 64
        }
      ]
    },
    {
      "cell_type": "code",
      "source": [
        "df_test.drop(columns='Unnamed: 0',inplace=True)"
      ],
      "metadata": {
        "id": "yh6KS0N-OfxZ"
      },
      "execution_count": null,
      "outputs": []
    },
    {
      "cell_type": "code",
      "source": [
        "df_test_drop = df_test.dropna(how='any')"
      ],
      "metadata": {
        "id": "KxL7WKiyPCxe"
      },
      "execution_count": null,
      "outputs": []
    },
    {
      "cell_type": "code",
      "source": [
        "df_test_drop = df_test_drop[['word_len', 'sent_len', 'label']]"
      ],
      "metadata": {
        "id": "Q6yw4_C8h9Zg"
      },
      "execution_count": null,
      "outputs": []
    },
    {
      "cell_type": "code",
      "source": [
        "column_means = df_test.mean()\n",
        "df_test_fill = df_test.fillna(column_means)\n",
        "\n",
        "\n",
        "# df_test_fill = df_test.fillna(value='mean')"
      ],
      "metadata": {
        "id": "YZpo2KNp4dOA"
      },
      "execution_count": null,
      "outputs": []
    },
    {
      "cell_type": "code",
      "source": [
        "df_test"
      ],
      "metadata": {
        "colab": {
          "base_uri": "https://localhost:8080/",
          "height": 423
        },
        "id": "WyOV2BcmlyWW",
        "outputId": "f01c7284-0e4d-4a78-efb8-839a9a39155d"
      },
      "execution_count": null,
      "outputs": [
        {
          "output_type": "execute_result",
          "data": {
            "text/plain": [
              "        label  basic_rank  concreteness_rank_nan  concreteness_rank  \\\n",
              "0           1    0.348837               2.327333           1.623721   \n",
              "1           1    0.304348               2.325000           1.617391   \n",
              "2           1    0.478261               2.346757           1.887609   \n",
              "3           1    0.435897               3.080645           2.448718   \n",
              "4           1    0.250000               2.274667           0.947778   \n",
              "...       ...         ...                    ...                ...   \n",
              "416763      0    0.470588               2.478182           1.603529   \n",
              "416764      0    0.550000               2.293333           2.064000   \n",
              "416765      0    0.545455               2.761111           2.259091   \n",
              "416766      0    0.452381               2.402500           2.059286   \n",
              "416767      0    0.000000                    NaN           0.000000   \n",
              "\n",
              "        aol_rank_nan  aol_rank  word_len  sent_len  punct  punct_lemm  \n",
              "0           5.774483  3.894419  4.023256       215      3           3  \n",
              "1           7.426667  4.843478  5.739130       154      1           1  \n",
              "2           5.441351  4.376739  4.413043       248      3           3  \n",
              "3           6.721000  5.170000  5.333333       246      6           6  \n",
              "4           5.396667  2.248611  4.611111       201      7           7  \n",
              "...              ...       ...       ...       ...    ...         ...  \n",
              "416763      6.146667  3.254118  3.705882        79      1           1  \n",
              "416764      6.822222  6.140000  4.600000       111      1           1  \n",
              "416765      6.788889  5.554545  4.909091        64      0           0  \n",
              "416766      5.069444  4.345238  4.166667       216      1           1  \n",
              "416767           NaN  0.000000  6.000000        20      1           1  \n",
              "\n",
              "[416768 rows x 10 columns]"
            ],
            "text/html": [
              "<div>\n",
              "<style scoped>\n",
              "    .dataframe tbody tr th:only-of-type {\n",
              "        vertical-align: middle;\n",
              "    }\n",
              "\n",
              "    .dataframe tbody tr th {\n",
              "        vertical-align: top;\n",
              "    }\n",
              "\n",
              "    .dataframe thead th {\n",
              "        text-align: right;\n",
              "    }\n",
              "</style>\n",
              "<table border=\"1\" class=\"dataframe\">\n",
              "  <thead>\n",
              "    <tr style=\"text-align: right;\">\n",
              "      <th></th>\n",
              "      <th>label</th>\n",
              "      <th>basic_rank</th>\n",
              "      <th>concreteness_rank_nan</th>\n",
              "      <th>concreteness_rank</th>\n",
              "      <th>aol_rank_nan</th>\n",
              "      <th>aol_rank</th>\n",
              "      <th>word_len</th>\n",
              "      <th>sent_len</th>\n",
              "      <th>punct</th>\n",
              "      <th>punct_lemm</th>\n",
              "    </tr>\n",
              "  </thead>\n",
              "  <tbody>\n",
              "    <tr>\n",
              "      <th>0</th>\n",
              "      <td>1</td>\n",
              "      <td>0.348837</td>\n",
              "      <td>2.327333</td>\n",
              "      <td>1.623721</td>\n",
              "      <td>5.774483</td>\n",
              "      <td>3.894419</td>\n",
              "      <td>4.023256</td>\n",
              "      <td>215</td>\n",
              "      <td>3</td>\n",
              "      <td>3</td>\n",
              "    </tr>\n",
              "    <tr>\n",
              "      <th>1</th>\n",
              "      <td>1</td>\n",
              "      <td>0.304348</td>\n",
              "      <td>2.325000</td>\n",
              "      <td>1.617391</td>\n",
              "      <td>7.426667</td>\n",
              "      <td>4.843478</td>\n",
              "      <td>5.739130</td>\n",
              "      <td>154</td>\n",
              "      <td>1</td>\n",
              "      <td>1</td>\n",
              "    </tr>\n",
              "    <tr>\n",
              "      <th>2</th>\n",
              "      <td>1</td>\n",
              "      <td>0.478261</td>\n",
              "      <td>2.346757</td>\n",
              "      <td>1.887609</td>\n",
              "      <td>5.441351</td>\n",
              "      <td>4.376739</td>\n",
              "      <td>4.413043</td>\n",
              "      <td>248</td>\n",
              "      <td>3</td>\n",
              "      <td>3</td>\n",
              "    </tr>\n",
              "    <tr>\n",
              "      <th>3</th>\n",
              "      <td>1</td>\n",
              "      <td>0.435897</td>\n",
              "      <td>3.080645</td>\n",
              "      <td>2.448718</td>\n",
              "      <td>6.721000</td>\n",
              "      <td>5.170000</td>\n",
              "      <td>5.333333</td>\n",
              "      <td>246</td>\n",
              "      <td>6</td>\n",
              "      <td>6</td>\n",
              "    </tr>\n",
              "    <tr>\n",
              "      <th>4</th>\n",
              "      <td>1</td>\n",
              "      <td>0.250000</td>\n",
              "      <td>2.274667</td>\n",
              "      <td>0.947778</td>\n",
              "      <td>5.396667</td>\n",
              "      <td>2.248611</td>\n",
              "      <td>4.611111</td>\n",
              "      <td>201</td>\n",
              "      <td>7</td>\n",
              "      <td>7</td>\n",
              "    </tr>\n",
              "    <tr>\n",
              "      <th>...</th>\n",
              "      <td>...</td>\n",
              "      <td>...</td>\n",
              "      <td>...</td>\n",
              "      <td>...</td>\n",
              "      <td>...</td>\n",
              "      <td>...</td>\n",
              "      <td>...</td>\n",
              "      <td>...</td>\n",
              "      <td>...</td>\n",
              "      <td>...</td>\n",
              "    </tr>\n",
              "    <tr>\n",
              "      <th>416763</th>\n",
              "      <td>0</td>\n",
              "      <td>0.470588</td>\n",
              "      <td>2.478182</td>\n",
              "      <td>1.603529</td>\n",
              "      <td>6.146667</td>\n",
              "      <td>3.254118</td>\n",
              "      <td>3.705882</td>\n",
              "      <td>79</td>\n",
              "      <td>1</td>\n",
              "      <td>1</td>\n",
              "    </tr>\n",
              "    <tr>\n",
              "      <th>416764</th>\n",
              "      <td>0</td>\n",
              "      <td>0.550000</td>\n",
              "      <td>2.293333</td>\n",
              "      <td>2.064000</td>\n",
              "      <td>6.822222</td>\n",
              "      <td>6.140000</td>\n",
              "      <td>4.600000</td>\n",
              "      <td>111</td>\n",
              "      <td>1</td>\n",
              "      <td>1</td>\n",
              "    </tr>\n",
              "    <tr>\n",
              "      <th>416765</th>\n",
              "      <td>0</td>\n",
              "      <td>0.545455</td>\n",
              "      <td>2.761111</td>\n",
              "      <td>2.259091</td>\n",
              "      <td>6.788889</td>\n",
              "      <td>5.554545</td>\n",
              "      <td>4.909091</td>\n",
              "      <td>64</td>\n",
              "      <td>0</td>\n",
              "      <td>0</td>\n",
              "    </tr>\n",
              "    <tr>\n",
              "      <th>416766</th>\n",
              "      <td>0</td>\n",
              "      <td>0.452381</td>\n",
              "      <td>2.402500</td>\n",
              "      <td>2.059286</td>\n",
              "      <td>5.069444</td>\n",
              "      <td>4.345238</td>\n",
              "      <td>4.166667</td>\n",
              "      <td>216</td>\n",
              "      <td>1</td>\n",
              "      <td>1</td>\n",
              "    </tr>\n",
              "    <tr>\n",
              "      <th>416767</th>\n",
              "      <td>0</td>\n",
              "      <td>0.000000</td>\n",
              "      <td>NaN</td>\n",
              "      <td>0.000000</td>\n",
              "      <td>NaN</td>\n",
              "      <td>0.000000</td>\n",
              "      <td>6.000000</td>\n",
              "      <td>20</td>\n",
              "      <td>1</td>\n",
              "      <td>1</td>\n",
              "    </tr>\n",
              "  </tbody>\n",
              "</table>\n",
              "<p>416768 rows × 10 columns</p>\n",
              "</div>"
            ]
          },
          "metadata": {},
          "execution_count": 66
        }
      ]
    },
    {
      "cell_type": "code",
      "source": [
        "normalized_df"
      ],
      "metadata": {
        "colab": {
          "base_uri": "https://localhost:8080/",
          "height": 423
        },
        "id": "VWdo5AbB89zJ",
        "outputId": "e2ffed36-8976-4e93-f13f-29f11ee1e86b"
      },
      "execution_count": null,
      "outputs": [
        {
          "output_type": "execute_result",
          "data": {
            "text/plain": [
              "        concreteness_rank_perc  concreteness_rank_no_punc_perc  aol_rank_perc  \\\n",
              "0                    -0.221266                       -0.220770      -0.273306   \n",
              "1                    -0.215557                       -0.323506       0.003868   \n",
              "2                     0.304436                        0.207257       0.298332   \n",
              "3                     1.377501                        1.855544       0.492513   \n",
              "4                    -1.576124                       -1.383745      -0.759253   \n",
              "...                        ...                             ...            ...   \n",
              "416763               -0.283055                       -0.280792      -0.997946   \n",
              "416764                0.620962                        0.590214       1.259040   \n",
              "416765                1.034927                        0.972676       1.302584   \n",
              "416766                0.656459                        0.496876       0.529012   \n",
              "416767               -3.426700                       -3.601151      -2.142611   \n",
              "\n",
              "        aol_rank_no_punc_perc  basic_rank  oov_rank  oov_rank_no_punc  \\\n",
              "0                   -0.274674   -0.603480  0.596064          0.600895   \n",
              "1                   -0.082727   -0.875025 -0.694498         -0.651475   \n",
              "2                    0.244045    0.186470  0.165877          0.183439   \n",
              "3                    1.410468   -0.072099  0.596064          0.600895   \n",
              "4                   -0.655739   -1.206742 -1.602671         -1.903845   \n",
              "...                       ...         ...       ...               ...   \n",
              "416763              -1.031770    0.139639  0.596064          0.600895   \n",
              "416764               1.397517    0.624337  0.596064          0.600895   \n",
              "416765               1.203593    0.596593  0.596064          0.600895   \n",
              "416766               0.441837    0.028509  0.124907          0.151327   \n",
              "416767              -2.263822   -2.732641  0.596064          0.600895   \n",
              "\n",
              "        punct_lemm     punct  word_len  word_len_no_punc  word_count_no_punct  \\\n",
              "0         0.962834  0.962834 -0.532420         -0.696349             1.639359   \n",
              "1        -0.214318 -0.214318  1.363416          1.277665             0.121084   \n",
              "2         0.962834  0.962834 -0.101751         -0.410484             1.996600   \n",
              "3         2.728561  2.728561  0.915059          0.860215             1.103497   \n",
              "4         3.317137  3.317137  0.117090          0.910676             0.746256   \n",
              "...            ...       ...       ...               ...                  ...   \n",
              "416763   -0.214318 -0.214318 -0.883079         -0.777473            -0.414777   \n",
              "416764   -0.214318 -0.214318  0.104814         -0.263689            -0.146846   \n",
              "416765   -0.802894 -0.802894  0.446322          0.352853            -0.861328   \n",
              "416766   -0.214318 -0.214318 -0.373968         -0.513994             1.728669   \n",
              "416767   -0.214318 -0.214318  1.651646          3.846588            -1.575810   \n",
              "\n",
              "        word_count  sent_len  label  \n",
              "0         1.660920  1.376635      1  \n",
              "1         0.065026  0.495760      1  \n",
              "2         1.900304  1.853174      1  \n",
              "3         1.341741  1.824293      1  \n",
              "4         1.102357  1.174467      1  \n",
              "...            ...       ...    ...  \n",
              "416763   -0.413742 -0.587282      0  \n",
              "416764   -0.174358 -0.125184      0  \n",
              "416765   -0.892510 -0.803891      0  \n",
              "416766    1.581125  1.391076      0  \n",
              "416767   -1.530868 -1.439276      0  \n",
              "\n",
              "[409601 rows x 15 columns]"
            ],
            "text/html": [
              "<div>\n",
              "<style scoped>\n",
              "    .dataframe tbody tr th:only-of-type {\n",
              "        vertical-align: middle;\n",
              "    }\n",
              "\n",
              "    .dataframe tbody tr th {\n",
              "        vertical-align: top;\n",
              "    }\n",
              "\n",
              "    .dataframe thead th {\n",
              "        text-align: right;\n",
              "    }\n",
              "</style>\n",
              "<table border=\"1\" class=\"dataframe\">\n",
              "  <thead>\n",
              "    <tr style=\"text-align: right;\">\n",
              "      <th></th>\n",
              "      <th>concreteness_rank_perc</th>\n",
              "      <th>concreteness_rank_no_punc_perc</th>\n",
              "      <th>aol_rank_perc</th>\n",
              "      <th>aol_rank_no_punc_perc</th>\n",
              "      <th>basic_rank</th>\n",
              "      <th>oov_rank</th>\n",
              "      <th>oov_rank_no_punc</th>\n",
              "      <th>punct_lemm</th>\n",
              "      <th>punct</th>\n",
              "      <th>word_len</th>\n",
              "      <th>word_len_no_punc</th>\n",
              "      <th>word_count_no_punct</th>\n",
              "      <th>word_count</th>\n",
              "      <th>sent_len</th>\n",
              "      <th>label</th>\n",
              "    </tr>\n",
              "  </thead>\n",
              "  <tbody>\n",
              "    <tr>\n",
              "      <th>0</th>\n",
              "      <td>-0.221266</td>\n",
              "      <td>-0.220770</td>\n",
              "      <td>-0.273306</td>\n",
              "      <td>-0.274674</td>\n",
              "      <td>-0.603480</td>\n",
              "      <td>0.596064</td>\n",
              "      <td>0.600895</td>\n",
              "      <td>0.962834</td>\n",
              "      <td>0.962834</td>\n",
              "      <td>-0.532420</td>\n",
              "      <td>-0.696349</td>\n",
              "      <td>1.639359</td>\n",
              "      <td>1.660920</td>\n",
              "      <td>1.376635</td>\n",
              "      <td>1</td>\n",
              "    </tr>\n",
              "    <tr>\n",
              "      <th>1</th>\n",
              "      <td>-0.215557</td>\n",
              "      <td>-0.323506</td>\n",
              "      <td>0.003868</td>\n",
              "      <td>-0.082727</td>\n",
              "      <td>-0.875025</td>\n",
              "      <td>-0.694498</td>\n",
              "      <td>-0.651475</td>\n",
              "      <td>-0.214318</td>\n",
              "      <td>-0.214318</td>\n",
              "      <td>1.363416</td>\n",
              "      <td>1.277665</td>\n",
              "      <td>0.121084</td>\n",
              "      <td>0.065026</td>\n",
              "      <td>0.495760</td>\n",
              "      <td>1</td>\n",
              "    </tr>\n",
              "    <tr>\n",
              "      <th>2</th>\n",
              "      <td>0.304436</td>\n",
              "      <td>0.207257</td>\n",
              "      <td>0.298332</td>\n",
              "      <td>0.244045</td>\n",
              "      <td>0.186470</td>\n",
              "      <td>0.165877</td>\n",
              "      <td>0.183439</td>\n",
              "      <td>0.962834</td>\n",
              "      <td>0.962834</td>\n",
              "      <td>-0.101751</td>\n",
              "      <td>-0.410484</td>\n",
              "      <td>1.996600</td>\n",
              "      <td>1.900304</td>\n",
              "      <td>1.853174</td>\n",
              "      <td>1</td>\n",
              "    </tr>\n",
              "    <tr>\n",
              "      <th>3</th>\n",
              "      <td>1.377501</td>\n",
              "      <td>1.855544</td>\n",
              "      <td>0.492513</td>\n",
              "      <td>1.410468</td>\n",
              "      <td>-0.072099</td>\n",
              "      <td>0.596064</td>\n",
              "      <td>0.600895</td>\n",
              "      <td>2.728561</td>\n",
              "      <td>2.728561</td>\n",
              "      <td>0.915059</td>\n",
              "      <td>0.860215</td>\n",
              "      <td>1.103497</td>\n",
              "      <td>1.341741</td>\n",
              "      <td>1.824293</td>\n",
              "      <td>1</td>\n",
              "    </tr>\n",
              "    <tr>\n",
              "      <th>4</th>\n",
              "      <td>-1.576124</td>\n",
              "      <td>-1.383745</td>\n",
              "      <td>-0.759253</td>\n",
              "      <td>-0.655739</td>\n",
              "      <td>-1.206742</td>\n",
              "      <td>-1.602671</td>\n",
              "      <td>-1.903845</td>\n",
              "      <td>3.317137</td>\n",
              "      <td>3.317137</td>\n",
              "      <td>0.117090</td>\n",
              "      <td>0.910676</td>\n",
              "      <td>0.746256</td>\n",
              "      <td>1.102357</td>\n",
              "      <td>1.174467</td>\n",
              "      <td>1</td>\n",
              "    </tr>\n",
              "    <tr>\n",
              "      <th>...</th>\n",
              "      <td>...</td>\n",
              "      <td>...</td>\n",
              "      <td>...</td>\n",
              "      <td>...</td>\n",
              "      <td>...</td>\n",
              "      <td>...</td>\n",
              "      <td>...</td>\n",
              "      <td>...</td>\n",
              "      <td>...</td>\n",
              "      <td>...</td>\n",
              "      <td>...</td>\n",
              "      <td>...</td>\n",
              "      <td>...</td>\n",
              "      <td>...</td>\n",
              "      <td>...</td>\n",
              "    </tr>\n",
              "    <tr>\n",
              "      <th>416763</th>\n",
              "      <td>-0.283055</td>\n",
              "      <td>-0.280792</td>\n",
              "      <td>-0.997946</td>\n",
              "      <td>-1.031770</td>\n",
              "      <td>0.139639</td>\n",
              "      <td>0.596064</td>\n",
              "      <td>0.600895</td>\n",
              "      <td>-0.214318</td>\n",
              "      <td>-0.214318</td>\n",
              "      <td>-0.883079</td>\n",
              "      <td>-0.777473</td>\n",
              "      <td>-0.414777</td>\n",
              "      <td>-0.413742</td>\n",
              "      <td>-0.587282</td>\n",
              "      <td>0</td>\n",
              "    </tr>\n",
              "    <tr>\n",
              "      <th>416764</th>\n",
              "      <td>0.620962</td>\n",
              "      <td>0.590214</td>\n",
              "      <td>1.259040</td>\n",
              "      <td>1.397517</td>\n",
              "      <td>0.624337</td>\n",
              "      <td>0.596064</td>\n",
              "      <td>0.600895</td>\n",
              "      <td>-0.214318</td>\n",
              "      <td>-0.214318</td>\n",
              "      <td>0.104814</td>\n",
              "      <td>-0.263689</td>\n",
              "      <td>-0.146846</td>\n",
              "      <td>-0.174358</td>\n",
              "      <td>-0.125184</td>\n",
              "      <td>0</td>\n",
              "    </tr>\n",
              "    <tr>\n",
              "      <th>416765</th>\n",
              "      <td>1.034927</td>\n",
              "      <td>0.972676</td>\n",
              "      <td>1.302584</td>\n",
              "      <td>1.203593</td>\n",
              "      <td>0.596593</td>\n",
              "      <td>0.596064</td>\n",
              "      <td>0.600895</td>\n",
              "      <td>-0.802894</td>\n",
              "      <td>-0.802894</td>\n",
              "      <td>0.446322</td>\n",
              "      <td>0.352853</td>\n",
              "      <td>-0.861328</td>\n",
              "      <td>-0.892510</td>\n",
              "      <td>-0.803891</td>\n",
              "      <td>0</td>\n",
              "    </tr>\n",
              "    <tr>\n",
              "      <th>416766</th>\n",
              "      <td>0.656459</td>\n",
              "      <td>0.496876</td>\n",
              "      <td>0.529012</td>\n",
              "      <td>0.441837</td>\n",
              "      <td>0.028509</td>\n",
              "      <td>0.124907</td>\n",
              "      <td>0.151327</td>\n",
              "      <td>-0.214318</td>\n",
              "      <td>-0.214318</td>\n",
              "      <td>-0.373968</td>\n",
              "      <td>-0.513994</td>\n",
              "      <td>1.728669</td>\n",
              "      <td>1.581125</td>\n",
              "      <td>1.391076</td>\n",
              "      <td>0</td>\n",
              "    </tr>\n",
              "    <tr>\n",
              "      <th>416767</th>\n",
              "      <td>-3.426700</td>\n",
              "      <td>-3.601151</td>\n",
              "      <td>-2.142611</td>\n",
              "      <td>-2.263822</td>\n",
              "      <td>-2.732641</td>\n",
              "      <td>0.596064</td>\n",
              "      <td>0.600895</td>\n",
              "      <td>-0.214318</td>\n",
              "      <td>-0.214318</td>\n",
              "      <td>1.651646</td>\n",
              "      <td>3.846588</td>\n",
              "      <td>-1.575810</td>\n",
              "      <td>-1.530868</td>\n",
              "      <td>-1.439276</td>\n",
              "      <td>0</td>\n",
              "    </tr>\n",
              "  </tbody>\n",
              "</table>\n",
              "<p>409601 rows × 15 columns</p>\n",
              "</div>"
            ]
          },
          "metadata": {},
          "execution_count": 76
        }
      ]
    },
    {
      "cell_type": "code",
      "source": [
        "# text_feature = 'original_text'\n",
        "# text_pipeline = Pipeline([\n",
        "#                           ('tfidf', TfidfVectorizer(stop_words='english', min_df=500, ngram_range=(1,2)))\n",
        "# ])\n",
        "\n",
        "# ct = make_column_transformer(\n",
        "#     (text_pipeline,\n",
        "#      text_feature),\n",
        "# )\n",
        "\n",
        "\n",
        "clf = setup(normalized_df, target='label', session_id=123,\n",
        "            preprocess=False, silent=True,use_gpu=True)"
      ],
      "metadata": {
        "colab": {
          "base_uri": "https://localhost:8080/",
          "height": 467,
          "referenced_widgets": [
            "715587ca3134414fad3e4761bef5221c",
            "d668b58548824e7e9c9a0b5f5b06e3ac",
            "cd478a8cb14a4b41a5074a9c4bc28c66"
          ]
        },
        "id": "U0HZxwDbwZIH",
        "outputId": "59a0ba93-7620-4ef2-b2ac-f9b3f63203cb"
      },
      "execution_count": null,
      "outputs": [
        {
          "output_type": "display_data",
          "data": {
            "text/plain": [
              "<pandas.io.formats.style.Styler at 0x26f8c2cbfa0>"
            ],
            "text/html": [
              "<style type=\"text/css\">\n",
              "#T_db402_row15_col1 {\n",
              "  background-color: lightgreen;\n",
              "}\n",
              "</style>\n",
              "<table id=\"T_db402_\">\n",
              "  <thead>\n",
              "    <tr>\n",
              "      <th class=\"blank level0\" >&nbsp;</th>\n",
              "      <th class=\"col_heading level0 col0\" >Description</th>\n",
              "      <th class=\"col_heading level0 col1\" >Value</th>\n",
              "    </tr>\n",
              "  </thead>\n",
              "  <tbody>\n",
              "    <tr>\n",
              "      <th id=\"T_db402_level0_row0\" class=\"row_heading level0 row0\" >0</th>\n",
              "      <td id=\"T_db402_row0_col0\" class=\"data row0 col0\" >session_id</td>\n",
              "      <td id=\"T_db402_row0_col1\" class=\"data row0 col1\" >123</td>\n",
              "    </tr>\n",
              "    <tr>\n",
              "      <th id=\"T_db402_level0_row1\" class=\"row_heading level0 row1\" >1</th>\n",
              "      <td id=\"T_db402_row1_col0\" class=\"data row1 col0\" >Target</td>\n",
              "      <td id=\"T_db402_row1_col1\" class=\"data row1 col1\" >label</td>\n",
              "    </tr>\n",
              "    <tr>\n",
              "      <th id=\"T_db402_level0_row2\" class=\"row_heading level0 row2\" >2</th>\n",
              "      <td id=\"T_db402_row2_col0\" class=\"data row2 col0\" >Target Type</td>\n",
              "      <td id=\"T_db402_row2_col1\" class=\"data row2 col1\" >Binary</td>\n",
              "    </tr>\n",
              "    <tr>\n",
              "      <th id=\"T_db402_level0_row3\" class=\"row_heading level0 row3\" >3</th>\n",
              "      <td id=\"T_db402_row3_col0\" class=\"data row3 col0\" >Label Encoded</td>\n",
              "      <td id=\"T_db402_row3_col1\" class=\"data row3 col1\" >None</td>\n",
              "    </tr>\n",
              "    <tr>\n",
              "      <th id=\"T_db402_level0_row4\" class=\"row_heading level0 row4\" >4</th>\n",
              "      <td id=\"T_db402_row4_col0\" class=\"data row4 col0\" >Original Data</td>\n",
              "      <td id=\"T_db402_row4_col1\" class=\"data row4 col1\" >(409601, 15)</td>\n",
              "    </tr>\n",
              "    <tr>\n",
              "      <th id=\"T_db402_level0_row5\" class=\"row_heading level0 row5\" >5</th>\n",
              "      <td id=\"T_db402_row5_col0\" class=\"data row5 col0\" >Missing Values</td>\n",
              "      <td id=\"T_db402_row5_col1\" class=\"data row5 col1\" >False</td>\n",
              "    </tr>\n",
              "    <tr>\n",
              "      <th id=\"T_db402_level0_row6\" class=\"row_heading level0 row6\" >6</th>\n",
              "      <td id=\"T_db402_row6_col0\" class=\"data row6 col0\" >Numeric Features</td>\n",
              "      <td id=\"T_db402_row6_col1\" class=\"data row6 col1\" >14</td>\n",
              "    </tr>\n",
              "    <tr>\n",
              "      <th id=\"T_db402_level0_row7\" class=\"row_heading level0 row7\" >7</th>\n",
              "      <td id=\"T_db402_row7_col0\" class=\"data row7 col0\" >Categorical Features</td>\n",
              "      <td id=\"T_db402_row7_col1\" class=\"data row7 col1\" >0</td>\n",
              "    </tr>\n",
              "    <tr>\n",
              "      <th id=\"T_db402_level0_row8\" class=\"row_heading level0 row8\" >8</th>\n",
              "      <td id=\"T_db402_row8_col0\" class=\"data row8 col0\" >Transformed Train Set</td>\n",
              "      <td id=\"T_db402_row8_col1\" class=\"data row8 col1\" >(286720, 14)</td>\n",
              "    </tr>\n",
              "    <tr>\n",
              "      <th id=\"T_db402_level0_row9\" class=\"row_heading level0 row9\" >9</th>\n",
              "      <td id=\"T_db402_row9_col0\" class=\"data row9 col0\" >Transformed Test Set</td>\n",
              "      <td id=\"T_db402_row9_col1\" class=\"data row9 col1\" >(122881, 14)</td>\n",
              "    </tr>\n",
              "    <tr>\n",
              "      <th id=\"T_db402_level0_row10\" class=\"row_heading level0 row10\" >10</th>\n",
              "      <td id=\"T_db402_row10_col0\" class=\"data row10 col0\" >Shuffle Train-Test</td>\n",
              "      <td id=\"T_db402_row10_col1\" class=\"data row10 col1\" >True</td>\n",
              "    </tr>\n",
              "    <tr>\n",
              "      <th id=\"T_db402_level0_row11\" class=\"row_heading level0 row11\" >11</th>\n",
              "      <td id=\"T_db402_row11_col0\" class=\"data row11 col0\" >Stratify Train-Test</td>\n",
              "      <td id=\"T_db402_row11_col1\" class=\"data row11 col1\" >False</td>\n",
              "    </tr>\n",
              "    <tr>\n",
              "      <th id=\"T_db402_level0_row12\" class=\"row_heading level0 row12\" >12</th>\n",
              "      <td id=\"T_db402_row12_col0\" class=\"data row12 col0\" >Fold Generator</td>\n",
              "      <td id=\"T_db402_row12_col1\" class=\"data row12 col1\" >StratifiedKFold</td>\n",
              "    </tr>\n",
              "    <tr>\n",
              "      <th id=\"T_db402_level0_row13\" class=\"row_heading level0 row13\" >13</th>\n",
              "      <td id=\"T_db402_row13_col0\" class=\"data row13 col0\" >Fold Number</td>\n",
              "      <td id=\"T_db402_row13_col1\" class=\"data row13 col1\" >10</td>\n",
              "    </tr>\n",
              "    <tr>\n",
              "      <th id=\"T_db402_level0_row14\" class=\"row_heading level0 row14\" >14</th>\n",
              "      <td id=\"T_db402_row14_col0\" class=\"data row14 col0\" >CPU Jobs</td>\n",
              "      <td id=\"T_db402_row14_col1\" class=\"data row14 col1\" >-1</td>\n",
              "    </tr>\n",
              "    <tr>\n",
              "      <th id=\"T_db402_level0_row15\" class=\"row_heading level0 row15\" >15</th>\n",
              "      <td id=\"T_db402_row15_col0\" class=\"data row15 col0\" >Use GPU</td>\n",
              "      <td id=\"T_db402_row15_col1\" class=\"data row15 col1\" >True</td>\n",
              "    </tr>\n",
              "    <tr>\n",
              "      <th id=\"T_db402_level0_row16\" class=\"row_heading level0 row16\" >16</th>\n",
              "      <td id=\"T_db402_row16_col0\" class=\"data row16 col0\" >Log Experiment</td>\n",
              "      <td id=\"T_db402_row16_col1\" class=\"data row16 col1\" >False</td>\n",
              "    </tr>\n",
              "    <tr>\n",
              "      <th id=\"T_db402_level0_row17\" class=\"row_heading level0 row17\" >17</th>\n",
              "      <td id=\"T_db402_row17_col0\" class=\"data row17 col0\" >Experiment Name</td>\n",
              "      <td id=\"T_db402_row17_col1\" class=\"data row17 col1\" >clf-default-name</td>\n",
              "    </tr>\n",
              "    <tr>\n",
              "      <th id=\"T_db402_level0_row18\" class=\"row_heading level0 row18\" >18</th>\n",
              "      <td id=\"T_db402_row18_col0\" class=\"data row18 col0\" >USI</td>\n",
              "      <td id=\"T_db402_row18_col1\" class=\"data row18 col1\" >36c1</td>\n",
              "    </tr>\n",
              "    <tr>\n",
              "      <th id=\"T_db402_level0_row19\" class=\"row_heading level0 row19\" >19</th>\n",
              "      <td id=\"T_db402_row19_col0\" class=\"data row19 col0\" >Fix Imbalance</td>\n",
              "      <td id=\"T_db402_row19_col1\" class=\"data row19 col1\" >False</td>\n",
              "    </tr>\n",
              "    <tr>\n",
              "      <th id=\"T_db402_level0_row20\" class=\"row_heading level0 row20\" >20</th>\n",
              "      <td id=\"T_db402_row20_col0\" class=\"data row20 col0\" >Fix Imbalance Method</td>\n",
              "      <td id=\"T_db402_row20_col1\" class=\"data row20 col1\" >SMOTE</td>\n",
              "    </tr>\n",
              "  </tbody>\n",
              "</table>\n"
            ]
          },
          "metadata": {}
        }
      ]
    },
    {
      "cell_type": "markdown",
      "source": [
        ""
      ],
      "metadata": {
        "id": "qUhfLuOrRUbd"
      }
    },
    {
      "cell_type": "code",
      "source": [
        "best_model = compare_models(exclude=['qda','lda'], fold=5)\n"
      ],
      "metadata": {
        "colab": {
          "base_uri": "https://localhost:8080/",
          "height": 283,
          "referenced_widgets": [
            "8d08926c001a467b81cb2ad24611de4c",
            "503943e1507042f4a6491977a7958645",
            "b800d579898b44afb8c6f3c17af71b3e"
          ]
        },
        "id": "bJDGYQlA8qPs",
        "outputId": "2502aeb7-8e1e-41f2-f861-f14c3a6787c8"
      },
      "execution_count": null,
      "outputs": [
        {
          "output_type": "display_data",
          "data": {
            "text/plain": [
              "<pandas.io.formats.style.Styler at 0x26f8b8f18b0>"
            ],
            "text/html": [
              "<style type=\"text/css\">\n",
              "#T_838e7_ th {\n",
              "  text-align: left;\n",
              "}\n",
              "#T_838e7_row0_col0, #T_838e7_row0_col3, #T_838e7_row1_col0, #T_838e7_row1_col1, #T_838e7_row1_col2, #T_838e7_row1_col3, #T_838e7_row1_col4, #T_838e7_row1_col5, #T_838e7_row1_col6, #T_838e7_row1_col7, #T_838e7_row2_col0, #T_838e7_row2_col1, #T_838e7_row2_col2, #T_838e7_row2_col3, #T_838e7_row2_col4, #T_838e7_row2_col5, #T_838e7_row2_col6, #T_838e7_row2_col7, #T_838e7_row3_col0, #T_838e7_row3_col1, #T_838e7_row3_col2, #T_838e7_row3_col3, #T_838e7_row3_col4, #T_838e7_row3_col5, #T_838e7_row3_col6, #T_838e7_row3_col7, #T_838e7_row4_col0, #T_838e7_row4_col1, #T_838e7_row4_col2, #T_838e7_row4_col3, #T_838e7_row4_col4, #T_838e7_row4_col5, #T_838e7_row4_col6, #T_838e7_row4_col7, #T_838e7_row5_col0, #T_838e7_row5_col1, #T_838e7_row5_col2, #T_838e7_row5_col3, #T_838e7_row5_col4, #T_838e7_row5_col5, #T_838e7_row5_col6, #T_838e7_row5_col7, #T_838e7_row6_col0, #T_838e7_row6_col1, #T_838e7_row6_col2, #T_838e7_row6_col3, #T_838e7_row6_col4, #T_838e7_row6_col5, #T_838e7_row6_col6, #T_838e7_row6_col7, #T_838e7_row7_col0, #T_838e7_row7_col1, #T_838e7_row7_col2, #T_838e7_row7_col3, #T_838e7_row7_col4, #T_838e7_row7_col5, #T_838e7_row7_col6, #T_838e7_row7_col7, #T_838e7_row8_col0, #T_838e7_row8_col1, #T_838e7_row8_col2, #T_838e7_row8_col3, #T_838e7_row8_col4, #T_838e7_row8_col5, #T_838e7_row8_col6, #T_838e7_row8_col7, #T_838e7_row9_col0, #T_838e7_row9_col1, #T_838e7_row9_col2, #T_838e7_row9_col3, #T_838e7_row9_col4, #T_838e7_row9_col5, #T_838e7_row9_col6, #T_838e7_row9_col7, #T_838e7_row10_col0, #T_838e7_row10_col1, #T_838e7_row10_col2, #T_838e7_row10_col3, #T_838e7_row10_col4, #T_838e7_row10_col5, #T_838e7_row10_col6, #T_838e7_row10_col7, #T_838e7_row11_col0, #T_838e7_row11_col1, #T_838e7_row11_col2, #T_838e7_row11_col4, #T_838e7_row11_col5, #T_838e7_row11_col6, #T_838e7_row11_col7 {\n",
              "  text-align: left;\n",
              "}\n",
              "#T_838e7_row0_col1, #T_838e7_row0_col2, #T_838e7_row0_col4, #T_838e7_row0_col5, #T_838e7_row0_col6, #T_838e7_row0_col7, #T_838e7_row11_col3 {\n",
              "  text-align: left;\n",
              "  background-color: yellow;\n",
              "}\n",
              "#T_838e7_row0_col8, #T_838e7_row1_col8, #T_838e7_row2_col8, #T_838e7_row3_col8, #T_838e7_row4_col8, #T_838e7_row5_col8, #T_838e7_row6_col8, #T_838e7_row7_col8, #T_838e7_row8_col8, #T_838e7_row9_col8, #T_838e7_row10_col8 {\n",
              "  text-align: left;\n",
              "  background-color: lightgrey;\n",
              "}\n",
              "#T_838e7_row11_col8 {\n",
              "  text-align: left;\n",
              "  background-color: yellow;\n",
              "  background-color: lightgrey;\n",
              "}\n",
              "</style>\n",
              "<table id=\"T_838e7_\">\n",
              "  <thead>\n",
              "    <tr>\n",
              "      <th class=\"blank level0\" >&nbsp;</th>\n",
              "      <th class=\"col_heading level0 col0\" >Model</th>\n",
              "      <th class=\"col_heading level0 col1\" >Accuracy</th>\n",
              "      <th class=\"col_heading level0 col2\" >AUC</th>\n",
              "      <th class=\"col_heading level0 col3\" >Recall</th>\n",
              "      <th class=\"col_heading level0 col4\" >Prec.</th>\n",
              "      <th class=\"col_heading level0 col5\" >F1</th>\n",
              "      <th class=\"col_heading level0 col6\" >Kappa</th>\n",
              "      <th class=\"col_heading level0 col7\" >MCC</th>\n",
              "      <th class=\"col_heading level0 col8\" >TT (Sec)</th>\n",
              "    </tr>\n",
              "  </thead>\n",
              "  <tbody>\n",
              "    <tr>\n",
              "      <th id=\"T_838e7_level0_row0\" class=\"row_heading level0 row0\" >rf</th>\n",
              "      <td id=\"T_838e7_row0_col0\" class=\"data row0 col0\" >Random Forest Classifier</td>\n",
              "      <td id=\"T_838e7_row0_col1\" class=\"data row0 col1\" >0.6878</td>\n",
              "      <td id=\"T_838e7_row0_col2\" class=\"data row0 col2\" >0.7719</td>\n",
              "      <td id=\"T_838e7_row0_col3\" class=\"data row0 col3\" >0.7132</td>\n",
              "      <td id=\"T_838e7_row0_col4\" class=\"data row0 col4\" >0.6852</td>\n",
              "      <td id=\"T_838e7_row0_col5\" class=\"data row0 col5\" >0.6989</td>\n",
              "      <td id=\"T_838e7_row0_col6\" class=\"data row0 col6\" >0.3751</td>\n",
              "      <td id=\"T_838e7_row0_col7\" class=\"data row0 col7\" >0.3754</td>\n",
              "      <td id=\"T_838e7_row0_col8\" class=\"data row0 col8\" >55.3560</td>\n",
              "    </tr>\n",
              "    <tr>\n",
              "      <th id=\"T_838e7_level0_row1\" class=\"row_heading level0 row1\" >et</th>\n",
              "      <td id=\"T_838e7_row1_col0\" class=\"data row1 col0\" >Extra Trees Classifier</td>\n",
              "      <td id=\"T_838e7_row1_col1\" class=\"data row1 col1\" >0.6830</td>\n",
              "      <td id=\"T_838e7_row1_col2\" class=\"data row1 col2\" >0.7669</td>\n",
              "      <td id=\"T_838e7_row1_col3\" class=\"data row1 col3\" >0.7076</td>\n",
              "      <td id=\"T_838e7_row1_col4\" class=\"data row1 col4\" >0.6809</td>\n",
              "      <td id=\"T_838e7_row1_col5\" class=\"data row1 col5\" >0.6940</td>\n",
              "      <td id=\"T_838e7_row1_col6\" class=\"data row1 col6\" >0.3654</td>\n",
              "      <td id=\"T_838e7_row1_col7\" class=\"data row1 col7\" >0.3657</td>\n",
              "      <td id=\"T_838e7_row1_col8\" class=\"data row1 col8\" >41.9420</td>\n",
              "    </tr>\n",
              "    <tr>\n",
              "      <th id=\"T_838e7_level0_row2\" class=\"row_heading level0 row2\" >lightgbm</th>\n",
              "      <td id=\"T_838e7_row2_col0\" class=\"data row2 col0\" >Light Gradient Boosting Machine</td>\n",
              "      <td id=\"T_838e7_row2_col1\" class=\"data row2 col1\" >0.6552</td>\n",
              "      <td id=\"T_838e7_row2_col2\" class=\"data row2 col2\" >0.7167</td>\n",
              "      <td id=\"T_838e7_row2_col3\" class=\"data row2 col3\" >0.6997</td>\n",
              "      <td id=\"T_838e7_row2_col4\" class=\"data row2 col4\" >0.6490</td>\n",
              "      <td id=\"T_838e7_row2_col5\" class=\"data row2 col5\" >0.6734</td>\n",
              "      <td id=\"T_838e7_row2_col6\" class=\"data row2 col6\" >0.3094</td>\n",
              "      <td id=\"T_838e7_row2_col7\" class=\"data row2 col7\" >0.3104</td>\n",
              "      <td id=\"T_838e7_row2_col8\" class=\"data row2 col8\" >2.6820</td>\n",
              "    </tr>\n",
              "    <tr>\n",
              "      <th id=\"T_838e7_level0_row3\" class=\"row_heading level0 row3\" >gbc</th>\n",
              "      <td id=\"T_838e7_row3_col0\" class=\"data row3 col0\" >Gradient Boosting Classifier</td>\n",
              "      <td id=\"T_838e7_row3_col1\" class=\"data row3 col1\" >0.6442</td>\n",
              "      <td id=\"T_838e7_row3_col2\" class=\"data row3 col2\" >0.6988</td>\n",
              "      <td id=\"T_838e7_row3_col3\" class=\"data row3 col3\" >0.6864</td>\n",
              "      <td id=\"T_838e7_row3_col4\" class=\"data row3 col4\" >0.6396</td>\n",
              "      <td id=\"T_838e7_row3_col5\" class=\"data row3 col5\" >0.6622</td>\n",
              "      <td id=\"T_838e7_row3_col6\" class=\"data row3 col6\" >0.2875</td>\n",
              "      <td id=\"T_838e7_row3_col7\" class=\"data row3 col7\" >0.2883</td>\n",
              "      <td id=\"T_838e7_row3_col8\" class=\"data row3 col8\" >81.5920</td>\n",
              "    </tr>\n",
              "    <tr>\n",
              "      <th id=\"T_838e7_level0_row4\" class=\"row_heading level0 row4\" >dt</th>\n",
              "      <td id=\"T_838e7_row4_col0\" class=\"data row4 col0\" >Decision Tree Classifier</td>\n",
              "      <td id=\"T_838e7_row4_col1\" class=\"data row4 col1\" >0.6403</td>\n",
              "      <td id=\"T_838e7_row4_col2\" class=\"data row4 col2\" >0.6392</td>\n",
              "      <td id=\"T_838e7_row4_col3\" class=\"data row4 col3\" >0.6423</td>\n",
              "      <td id=\"T_838e7_row4_col4\" class=\"data row4 col4\" >0.6470</td>\n",
              "      <td id=\"T_838e7_row4_col5\" class=\"data row4 col5\" >0.6447</td>\n",
              "      <td id=\"T_838e7_row4_col6\" class=\"data row4 col6\" >0.2805</td>\n",
              "      <td id=\"T_838e7_row4_col7\" class=\"data row4 col7\" >0.2805</td>\n",
              "      <td id=\"T_838e7_row4_col8\" class=\"data row4 col8\" >5.0340</td>\n",
              "    </tr>\n",
              "    <tr>\n",
              "      <th id=\"T_838e7_level0_row5\" class=\"row_heading level0 row5\" >ada</th>\n",
              "      <td id=\"T_838e7_row5_col0\" class=\"data row5 col0\" >Ada Boost Classifier</td>\n",
              "      <td id=\"T_838e7_row5_col1\" class=\"data row5 col1\" >0.6347</td>\n",
              "      <td id=\"T_838e7_row5_col2\" class=\"data row5 col2\" >0.6843</td>\n",
              "      <td id=\"T_838e7_row5_col3\" class=\"data row5 col3\" >0.6971</td>\n",
              "      <td id=\"T_838e7_row5_col4\" class=\"data row5 col4\" >0.6261</td>\n",
              "      <td id=\"T_838e7_row5_col5\" class=\"data row5 col5\" >0.6597</td>\n",
              "      <td id=\"T_838e7_row5_col6\" class=\"data row5 col6\" >0.2678</td>\n",
              "      <td id=\"T_838e7_row5_col7\" class=\"data row5 col7\" >0.2696</td>\n",
              "      <td id=\"T_838e7_row5_col8\" class=\"data row5 col8\" >28.7500</td>\n",
              "    </tr>\n",
              "    <tr>\n",
              "      <th id=\"T_838e7_level0_row6\" class=\"row_heading level0 row6\" >knn</th>\n",
              "      <td id=\"T_838e7_row6_col0\" class=\"data row6 col0\" >K Neighbors Classifier</td>\n",
              "      <td id=\"T_838e7_row6_col1\" class=\"data row6 col1\" >0.6326</td>\n",
              "      <td id=\"T_838e7_row6_col2\" class=\"data row6 col2\" >0.6837</td>\n",
              "      <td id=\"T_838e7_row6_col3\" class=\"data row6 col3\" >0.6606</td>\n",
              "      <td id=\"T_838e7_row6_col4\" class=\"data row6 col4\" >0.6324</td>\n",
              "      <td id=\"T_838e7_row6_col5\" class=\"data row6 col5\" >0.6462</td>\n",
              "      <td id=\"T_838e7_row6_col6\" class=\"data row6 col6\" >0.2644</td>\n",
              "      <td id=\"T_838e7_row6_col7\" class=\"data row6 col7\" >0.2647</td>\n",
              "      <td id=\"T_838e7_row6_col8\" class=\"data row6 col8\" >37.8560</td>\n",
              "    </tr>\n",
              "    <tr>\n",
              "      <th id=\"T_838e7_level0_row7\" class=\"row_heading level0 row7\" >lr</th>\n",
              "      <td id=\"T_838e7_row7_col0\" class=\"data row7 col0\" >Logistic Regression</td>\n",
              "      <td id=\"T_838e7_row7_col1\" class=\"data row7 col1\" >0.6261</td>\n",
              "      <td id=\"T_838e7_row7_col2\" class=\"data row7 col2\" >0.6784</td>\n",
              "      <td id=\"T_838e7_row7_col3\" class=\"data row7 col3\" >0.5753</td>\n",
              "      <td id=\"T_838e7_row7_col4\" class=\"data row7 col4\" >0.6488</td>\n",
              "      <td id=\"T_838e7_row7_col5\" class=\"data row7 col5\" >0.6099</td>\n",
              "      <td id=\"T_838e7_row7_col6\" class=\"data row7 col6\" >0.2533</td>\n",
              "      <td id=\"T_838e7_row7_col7\" class=\"data row7 col7\" >0.2550</td>\n",
              "      <td id=\"T_838e7_row7_col8\" class=\"data row7 col8\" >3.7740</td>\n",
              "    </tr>\n",
              "    <tr>\n",
              "      <th id=\"T_838e7_level0_row8\" class=\"row_heading level0 row8\" >ridge</th>\n",
              "      <td id=\"T_838e7_row8_col0\" class=\"data row8 col0\" >Ridge Classifier</td>\n",
              "      <td id=\"T_838e7_row8_col1\" class=\"data row8 col1\" >0.6244</td>\n",
              "      <td id=\"T_838e7_row8_col2\" class=\"data row8 col2\" >0.0000</td>\n",
              "      <td id=\"T_838e7_row8_col3\" class=\"data row8 col3\" >0.5643</td>\n",
              "      <td id=\"T_838e7_row8_col4\" class=\"data row8 col4\" >0.6501</td>\n",
              "      <td id=\"T_838e7_row8_col5\" class=\"data row8 col5\" >0.6042</td>\n",
              "      <td id=\"T_838e7_row8_col6\" class=\"data row8 col6\" >0.2503</td>\n",
              "      <td id=\"T_838e7_row8_col7\" class=\"data row8 col7\" >0.2525</td>\n",
              "      <td id=\"T_838e7_row8_col8\" class=\"data row8 col8\" >0.3840</td>\n",
              "    </tr>\n",
              "    <tr>\n",
              "      <th id=\"T_838e7_level0_row9\" class=\"row_heading level0 row9\" >svm</th>\n",
              "      <td id=\"T_838e7_row9_col0\" class=\"data row9 col0\" >SVM - Linear Kernel</td>\n",
              "      <td id=\"T_838e7_row9_col1\" class=\"data row9 col1\" >0.6204</td>\n",
              "      <td id=\"T_838e7_row9_col2\" class=\"data row9 col2\" >0.0000</td>\n",
              "      <td id=\"T_838e7_row9_col3\" class=\"data row9 col3\" >0.5096</td>\n",
              "      <td id=\"T_838e7_row9_col4\" class=\"data row9 col4\" >0.6649</td>\n",
              "      <td id=\"T_838e7_row9_col5\" class=\"data row9 col5\" >0.5769</td>\n",
              "      <td id=\"T_838e7_row9_col6\" class=\"data row9 col6\" >0.2435</td>\n",
              "      <td id=\"T_838e7_row9_col7\" class=\"data row9 col7\" >0.2506</td>\n",
              "      <td id=\"T_838e7_row9_col8\" class=\"data row9 col8\" >1.3640</td>\n",
              "    </tr>\n",
              "    <tr>\n",
              "      <th id=\"T_838e7_level0_row10\" class=\"row_heading level0 row10\" >nb</th>\n",
              "      <td id=\"T_838e7_row10_col0\" class=\"data row10 col0\" >Naive Bayes</td>\n",
              "      <td id=\"T_838e7_row10_col1\" class=\"data row10 col1\" >0.6038</td>\n",
              "      <td id=\"T_838e7_row10_col2\" class=\"data row10 col2\" >0.6488</td>\n",
              "      <td id=\"T_838e7_row10_col3\" class=\"data row10 col3\" >0.5951</td>\n",
              "      <td id=\"T_838e7_row10_col4\" class=\"data row10 col4\" >0.6135</td>\n",
              "      <td id=\"T_838e7_row10_col5\" class=\"data row10 col5\" >0.6042</td>\n",
              "      <td id=\"T_838e7_row10_col6\" class=\"data row10 col6\" >0.2079</td>\n",
              "      <td id=\"T_838e7_row10_col7\" class=\"data row10 col7\" >0.2080</td>\n",
              "      <td id=\"T_838e7_row10_col8\" class=\"data row10 col8\" >0.4540</td>\n",
              "    </tr>\n",
              "    <tr>\n",
              "      <th id=\"T_838e7_level0_row11\" class=\"row_heading level0 row11\" >dummy</th>\n",
              "      <td id=\"T_838e7_row11_col0\" class=\"data row11 col0\" >Dummy Classifier</td>\n",
              "      <td id=\"T_838e7_row11_col1\" class=\"data row11 col1\" >0.5080</td>\n",
              "      <td id=\"T_838e7_row11_col2\" class=\"data row11 col2\" >0.5000</td>\n",
              "      <td id=\"T_838e7_row11_col3\" class=\"data row11 col3\" >1.0000</td>\n",
              "      <td id=\"T_838e7_row11_col4\" class=\"data row11 col4\" >0.5080</td>\n",
              "      <td id=\"T_838e7_row11_col5\" class=\"data row11 col5\" >0.6737</td>\n",
              "      <td id=\"T_838e7_row11_col6\" class=\"data row11 col6\" >0.0000</td>\n",
              "      <td id=\"T_838e7_row11_col7\" class=\"data row11 col7\" >0.0000</td>\n",
              "      <td id=\"T_838e7_row11_col8\" class=\"data row11 col8\" >0.2220</td>\n",
              "    </tr>\n",
              "  </tbody>\n",
              "</table>\n"
            ]
          },
          "metadata": {}
        }
      ]
    },
    {
      "cell_type": "code",
      "source": [
        "import string\n",
        "string.punctuation"
      ],
      "metadata": {
        "colab": {
          "base_uri": "https://localhost:8080/"
        },
        "id": "TLULsZ68lI7p",
        "outputId": "9981c891-a459-414a-b92f-74a42af68678"
      },
      "execution_count": null,
      "outputs": [
        {
          "output_type": "execute_result",
          "data": {
            "text/plain": [
              "'!\"#$%&\\'()*+,-./:;<=>?@[\\\\]^_`{|}~'"
            ]
          },
          "metadata": {},
          "execution_count": 59
        }
      ]
    },
    {
      "cell_type": "code",
      "source": [
        "rf = create_model('rf')"
      ],
      "metadata": {
        "colab": {
          "base_uri": "https://localhost:8080/",
          "height": 172
        },
        "id": "mkNKN-vf9K0I",
        "outputId": "989b95db-aee0-44b6-daab-500aa94b6cbd"
      },
      "execution_count": null,
      "outputs": [
        {
          "output_type": "error",
          "ename": "NameError",
          "evalue": "ignored",
          "traceback": [
            "\u001b[1;31m---------------------------------------------------------------------------\u001b[0m",
            "\u001b[1;31mNameError\u001b[0m                                 Traceback (most recent call last)",
            "\u001b[1;32m~\\AppData\\Local\\Temp/ipykernel_25544/1440444878.py\u001b[0m in \u001b[0;36m<module>\u001b[1;34m\u001b[0m\n\u001b[1;32m----> 1\u001b[1;33m \u001b[0mrf\u001b[0m \u001b[1;33m=\u001b[0m \u001b[0mcreate_model\u001b[0m\u001b[1;33m(\u001b[0m\u001b[1;34m'rf'\u001b[0m\u001b[1;33m)\u001b[0m\u001b[1;33m\u001b[0m\u001b[1;33m\u001b[0m\u001b[0m\n\u001b[0m",
            "\u001b[1;31mNameError\u001b[0m: name 'create_model' is not defined"
          ]
        }
      ]
    },
    {
      "cell_type": "code",
      "source": [
        "tuned_rf = tune_model(rf)"
      ],
      "metadata": {
        "id": "smpqOwe9-hU8",
        "colab": {
          "base_uri": "https://localhost:8080/",
          "height": 283,
          "referenced_widgets": [
            "6d9688d4a33744319443f12f39d15aa2",
            "108bad954d8e4ac293a818410ca88236",
            "4f1db2e141e44686bb19094744a18734"
          ]
        },
        "outputId": "d36b1359-a48f-401d-a271-9d85b130029f"
      },
      "execution_count": null,
      "outputs": [
        {
          "output_type": "display_data",
          "data": {
            "text/plain": [
              "<pandas.io.formats.style.Styler at 0x1d1e5a0b4f0>"
            ],
            "text/html": [
              "<style type=\"text/css\">\n",
              "#T_4a59e_row10_col0, #T_4a59e_row10_col1, #T_4a59e_row10_col2, #T_4a59e_row10_col3, #T_4a59e_row10_col4, #T_4a59e_row10_col5, #T_4a59e_row10_col6 {\n",
              "  background: yellow;\n",
              "}\n",
              "</style>\n",
              "<table id=\"T_4a59e_\">\n",
              "  <thead>\n",
              "    <tr>\n",
              "      <th class=\"blank level0\" >&nbsp;</th>\n",
              "      <th class=\"col_heading level0 col0\" >Accuracy</th>\n",
              "      <th class=\"col_heading level0 col1\" >AUC</th>\n",
              "      <th class=\"col_heading level0 col2\" >Recall</th>\n",
              "      <th class=\"col_heading level0 col3\" >Prec.</th>\n",
              "      <th class=\"col_heading level0 col4\" >F1</th>\n",
              "      <th class=\"col_heading level0 col5\" >Kappa</th>\n",
              "      <th class=\"col_heading level0 col6\" >MCC</th>\n",
              "    </tr>\n",
              "  </thead>\n",
              "  <tbody>\n",
              "    <tr>\n",
              "      <th id=\"T_4a59e_level0_row0\" class=\"row_heading level0 row0\" >0</th>\n",
              "      <td id=\"T_4a59e_row0_col0\" class=\"data row0 col0\" >0.6147</td>\n",
              "      <td id=\"T_4a59e_row0_col1\" class=\"data row0 col1\" >0.6614</td>\n",
              "      <td id=\"T_4a59e_row0_col2\" class=\"data row0 col2\" >0.7170</td>\n",
              "      <td id=\"T_4a59e_row0_col3\" class=\"data row0 col3\" >0.5954</td>\n",
              "      <td id=\"T_4a59e_row0_col4\" class=\"data row0 col4\" >0.6505</td>\n",
              "      <td id=\"T_4a59e_row0_col5\" class=\"data row0 col5\" >0.2293</td>\n",
              "      <td id=\"T_4a59e_row0_col6\" class=\"data row0 col6\" >0.2343</td>\n",
              "    </tr>\n",
              "    <tr>\n",
              "      <th id=\"T_4a59e_level0_row1\" class=\"row_heading level0 row1\" >1</th>\n",
              "      <td id=\"T_4a59e_row1_col0\" class=\"data row1 col0\" >0.6106</td>\n",
              "      <td id=\"T_4a59e_row1_col1\" class=\"data row1 col1\" >0.6634</td>\n",
              "      <td id=\"T_4a59e_row1_col2\" class=\"data row1 col2\" >0.6667</td>\n",
              "      <td id=\"T_4a59e_row1_col3\" class=\"data row1 col3\" >0.5997</td>\n",
              "      <td id=\"T_4a59e_row1_col4\" class=\"data row1 col4\" >0.6314</td>\n",
              "      <td id=\"T_4a59e_row1_col5\" class=\"data row1 col5\" >0.2213</td>\n",
              "      <td id=\"T_4a59e_row1_col6\" class=\"data row1 col6\" >0.2227</td>\n",
              "    </tr>\n",
              "    <tr>\n",
              "      <th id=\"T_4a59e_level0_row2\" class=\"row_heading level0 row2\" >2</th>\n",
              "      <td id=\"T_4a59e_row2_col0\" class=\"data row2 col0\" >0.6133</td>\n",
              "      <td id=\"T_4a59e_row2_col1\" class=\"data row2 col1\" >0.6603</td>\n",
              "      <td id=\"T_4a59e_row2_col2\" class=\"data row2 col2\" >0.7175</td>\n",
              "      <td id=\"T_4a59e_row2_col3\" class=\"data row2 col3\" >0.5939</td>\n",
              "      <td id=\"T_4a59e_row2_col4\" class=\"data row2 col4\" >0.6499</td>\n",
              "      <td id=\"T_4a59e_row2_col5\" class=\"data row2 col5\" >0.2265</td>\n",
              "      <td id=\"T_4a59e_row2_col6\" class=\"data row2 col6\" >0.2316</td>\n",
              "    </tr>\n",
              "    <tr>\n",
              "      <th id=\"T_4a59e_level0_row3\" class=\"row_heading level0 row3\" >3</th>\n",
              "      <td id=\"T_4a59e_row3_col0\" class=\"data row3 col0\" >0.6155</td>\n",
              "      <td id=\"T_4a59e_row3_col1\" class=\"data row3 col1\" >0.6656</td>\n",
              "      <td id=\"T_4a59e_row3_col2\" class=\"data row3 col2\" >0.7320</td>\n",
              "      <td id=\"T_4a59e_row3_col3\" class=\"data row3 col3\" >0.5938</td>\n",
              "      <td id=\"T_4a59e_row3_col4\" class=\"data row3 col4\" >0.6557</td>\n",
              "      <td id=\"T_4a59e_row3_col5\" class=\"data row3 col5\" >0.2310</td>\n",
              "      <td id=\"T_4a59e_row3_col6\" class=\"data row3 col6\" >0.2375</td>\n",
              "    </tr>\n",
              "    <tr>\n",
              "      <th id=\"T_4a59e_level0_row4\" class=\"row_heading level0 row4\" >4</th>\n",
              "      <td id=\"T_4a59e_row4_col0\" class=\"data row4 col0\" >0.6163</td>\n",
              "      <td id=\"T_4a59e_row4_col1\" class=\"data row4 col1\" >0.6638</td>\n",
              "      <td id=\"T_4a59e_row4_col2\" class=\"data row4 col2\" >0.6768</td>\n",
              "      <td id=\"T_4a59e_row4_col3\" class=\"data row4 col3\" >0.6039</td>\n",
              "      <td id=\"T_4a59e_row4_col4\" class=\"data row4 col4\" >0.6383</td>\n",
              "      <td id=\"T_4a59e_row4_col5\" class=\"data row4 col5\" >0.2326</td>\n",
              "      <td id=\"T_4a59e_row4_col6\" class=\"data row4 col6\" >0.2343</td>\n",
              "    </tr>\n",
              "    <tr>\n",
              "      <th id=\"T_4a59e_level0_row5\" class=\"row_heading level0 row5\" >5</th>\n",
              "      <td id=\"T_4a59e_row5_col0\" class=\"data row5 col0\" >0.6126</td>\n",
              "      <td id=\"T_4a59e_row5_col1\" class=\"data row5 col1\" >0.6611</td>\n",
              "      <td id=\"T_4a59e_row5_col2\" class=\"data row5 col2\" >0.7193</td>\n",
              "      <td id=\"T_4a59e_row5_col3\" class=\"data row5 col3\" >0.5930</td>\n",
              "      <td id=\"T_4a59e_row5_col4\" class=\"data row5 col4\" >0.6500</td>\n",
              "      <td id=\"T_4a59e_row5_col5\" class=\"data row5 col5\" >0.2251</td>\n",
              "      <td id=\"T_4a59e_row5_col6\" class=\"data row5 col6\" >0.2304</td>\n",
              "    </tr>\n",
              "    <tr>\n",
              "      <th id=\"T_4a59e_level0_row6\" class=\"row_heading level0 row6\" >6</th>\n",
              "      <td id=\"T_4a59e_row6_col0\" class=\"data row6 col0\" >0.6134</td>\n",
              "      <td id=\"T_4a59e_row6_col1\" class=\"data row6 col1\" >0.6615</td>\n",
              "      <td id=\"T_4a59e_row6_col2\" class=\"data row6 col2\" >0.7189</td>\n",
              "      <td id=\"T_4a59e_row6_col3\" class=\"data row6 col3\" >0.5938</td>\n",
              "      <td id=\"T_4a59e_row6_col4\" class=\"data row6 col4\" >0.6504</td>\n",
              "      <td id=\"T_4a59e_row6_col5\" class=\"data row6 col5\" >0.2266</td>\n",
              "      <td id=\"T_4a59e_row6_col6\" class=\"data row6 col6\" >0.2318</td>\n",
              "    </tr>\n",
              "    <tr>\n",
              "      <th id=\"T_4a59e_level0_row7\" class=\"row_heading level0 row7\" >7</th>\n",
              "      <td id=\"T_4a59e_row7_col0\" class=\"data row7 col0\" >0.6166</td>\n",
              "      <td id=\"T_4a59e_row7_col1\" class=\"data row7 col1\" >0.6618</td>\n",
              "      <td id=\"T_4a59e_row7_col2\" class=\"data row7 col2\" >0.7352</td>\n",
              "      <td id=\"T_4a59e_row7_col3\" class=\"data row7 col3\" >0.5944</td>\n",
              "      <td id=\"T_4a59e_row7_col4\" class=\"data row7 col4\" >0.6574</td>\n",
              "      <td id=\"T_4a59e_row7_col5\" class=\"data row7 col5\" >0.2332</td>\n",
              "      <td id=\"T_4a59e_row7_col6\" class=\"data row7 col6\" >0.2400</td>\n",
              "    </tr>\n",
              "    <tr>\n",
              "      <th id=\"T_4a59e_level0_row8\" class=\"row_heading level0 row8\" >8</th>\n",
              "      <td id=\"T_4a59e_row8_col0\" class=\"data row8 col0\" >0.6122</td>\n",
              "      <td id=\"T_4a59e_row8_col1\" class=\"data row8 col1\" >0.6619</td>\n",
              "      <td id=\"T_4a59e_row8_col2\" class=\"data row8 col2\" >0.7273</td>\n",
              "      <td id=\"T_4a59e_row8_col3\" class=\"data row8 col3\" >0.5914</td>\n",
              "      <td id=\"T_4a59e_row8_col4\" class=\"data row8 col4\" >0.6523</td>\n",
              "      <td id=\"T_4a59e_row8_col5\" class=\"data row8 col5\" >0.2244</td>\n",
              "      <td id=\"T_4a59e_row8_col6\" class=\"data row8 col6\" >0.2306</td>\n",
              "    </tr>\n",
              "    <tr>\n",
              "      <th id=\"T_4a59e_level0_row9\" class=\"row_heading level0 row9\" >9</th>\n",
              "      <td id=\"T_4a59e_row9_col0\" class=\"data row9 col0\" >0.6185</td>\n",
              "      <td id=\"T_4a59e_row9_col1\" class=\"data row9 col1\" >0.6644</td>\n",
              "      <td id=\"T_4a59e_row9_col2\" class=\"data row9 col2\" >0.7312</td>\n",
              "      <td id=\"T_4a59e_row9_col3\" class=\"data row9 col3\" >0.5969</td>\n",
              "      <td id=\"T_4a59e_row9_col4\" class=\"data row9 col4\" >0.6572</td>\n",
              "      <td id=\"T_4a59e_row9_col5\" class=\"data row9 col5\" >0.2369</td>\n",
              "      <td id=\"T_4a59e_row9_col6\" class=\"data row9 col6\" >0.2431</td>\n",
              "    </tr>\n",
              "    <tr>\n",
              "      <th id=\"T_4a59e_level0_row10\" class=\"row_heading level0 row10\" >Mean</th>\n",
              "      <td id=\"T_4a59e_row10_col0\" class=\"data row10 col0\" >0.6144</td>\n",
              "      <td id=\"T_4a59e_row10_col1\" class=\"data row10 col1\" >0.6625</td>\n",
              "      <td id=\"T_4a59e_row10_col2\" class=\"data row10 col2\" >0.7142</td>\n",
              "      <td id=\"T_4a59e_row10_col3\" class=\"data row10 col3\" >0.5956</td>\n",
              "      <td id=\"T_4a59e_row10_col4\" class=\"data row10 col4\" >0.6493</td>\n",
              "      <td id=\"T_4a59e_row10_col5\" class=\"data row10 col5\" >0.2287</td>\n",
              "      <td id=\"T_4a59e_row10_col6\" class=\"data row10 col6\" >0.2336</td>\n",
              "    </tr>\n",
              "    <tr>\n",
              "      <th id=\"T_4a59e_level0_row11\" class=\"row_heading level0 row11\" >SD</th>\n",
              "      <td id=\"T_4a59e_row11_col0\" class=\"data row11 col0\" >0.0023</td>\n",
              "      <td id=\"T_4a59e_row11_col1\" class=\"data row11 col1\" >0.0016</td>\n",
              "      <td id=\"T_4a59e_row11_col2\" class=\"data row11 col2\" >0.0222</td>\n",
              "      <td id=\"T_4a59e_row11_col3\" class=\"data row11 col3\" >0.0035</td>\n",
              "      <td id=\"T_4a59e_row11_col4\" class=\"data row11 col4\" >0.0079</td>\n",
              "      <td id=\"T_4a59e_row11_col5\" class=\"data row11 col5\" >0.0045</td>\n",
              "      <td id=\"T_4a59e_row11_col6\" class=\"data row11 col6\" >0.0054</td>\n",
              "    </tr>\n",
              "  </tbody>\n",
              "</table>\n"
            ]
          },
          "metadata": {}
        }
      ]
    },
    {
      "cell_type": "markdown",
      "source": [
        "![image.png](data:image/png;base64,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)"
      ],
      "metadata": {
        "id": "kiNjEem4KPv7"
      }
    },
    {
      "cell_type": "markdown",
      "source": [
        "![image.png](data:image/png;base64,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)"
      ],
      "metadata": {
        "id": "39H4cpFNS7dN"
      }
    },
    {
      "cell_type": "code",
      "source": [
        "df_test_drop.groupby('label').mean()"
      ],
      "metadata": {
        "colab": {
          "base_uri": "https://localhost:8080/",
          "height": 143
        },
        "id": "h0kJbB0G40Ag",
        "outputId": "b00141c5-886b-4240-be86-79f201d7093b"
      },
      "execution_count": null,
      "outputs": [
        {
          "output_type": "execute_result",
          "data": {
            "text/plain": [
              "       basic_rank  concreteness_rank_nan  concreteness_rank  aol_rank_nan  \\\n",
              "label                                                                       \n",
              "0        0.476067               2.592870           1.833412      5.954314   \n",
              "1        0.435934               2.534615           1.754972      6.070297   \n",
              "\n",
              "       aol_rank  \n",
              "label            \n",
              "0      4.175547  \n",
              "1      4.144555  "
            ],
            "text/html": [
              "<div>\n",
              "<style scoped>\n",
              "    .dataframe tbody tr th:only-of-type {\n",
              "        vertical-align: middle;\n",
              "    }\n",
              "\n",
              "    .dataframe tbody tr th {\n",
              "        vertical-align: top;\n",
              "    }\n",
              "\n",
              "    .dataframe thead th {\n",
              "        text-align: right;\n",
              "    }\n",
              "</style>\n",
              "<table border=\"1\" class=\"dataframe\">\n",
              "  <thead>\n",
              "    <tr style=\"text-align: right;\">\n",
              "      <th></th>\n",
              "      <th>basic_rank</th>\n",
              "      <th>concreteness_rank_nan</th>\n",
              "      <th>concreteness_rank</th>\n",
              "      <th>aol_rank_nan</th>\n",
              "      <th>aol_rank</th>\n",
              "    </tr>\n",
              "    <tr>\n",
              "      <th>label</th>\n",
              "      <th></th>\n",
              "      <th></th>\n",
              "      <th></th>\n",
              "      <th></th>\n",
              "      <th></th>\n",
              "    </tr>\n",
              "  </thead>\n",
              "  <tbody>\n",
              "    <tr>\n",
              "      <th>0</th>\n",
              "      <td>0.476067</td>\n",
              "      <td>2.592870</td>\n",
              "      <td>1.833412</td>\n",
              "      <td>5.954314</td>\n",
              "      <td>4.175547</td>\n",
              "    </tr>\n",
              "    <tr>\n",
              "      <th>1</th>\n",
              "      <td>0.435934</td>\n",
              "      <td>2.534615</td>\n",
              "      <td>1.754972</td>\n",
              "      <td>6.070297</td>\n",
              "      <td>4.144555</td>\n",
              "    </tr>\n",
              "  </tbody>\n",
              "</table>\n",
              "</div>"
            ]
          },
          "metadata": {},
          "execution_count": 278
        }
      ]
    },
    {
      "cell_type": "markdown",
      "source": [
        "# generating dense vectors"
      ],
      "metadata": {
        "id": "bpTSMldGcmUM"
      }
    },
    {
      "cell_type": "code",
      "source": [
        "import pandas as pd\n",
        "df = pd.read_csv(r'C:\\Users\\corsi\\Downloads\\umich-siads-695-fall21-predicting-text-difficulty\\WikiLarge_Train.csv')"
      ],
      "metadata": {
        "id": "6jcEysSkqKpm"
      },
      "execution_count": null,
      "outputs": []
    },
    {
      "cell_type": "markdown",
      "source": [
        "## tokenization"
      ],
      "metadata": {
        "id": "JkqG9F3pISVH"
      }
    },
    {
      "cell_type": "code",
      "source": [
        "import numpy as np\n",
        "train_df, dev_df, test_df = \\\n",
        "              np.split(df.sample(frac=1, random_state=22), \n",
        "                       [int(.8*len(df)), int(.9*len(df))])\n",
        "                       "
      ],
      "metadata": {
        "id": "JBd7emLVa-1K"
      },
      "execution_count": null,
      "outputs": []
    },
    {
      "cell_type": "code",
      "source": [
        ">>> import nltk\n",
        ">>> nltk.download('stopwords')\n",
        "from tqdm import tqdm\n",
        "import re\n",
        "import gensim\n",
        "from nltk.corpus import stopwords\n",
        "from sklearn.feature_extraction.text import TfidfVectorizer\n",
        "\n",
        "# YOUR CODE HERE\n",
        "first_pass = []\n",
        "tokenized_train_items = []\n",
        "skip = set(stopwords.words('english'))\n",
        "\n",
        "for bio in tqdm(df['original_text']):\n",
        "    temp = list(re.findall(r'\\w+', bio))\n",
        "    first_pass.append(temp)\n",
        "\n",
        "    temp = [w.lower() for w in temp if w.lower() not in skip]\n",
        "    tokenized_train_items.append(temp)"
      ],
      "metadata": {
        "colab": {
          "base_uri": "https://localhost:8080/"
        },
        "id": "ChNlw5kCIQRU",
        "outputId": "bfbcc30f-5896-465f-8871-fa919734de95"
      },
      "execution_count": null,
      "outputs": [
        {
          "output_type": "stream",
          "name": "stderr",
          "text": [
            "[nltk_data] Downloading package stopwords to\n",
            "[nltk_data]     C:\\Users\\corsi\\AppData\\Roaming\\nltk_data...\n",
            "[nltk_data]   Package stopwords is already up-to-date!\n",
            "100%|██████████████████████████████████████████████████████████████████████████████████████████████████████████████████████| 416768/416768 [00:09<00:00, 45232.73it/s]\n"
          ]
        }
      ]
    },
    {
      "cell_type": "code",
      "source": [
        "model = gensim.models.KeyedVectors.load_word2vec_format(\"D:\\Downloads\\glove.6b\\glove.6B.300d.txt\", binary=False)"
      ],
      "metadata": {
        "id": "-elOOi2EI9kC"
      },
      "execution_count": null,
      "outputs": []
    },
    {
      "cell_type": "code",
      "source": [
        "def generate_dense_features(tokenized_texts, word_vectors): \n",
        "    #HINT: Create an empty list to hold your results \n",
        "        #HINT:Iterate through each item in tokenized_text\n",
        "            #HINT:Create a list that contains current item(s) if found in word_vectors.vocab\n",
        "            #HINT:if the length of this list is greater than zero:\n",
        "                #HINT:We set this as a feature, this is done by using numpy’s mean function and append it to our results list \n",
        "            #HINT:Otherwise: create a vector of numpy zeros using word_vectors.vector_size as the parameter and append it to the results list\n",
        "    #HINT:Return the results list as a numpy array (data type)\n",
        "    import numpy as np\n",
        "    # YOUR CODE HERE\n",
        "    results = []\n",
        "    for item in tokenized_texts:\n",
        "        temp = [i for i in item if i in word_vectors.key_to_index]\n",
        "        if len(temp) > 0 :\n",
        "            results.append(np.mean(word_vectors[temp],axis=0)) #can also pass all words in at once, but did this method\n",
        "            \n",
        "        else:\n",
        "            results.append(np.zeros(word_vectors.vector_size))\n",
        "            \n",
        "    return np.array(results)"
      ],
      "metadata": {
        "id": "zEYn4qeQOs14"
      },
      "execution_count": null,
      "outputs": []
    },
    {
      "cell_type": "code",
      "source": [
        "X_train_wp = generate_dense_features(tokenized_train_items, model)"
      ],
      "metadata": {
        "id": "w-KBKR-2R_kv"
      },
      "execution_count": null,
      "outputs": []
    },
    {
      "cell_type": "code",
      "source": [
        "X_train_wp"
      ],
      "metadata": {
        "colab": {
          "base_uri": "https://localhost:8080/"
        },
        "id": "jY0UI1-KY1M_",
        "outputId": "2c1b5f29-6580-47a8-99e2-af3102e2d5df"
      },
      "execution_count": null,
      "outputs": [
        {
          "output_type": "execute_result",
          "data": {
            "text/plain": [
              "array([[-0.02350625, -0.12460057, -0.23026684, ..., -0.19730856,\n",
              "        -0.08858313,  0.03055525],\n",
              "       [-0.01202874,  0.1109045 , -0.00648066, ..., -0.04726169,\n",
              "        -0.1000015 , -0.05872038],\n",
              "       [-0.09904318,  0.06168618, -0.02186305, ..., -0.13245144,\n",
              "        -0.14939456, -0.09850757],\n",
              "       ...,\n",
              "       [-0.24867   , -0.08715   , -0.086358  , ...,  0.14562   ,\n",
              "         0.13619767, -0.39180103],\n",
              "       [-0.12776656,  0.06643626,  0.10554238, ...,  0.03426769,\n",
              "         0.24862611, -0.01243238],\n",
              "       [ 0.        ,  0.        ,  0.        , ...,  0.        ,\n",
              "         0.        ,  0.        ]])"
            ]
          },
          "metadata": {},
          "execution_count": 20
        }
      ]
    },
    {
      "cell_type": "code",
      "source": [
        "first_pass = []\n",
        "tokenized_train_items_dev = []\n",
        "skip = set(stopwords.words('english'))\n",
        "\n",
        "for bio in tqdm(dev_df['original_text']):\n",
        "    temp = list(re.findall(r'\\w+', bio))\n",
        "    first_pass.append(temp)\n",
        "\n",
        "    temp = [w for w in temp if w.lower() not in skip]\n",
        "    tokenized_train_items_dev.append(temp)\n",
        "\n",
        "first_pass = []\n",
        "tokenized_train_items_test = []\n",
        "skip = set(stopwords.words('english'))\n",
        "\n",
        "for bio in tqdm(test['original_text']):\n",
        "    temp = list(re.findall(r'\\w+', bio))\n",
        "    first_pass.append(temp)\n",
        "\n",
        "    temp = [w for w in temp if w.lower() not in skip]\n",
        "    tokenized_train_items_test.append(temp)"
      ],
      "metadata": {
        "colab": {
          "base_uri": "https://localhost:8080/"
        },
        "id": "POFU3EHnaYQK",
        "outputId": "2f3012ee-74fc-4edb-f2e5-1ddecd53db5d"
      },
      "execution_count": null,
      "outputs": [
        {
          "output_type": "stream",
          "name": "stderr",
          "text": [
            "100%|████████████████████████████████████████████████████████████████████████████████████████████████████████████████████████| 41677/41677 [00:01<00:00, 24228.73it/s]\n",
            "100%|████████████████████████████████████████████████████████████████████████████████████████████████████████████████████████| 41677/41677 [00:00<00:00, 58762.69it/s]\n"
          ]
        }
      ]
    },
    {
      "cell_type": "code",
      "source": [
        "X_dev = generate_dense_features(tokenized_train_items_dev, model)\n",
        "X_test= generate_dense_features(tokenized_train_items_test, model)"
      ],
      "metadata": {
        "id": "xr1fvq9AbWtr"
      },
      "execution_count": null,
      "outputs": []
    },
    {
      "cell_type": "code",
      "source": [
        "from sklearn.linear_model import LogisticRegression"
      ],
      "metadata": {
        "id": "ix_y24IfblZn"
      },
      "execution_count": null,
      "outputs": []
    },
    {
      "cell_type": "code",
      "source": [
        "y_train = train_df['label']\n",
        "y_dev = dev_df['label']\n",
        "y_test = test_df['label']"
      ],
      "metadata": {
        "id": "IPLq5qX8bxsT"
      },
      "execution_count": null,
      "outputs": []
    },
    {
      "cell_type": "code",
      "source": [
        "clf_wp = LogisticRegression(solver='lbfgs', multi_class='auto', max_iter=10000, random_state=22)\n",
        "clf_wp.fit(X_train_wp, y_train)"
      ],
      "metadata": {
        "colab": {
          "base_uri": "https://localhost:8080/"
        },
        "id": "8bsmd14wbr5Q",
        "outputId": "beef1016-ee21-45ae-a714-3e0832a61c75"
      },
      "execution_count": null,
      "outputs": [
        {
          "output_type": "execute_result",
          "data": {
            "text/plain": [
              "LogisticRegression(max_iter=10000, random_state=22)"
            ]
          },
          "metadata": {},
          "execution_count": 32
        }
      ]
    },
    {
      "cell_type": "code",
      "source": [
        "from sklearn.metrics import f1_score\n",
        "\n",
        "lr_wp_tiny_dev_preds= clf_wp.predict(X_dev)\n",
        "lr_wp_f1 = f1_score(y_dev, lr_wp_tiny_dev_preds)\n"
      ],
      "metadata": {
        "id": "lXrQ5v6Vb5yy"
      },
      "execution_count": null,
      "outputs": []
    },
    {
      "cell_type": "code",
      "source": [
        "lr_wp_f1"
      ],
      "metadata": {
        "colab": {
          "base_uri": "https://localhost:8080/"
        },
        "id": "DoxS42SocNep",
        "outputId": "5009d305-ce2c-4da9-ff61-a432220316e4"
      },
      "execution_count": null,
      "outputs": [
        {
          "output_type": "execute_result",
          "data": {
            "text/plain": [
              "0.6288012182934374"
            ]
          },
          "metadata": {},
          "execution_count": 35
        }
      ]
    },
    {
      "cell_type": "code",
      "source": [
        "concreteness['scaled_m'] = concreteness['Conc.M']*concreteness['Percent_known']\n"
      ],
      "metadata": {
        "id": "Hv3S6UTIcTed"
      },
      "execution_count": null,
      "outputs": []
    },
    {
      "cell_type": "code",
      "source": [
        "concreteness['quantiles'] = pd.qcut(concreteness['scaled_m'],labels=False, q=10)"
      ],
      "metadata": {
        "id": "1zcfQfiN86Nk"
      },
      "execution_count": null,
      "outputs": []
    },
    {
      "cell_type": "code",
      "source": [
        "concreteness.groupby('quantiles').mean()[['Conc.M','scaled_m']]"
      ],
      "metadata": {
        "colab": {
          "base_uri": "https://localhost:8080/",
          "height": 394
        },
        "id": "i_nVVlrc9OeR",
        "outputId": "8c092f86-aa58-4263-f508-f00008f4799f"
      },
      "execution_count": null,
      "outputs": [
        {
          "output_type": "execute_result",
          "data": {
            "text/plain": [
              "             Conc.M  scaled_m\n",
              "quantiles                    \n",
              "0          1.627916  1.520962\n",
              "1          1.908152  1.820591\n",
              "2          2.139966  2.046942\n",
              "3          2.385381  2.291640\n",
              "4          2.702609  2.593846\n",
              "5          3.059972  2.945210\n",
              "6          3.455490  3.336855\n",
              "7          3.905378  3.781713\n",
              "8          4.387715  4.298709\n",
              "9          4.808987  4.790969"
            ],
            "text/html": [
              "<div>\n",
              "<style scoped>\n",
              "    .dataframe tbody tr th:only-of-type {\n",
              "        vertical-align: middle;\n",
              "    }\n",
              "\n",
              "    .dataframe tbody tr th {\n",
              "        vertical-align: top;\n",
              "    }\n",
              "\n",
              "    .dataframe thead th {\n",
              "        text-align: right;\n",
              "    }\n",
              "</style>\n",
              "<table border=\"1\" class=\"dataframe\">\n",
              "  <thead>\n",
              "    <tr style=\"text-align: right;\">\n",
              "      <th></th>\n",
              "      <th>Conc.M</th>\n",
              "      <th>scaled_m</th>\n",
              "    </tr>\n",
              "    <tr>\n",
              "      <th>quantiles</th>\n",
              "      <th></th>\n",
              "      <th></th>\n",
              "    </tr>\n",
              "  </thead>\n",
              "  <tbody>\n",
              "    <tr>\n",
              "      <th>0</th>\n",
              "      <td>1.627916</td>\n",
              "      <td>1.520962</td>\n",
              "    </tr>\n",
              "    <tr>\n",
              "      <th>1</th>\n",
              "      <td>1.908152</td>\n",
              "      <td>1.820591</td>\n",
              "    </tr>\n",
              "    <tr>\n",
              "      <th>2</th>\n",
              "      <td>2.139966</td>\n",
              "      <td>2.046942</td>\n",
              "    </tr>\n",
              "    <tr>\n",
              "      <th>3</th>\n",
              "      <td>2.385381</td>\n",
              "      <td>2.291640</td>\n",
              "    </tr>\n",
              "    <tr>\n",
              "      <th>4</th>\n",
              "      <td>2.702609</td>\n",
              "      <td>2.593846</td>\n",
              "    </tr>\n",
              "    <tr>\n",
              "      <th>5</th>\n",
              "      <td>3.059972</td>\n",
              "      <td>2.945210</td>\n",
              "    </tr>\n",
              "    <tr>\n",
              "      <th>6</th>\n",
              "      <td>3.455490</td>\n",
              "      <td>3.336855</td>\n",
              "    </tr>\n",
              "    <tr>\n",
              "      <th>7</th>\n",
              "      <td>3.905378</td>\n",
              "      <td>3.781713</td>\n",
              "    </tr>\n",
              "    <tr>\n",
              "      <th>8</th>\n",
              "      <td>4.387715</td>\n",
              "      <td>4.298709</td>\n",
              "    </tr>\n",
              "    <tr>\n",
              "      <th>9</th>\n",
              "      <td>4.808987</td>\n",
              "      <td>4.790969</td>\n",
              "    </tr>\n",
              "  </tbody>\n",
              "</table>\n",
              "</div>"
            ]
          },
          "metadata": {},
          "execution_count": 50
        }
      ]
    },
    {
      "cell_type": "code",
      "source": [
        "top_quartiles_concreteness = concreteness[concreteness['quantiles'].isin([7,8,9])]['Word'].to_list()\n",
        "middle_quartiles_concreteness = concreteness[concreteness['quantiles'].isin([4,5,6])]['Word'].to_list()\n",
        "lower_quartiles_concreteness = concreteness[concreteness['quantiles'].isin([0,1,2,3])]['Word'].to_list()"
      ],
      "metadata": {
        "id": "hcWZ_vux-Hrp"
      },
      "execution_count": null,
      "outputs": []
    },
    {
      "cell_type": "code",
      "source": [
        "aol['scaled_m'] = aol['AoA_Kup_lem']*aol['Perc_known_lem']\n",
        "aol['quantiles'] = pd.qcut(aol['scaled_m'],labels=False, q=10)"
      ],
      "metadata": {
        "id": "dAu5j1ik_IYq"
      },
      "execution_count": null,
      "outputs": []
    },
    {
      "cell_type": "code",
      "source": [
        "aol.groupby('quantiles').mean()[['AoA_Kup_lem','scaled_m']]"
      ],
      "metadata": {
        "colab": {
          "base_uri": "https://localhost:8080/",
          "height": 394
        },
        "id": "6BT0v_61AO17",
        "outputId": "1df7a9b6-1648-448c-d35b-a94e123301a8"
      },
      "execution_count": null,
      "outputs": [
        {
          "output_type": "execute_result",
          "data": {
            "text/plain": [
              "           AoA_Kup_lem   scaled_m\n",
              "quantiles                        \n",
              "0.0           7.295612   4.264414\n",
              "1.0           7.920775   6.132253\n",
              "2.0           8.755929   7.278838\n",
              "3.0           9.434804   8.171209\n",
              "4.0          10.067738   8.918324\n",
              "5.0          10.632910   9.604959\n",
              "6.0          11.226849  10.272846\n",
              "7.0          11.840295  10.971040\n",
              "8.0          12.585583  11.788265\n",
              "9.0          13.872412  13.241276"
            ],
            "text/html": [
              "<div>\n",
              "<style scoped>\n",
              "    .dataframe tbody tr th:only-of-type {\n",
              "        vertical-align: middle;\n",
              "    }\n",
              "\n",
              "    .dataframe tbody tr th {\n",
              "        vertical-align: top;\n",
              "    }\n",
              "\n",
              "    .dataframe thead th {\n",
              "        text-align: right;\n",
              "    }\n",
              "</style>\n",
              "<table border=\"1\" class=\"dataframe\">\n",
              "  <thead>\n",
              "    <tr style=\"text-align: right;\">\n",
              "      <th></th>\n",
              "      <th>AoA_Kup_lem</th>\n",
              "      <th>scaled_m</th>\n",
              "    </tr>\n",
              "    <tr>\n",
              "      <th>quantiles</th>\n",
              "      <th></th>\n",
              "      <th></th>\n",
              "    </tr>\n",
              "  </thead>\n",
              "  <tbody>\n",
              "    <tr>\n",
              "      <th>0.0</th>\n",
              "      <td>7.295612</td>\n",
              "      <td>4.264414</td>\n",
              "    </tr>\n",
              "    <tr>\n",
              "      <th>1.0</th>\n",
              "      <td>7.920775</td>\n",
              "      <td>6.132253</td>\n",
              "    </tr>\n",
              "    <tr>\n",
              "      <th>2.0</th>\n",
              "      <td>8.755929</td>\n",
              "      <td>7.278838</td>\n",
              "    </tr>\n",
              "    <tr>\n",
              "      <th>3.0</th>\n",
              "      <td>9.434804</td>\n",
              "      <td>8.171209</td>\n",
              "    </tr>\n",
              "    <tr>\n",
              "      <th>4.0</th>\n",
              "      <td>10.067738</td>\n",
              "      <td>8.918324</td>\n",
              "    </tr>\n",
              "    <tr>\n",
              "      <th>5.0</th>\n",
              "      <td>10.632910</td>\n",
              "      <td>9.604959</td>\n",
              "    </tr>\n",
              "    <tr>\n",
              "      <th>6.0</th>\n",
              "      <td>11.226849</td>\n",
              "      <td>10.272846</td>\n",
              "    </tr>\n",
              "    <tr>\n",
              "      <th>7.0</th>\n",
              "      <td>11.840295</td>\n",
              "      <td>10.971040</td>\n",
              "    </tr>\n",
              "    <tr>\n",
              "      <th>8.0</th>\n",
              "      <td>12.585583</td>\n",
              "      <td>11.788265</td>\n",
              "    </tr>\n",
              "    <tr>\n",
              "      <th>9.0</th>\n",
              "      <td>13.872412</td>\n",
              "      <td>13.241276</td>\n",
              "    </tr>\n",
              "  </tbody>\n",
              "</table>\n",
              "</div>"
            ]
          },
          "metadata": {},
          "execution_count": 61
        }
      ]
    },
    {
      "cell_type": "code",
      "source": [
        "top_quartiles_aol = aol[aol['quantiles'].isin([7,8,9])]['Word'].to_list()\n",
        "middle_quartiles_aol = aol[aol['quantiles'].isin([4,5,6])]['Word'].to_list()\n",
        "lower_quartiles_aol = aol[aol['quantiles'].isin([0,1,2,3])]['Word'].to_list()"
      ],
      "metadata": {
        "id": "2VWKzJft_thO"
      },
      "execution_count": null,
      "outputs": []
    },
    {
      "cell_type": "code",
      "source": [
        "\n",
        "model[i for i in top_quartiles_aol if i in model.key_to_index]"
      ],
      "metadata": {
        "id": "3KvLd3szCHJz"
      },
      "execution_count": null,
      "outputs": []
    },
    {
      "cell_type": "code",
      "source": [
        "p = np.mean(model[temp],axis=0)"
      ],
      "metadata": {
        "id": "Qxs7ai0MDQsL"
      },
      "execution_count": null,
      "outputs": []
    },
    {
      "cell_type": "code",
      "source": [
        "p.shape"
      ],
      "metadata": {
        "colab": {
          "base_uri": "https://localhost:8080/"
        },
        "id": "4dmny6X8DtZ7",
        "outputId": "97fb69c6-3a7c-4f45-c5ef-4b68e17b2488"
      },
      "execution_count": null,
      "outputs": [
        {
          "output_type": "execute_result",
          "data": {
            "text/plain": [
              "(300,)"
            ]
          },
          "metadata": {},
          "execution_count": 83
        }
      ]
    },
    {
      "cell_type": "code",
      "source": [
        "\n",
        "\n",
        "from sklearn.metrics.pairwise import cosine_similarity\n",
        "\n",
        "cosine_similarity(p.reshape(-1,300,),p.reshape(-1,300))\n",
        "\n"
      ],
      "metadata": {
        "colab": {
          "base_uri": "https://localhost:8080/"
        },
        "id": "iDvZ8ZC-AiLH",
        "outputId": "efebcae1-8294-458f-d6b3-17468db52b86"
      },
      "execution_count": null,
      "outputs": [
        {
          "output_type": "execute_result",
          "data": {
            "text/plain": [
              "array([[1.]], dtype=float32)"
            ]
          },
          "metadata": {},
          "execution_count": 87
        }
      ]
    },
    {
      "cell_type": "code",
      "source": [
        "import numpy as np"
      ],
      "metadata": {
        "id": "Wt2q_LsnHSEV"
      },
      "execution_count": null,
      "outputs": []
    },
    {
      "cell_type": "code",
      "source": [
        "def quartile_similarity(tokenized_texts, quartile_list):\n",
        "\n",
        "  import numpy as np\n",
        "  from sklearn.metrics.pairwise import cosine_similarity\n",
        "  top = [i for i in quartile_list[0] if i in model.key_to_index]\n",
        "  mid = [i for i in quartile_list[1] if i in model.key_to_index]\n",
        "  bottom = [i for i in quartile_list[2] if i in model.key_to_index]\n",
        "\n",
        "  top_vec = np.mean(model[top],axis=0)\n",
        "  mid_vec = np.mean(model[mid],axis=0)\n",
        "  bottom_vec = np.mean(model[bottom],axis=0)\n",
        "\n",
        "\n",
        "  # YOUR CODE HERE\n",
        "  top_results = []\n",
        "  mid_results = []\n",
        "  bottom_results = []\n",
        "\n",
        "  for item in tokenized_texts:\n",
        "      temp = [i for i in item if i in model.key_to_index]\n",
        "      if len(temp) > 0 :\n",
        "          temp_res = np.mean(model[temp],axis=0)\n",
        "          top_results.append(np.ravel(cosine_similarity(temp_res.reshape(-1,300,),top_vec.reshape(-1,300)))) \n",
        "          mid_results.append(np.ravel(cosine_similarity(temp_res.reshape(-1,300,),mid_vec.reshape(-1,300))))\n",
        "          bottom_results.append(np.ravel(cosine_similarity(temp_res.reshape(-1,300,),bottom_vec.reshape(-1,300))))\n",
        "          \n",
        "      else:\n",
        "          top_results.append(np.array([0.0]))\n",
        "          mid_results.append(np.array([0.0]))\n",
        "          bottom_results.append(np.array([0.0]))\n",
        "          \n",
        "  return top_results, mid_results, bottom_results\n"
      ],
      "metadata": {
        "id": "fJ2-G0O_BBlR"
      },
      "execution_count": null,
      "outputs": []
    },
    {
      "cell_type": "code",
      "source": [
        "top_aol,mid_aol,bot_aol = quartile_similarity(tokenized_train_items, [top_quartiles_aol, middle_quartiles_aol, lower_quartiles_aol])"
      ],
      "metadata": {
        "id": "d7elurqmCfVw"
      },
      "execution_count": null,
      "outputs": []
    },
    {
      "cell_type": "code",
      "source": [
        "top_con,mid_con,bot_con = quartile_similarity(tokenized_train_items, [top_quartiles_concreteness, middle_quartiles_concreteness, lower_quartiles_concreteness])"
      ],
      "metadata": {
        "id": "sTHCtBJjCgDt"
      },
      "execution_count": null,
      "outputs": []
    },
    {
      "cell_type": "code",
      "source": [
        "s =  ['top_aol','mid_aol','bot_aol','top_con','mid_con','bot_con']\n",
        "for i in s:\n",
        "  df[i] = eval(i)"
      ],
      "metadata": {
        "id": "Rz9tnvBUJ9Ri"
      },
      "execution_count": null,
      "outputs": []
    },
    {
      "cell_type": "code",
      "source": [
        "df"
      ],
      "metadata": {
        "colab": {
          "base_uri": "https://localhost:8080/",
          "height": 423
        },
        "id": "wWkvHERPGRND",
        "outputId": "4bbc27e7-8d47-40fa-b915-8d4354fcb392"
      },
      "execution_count": null,
      "outputs": [
        {
          "output_type": "execute_result",
          "data": {
            "text/plain": [
              "                                            original_text  label  \\\n",
              "0       There is manuscript evidence that Austen conti...      1   \n",
              "1       In a remarkable comparative analysis , Mandaea...      1   \n",
              "2       Before Persephone was released to Hermes , who...      1   \n",
              "3       Cogeneration plants are commonly found in dist...      1   \n",
              "4       Geneva -LRB- , ; , ; , ; ; -RRB- is the second...      1   \n",
              "...                                                   ...    ...   \n",
              "416763  A Duke Nukem 3D version has been sold for Xbox...      0   \n",
              "416764  However , it is becoming replaced as a method ...      0   \n",
              "416765  There are hand gestures in both Hindu and Budd...      0   \n",
              "416766  If it is necessary to use colors , try to choo...      0   \n",
              "416767                               Calgary Stampeders ,      0   \n",
              "\n",
              "              top_aol         mid_aol        bot_aol         top_con  \\\n",
              "0       [-0.37141532]   [-0.35804504]  [-0.24380478]   [-0.18652943]   \n",
              "1       [0.003355795]   [-0.04868604]  [-0.08670596]   [-0.14069462]   \n",
              "2        [-0.2303474]   [-0.17144765]   [0.02262747]   [0.031259473]   \n",
              "3       [-0.23821099]   [-0.22700252]  [-0.12399283]  [-0.085915856]   \n",
              "4       [-0.18674688]   [-0.17964005]  [-0.15711965]   [-0.15991654]   \n",
              "...               ...             ...            ...             ...   \n",
              "416763  [-0.37623993]   [-0.35532305]  [-0.21729384]   [-0.13942683]   \n",
              "416764  [-0.22666098]   [-0.24104525]  [-0.18091497]   [-0.17705551]   \n",
              "416765  [0.053597856]    [0.06936591]    [0.1180115]   [0.077153206]   \n",
              "416766  [-0.11877045]   [-0.07170235]   [0.13616276]    [0.17534916]   \n",
              "416767  [-0.07214046]  [-0.059828885]   [-0.0738876]  [-0.034676675]   \n",
              "\n",
              "                mid_con        bot_con  \n",
              "0          [-0.2821633]  [-0.28259793]  \n",
              "1       [-0.0044107707]   [0.06811517]  \n",
              "2        [-0.059297837]  [-0.19280332]  \n",
              "3         [-0.09480366]    [-0.212761]  \n",
              "4          [-0.1459551]   [-0.1567106]  \n",
              "...                 ...            ...  \n",
              "416763    [-0.22776431]  [-0.31879115]  \n",
              "416764    [-0.10622835]    [-0.137419]  \n",
              "416765     [0.09918713]   [0.11508022]  \n",
              "416766     [0.06979217]  [-0.03860653]  \n",
              "416767   [-0.087364376]  [-0.10827636]  \n",
              "\n",
              "[416768 rows x 8 columns]"
            ],
            "text/html": [
              "<div>\n",
              "<style scoped>\n",
              "    .dataframe tbody tr th:only-of-type {\n",
              "        vertical-align: middle;\n",
              "    }\n",
              "\n",
              "    .dataframe tbody tr th {\n",
              "        vertical-align: top;\n",
              "    }\n",
              "\n",
              "    .dataframe thead th {\n",
              "        text-align: right;\n",
              "    }\n",
              "</style>\n",
              "<table border=\"1\" class=\"dataframe\">\n",
              "  <thead>\n",
              "    <tr style=\"text-align: right;\">\n",
              "      <th></th>\n",
              "      <th>original_text</th>\n",
              "      <th>label</th>\n",
              "      <th>top_aol</th>\n",
              "      <th>mid_aol</th>\n",
              "      <th>bot_aol</th>\n",
              "      <th>top_con</th>\n",
              "      <th>mid_con</th>\n",
              "      <th>bot_con</th>\n",
              "    </tr>\n",
              "  </thead>\n",
              "  <tbody>\n",
              "    <tr>\n",
              "      <th>0</th>\n",
              "      <td>There is manuscript evidence that Austen conti...</td>\n",
              "      <td>1</td>\n",
              "      <td>[-0.37141532]</td>\n",
              "      <td>[-0.35804504]</td>\n",
              "      <td>[-0.24380478]</td>\n",
              "      <td>[-0.18652943]</td>\n",
              "      <td>[-0.2821633]</td>\n",
              "      <td>[-0.28259793]</td>\n",
              "    </tr>\n",
              "    <tr>\n",
              "      <th>1</th>\n",
              "      <td>In a remarkable comparative analysis , Mandaea...</td>\n",
              "      <td>1</td>\n",
              "      <td>[0.003355795]</td>\n",
              "      <td>[-0.04868604]</td>\n",
              "      <td>[-0.08670596]</td>\n",
              "      <td>[-0.14069462]</td>\n",
              "      <td>[-0.0044107707]</td>\n",
              "      <td>[0.06811517]</td>\n",
              "    </tr>\n",
              "    <tr>\n",
              "      <th>2</th>\n",
              "      <td>Before Persephone was released to Hermes , who...</td>\n",
              "      <td>1</td>\n",
              "      <td>[-0.2303474]</td>\n",
              "      <td>[-0.17144765]</td>\n",
              "      <td>[0.02262747]</td>\n",
              "      <td>[0.031259473]</td>\n",
              "      <td>[-0.059297837]</td>\n",
              "      <td>[-0.19280332]</td>\n",
              "    </tr>\n",
              "    <tr>\n",
              "      <th>3</th>\n",
              "      <td>Cogeneration plants are commonly found in dist...</td>\n",
              "      <td>1</td>\n",
              "      <td>[-0.23821099]</td>\n",
              "      <td>[-0.22700252]</td>\n",
              "      <td>[-0.12399283]</td>\n",
              "      <td>[-0.085915856]</td>\n",
              "      <td>[-0.09480366]</td>\n",
              "      <td>[-0.212761]</td>\n",
              "    </tr>\n",
              "    <tr>\n",
              "      <th>4</th>\n",
              "      <td>Geneva -LRB- , ; , ; , ; ; -RRB- is the second...</td>\n",
              "      <td>1</td>\n",
              "      <td>[-0.18674688]</td>\n",
              "      <td>[-0.17964005]</td>\n",
              "      <td>[-0.15711965]</td>\n",
              "      <td>[-0.15991654]</td>\n",
              "      <td>[-0.1459551]</td>\n",
              "      <td>[-0.1567106]</td>\n",
              "    </tr>\n",
              "    <tr>\n",
              "      <th>...</th>\n",
              "      <td>...</td>\n",
              "      <td>...</td>\n",
              "      <td>...</td>\n",
              "      <td>...</td>\n",
              "      <td>...</td>\n",
              "      <td>...</td>\n",
              "      <td>...</td>\n",
              "      <td>...</td>\n",
              "    </tr>\n",
              "    <tr>\n",
              "      <th>416763</th>\n",
              "      <td>A Duke Nukem 3D version has been sold for Xbox...</td>\n",
              "      <td>0</td>\n",
              "      <td>[-0.37623993]</td>\n",
              "      <td>[-0.35532305]</td>\n",
              "      <td>[-0.21729384]</td>\n",
              "      <td>[-0.13942683]</td>\n",
              "      <td>[-0.22776431]</td>\n",
              "      <td>[-0.31879115]</td>\n",
              "    </tr>\n",
              "    <tr>\n",
              "      <th>416764</th>\n",
              "      <td>However , it is becoming replaced as a method ...</td>\n",
              "      <td>0</td>\n",
              "      <td>[-0.22666098]</td>\n",
              "      <td>[-0.24104525]</td>\n",
              "      <td>[-0.18091497]</td>\n",
              "      <td>[-0.17705551]</td>\n",
              "      <td>[-0.10622835]</td>\n",
              "      <td>[-0.137419]</td>\n",
              "    </tr>\n",
              "    <tr>\n",
              "      <th>416765</th>\n",
              "      <td>There are hand gestures in both Hindu and Budd...</td>\n",
              "      <td>0</td>\n",
              "      <td>[0.053597856]</td>\n",
              "      <td>[0.06936591]</td>\n",
              "      <td>[0.1180115]</td>\n",
              "      <td>[0.077153206]</td>\n",
              "      <td>[0.09918713]</td>\n",
              "      <td>[0.11508022]</td>\n",
              "    </tr>\n",
              "    <tr>\n",
              "      <th>416766</th>\n",
              "      <td>If it is necessary to use colors , try to choo...</td>\n",
              "      <td>0</td>\n",
              "      <td>[-0.11877045]</td>\n",
              "      <td>[-0.07170235]</td>\n",
              "      <td>[0.13616276]</td>\n",
              "      <td>[0.17534916]</td>\n",
              "      <td>[0.06979217]</td>\n",
              "      <td>[-0.03860653]</td>\n",
              "    </tr>\n",
              "    <tr>\n",
              "      <th>416767</th>\n",
              "      <td>Calgary Stampeders ,</td>\n",
              "      <td>0</td>\n",
              "      <td>[-0.07214046]</td>\n",
              "      <td>[-0.059828885]</td>\n",
              "      <td>[-0.0738876]</td>\n",
              "      <td>[-0.034676675]</td>\n",
              "      <td>[-0.087364376]</td>\n",
              "      <td>[-0.10827636]</td>\n",
              "    </tr>\n",
              "  </tbody>\n",
              "</table>\n",
              "<p>416768 rows × 8 columns</p>\n",
              "</div>"
            ]
          },
          "metadata": {},
          "execution_count": 134
        }
      ]
    },
    {
      "cell_type": "code",
      "source": [
        "basic_word = basic[0].to_list()"
      ],
      "metadata": {
        "id": "ITSC-x-zSPpw"
      },
      "execution_count": null,
      "outputs": []
    },
    {
      "cell_type": "code",
      "source": [
        "def quartile_similarity_single(tokenized_texts, quartile_list):\n",
        "\n",
        "  import numpy as np\n",
        "  from sklearn.metrics.pairwise import cosine_similarity\n",
        "  top = [i for i in quartile_list if i in model.key_to_index]\n",
        "\n",
        "  top_vec = np.mean(model[top],axis=0)\n",
        "\n",
        "\n",
        "  # YOUR CODE HERE\n",
        "  top_results = []\n",
        "  mid_results = []\n",
        "  bottom_results = []\n",
        "\n",
        "  for item in tokenized_texts:\n",
        "      temp = [i for i in item if i in model.key_to_index]\n",
        "      if len(temp) > 0 :\n",
        "          temp_res = np.mean(model[temp],axis=0)\n",
        "          top_results.append(np.ravel(cosine_similarity(temp_res.reshape(-1,300,),top_vec.reshape(-1,300)))) \n",
        "\n",
        "          \n",
        "      else:\n",
        "          top_results.append(np.array([0.0]))\n",
        "\n",
        "          \n",
        "  return top_results"
      ],
      "metadata": {
        "id": "MEmqXvPLK5eE"
      },
      "execution_count": null,
      "outputs": []
    },
    {
      "cell_type": "code",
      "source": [
        "basic_sim = quartile_similarity_single(tokenized_train_items, basic_word)"
      ],
      "metadata": {
        "id": "GkqqQpxHSkf3"
      },
      "execution_count": null,
      "outputs": []
    },
    {
      "cell_type": "code",
      "source": [
        "df['basic_sim'] = basic_sim"
      ],
      "metadata": {
        "id": "tGR_Owu_Sq_h"
      },
      "execution_count": null,
      "outputs": []
    },
    {
      "cell_type": "code",
      "source": [
        "df_ranks = pd.read_csv(r'C:\\Users\\corsi\\Downloads\\umich-siads-695-fall21-predicting-text-difficulty\\df_train_with_ranks.csv')"
      ],
      "metadata": {
        "id": "lXsM1FSHSzkL"
      },
      "execution_count": null,
      "outputs": []
    },
    {
      "cell_type": "code",
      "source": [
        "df_ranks = df_ranks.select_dtypes('number')"
      ],
      "metadata": {
        "id": "hcgPvQFKS_Mb"
      },
      "execution_count": null,
      "outputs": []
    },
    {
      "cell_type": "code",
      "source": [
        "df_final = df.join(df_ranks.drop(columns=['label']),how='left')"
      ],
      "metadata": {
        "id": "G7YdSHn4TLW8"
      },
      "execution_count": null,
      "outputs": []
    },
    {
      "cell_type": "code",
      "source": [
        "df_final.columns"
      ],
      "metadata": {
        "colab": {
          "base_uri": "https://localhost:8080/"
        },
        "id": "0xuoh3_oUHqG",
        "outputId": "19ab0475-44f9-4426-ab41-af4c1814ebb8"
      },
      "execution_count": null,
      "outputs": [
        {
          "output_type": "execute_result",
          "data": {
            "text/plain": [
              "Index(['original_text', 'label', 'top_aol', 'mid_aol', 'bot_aol', 'top_con',\n",
              "       'mid_con', 'bot_con', 'basic_sim', 'Unnamed: 0', 'basic_rank',\n",
              "       'basic_rank_no_punc', 'oov_rank', 'oov_rank_no_punc', 'word_len',\n",
              "       'word_len_no_punc', 'sent_len', 'word_count_no_punct', 'word_count',\n",
              "       'punct', 'punct_lemm', 'concreteness_rank_nan', 'concreteness_rank',\n",
              "       'concreteness_rank_nan_no_punc', 'concreteness_rank_no_punc',\n",
              "       'concreteness_rank_nan_perc', 'concreteness_rank_perc',\n",
              "       'concreteness_rank_nan_no_punc_perc', 'concreteness_rank_no_punc_perc',\n",
              "       'aol_rank_nan', 'aol_rank', 'aol_rank_nan_no_punc', 'aol_rank_no_punc',\n",
              "       'aol_rank_nan_perc', 'aol_rank_perc', 'aol_rank_nan_no_punc_perc',\n",
              "       'aol_rank_no_punc_perc', 'stop_word', 'nums'],\n",
              "      dtype='object')"
            ]
          },
          "metadata": {},
          "execution_count": 155
        }
      ]
    },
    {
      "cell_type": "code",
      "source": [
        "df_final = df_final.drop(columns=['Unnamed: 0'])"
      ],
      "metadata": {
        "id": "Qax3dYE4UlNB"
      },
      "execution_count": null,
      "outputs": []
    },
    {
      "cell_type": "code",
      "source": [
        "df_final.to_csv('final_df_ranks.csv')"
      ],
      "metadata": {
        "id": "peLdvibzUrAi"
      },
      "execution_count": null,
      "outputs": []
    },
    {
      "cell_type": "code",
      "source": [
        "df_final.columns"
      ],
      "metadata": {
        "colab": {
          "base_uri": "https://localhost:8080/"
        },
        "id": "n-vQm3unYSDO",
        "outputId": "2214351f-94f0-4497-c096-924c716633a0"
      },
      "execution_count": null,
      "outputs": [
        {
          "output_type": "execute_result",
          "data": {
            "text/plain": [
              "Index(['original_text', 'label', 'top_aol', 'mid_aol', 'bot_aol', 'top_con',\n",
              "       'mid_con', 'bot_con', 'basic_sim', 'basic_rank', 'basic_rank_no_punc',\n",
              "       'oov_rank', 'oov_rank_no_punc', 'word_len', 'word_len_no_punc',\n",
              "       'sent_len', 'word_count_no_punct', 'word_count', 'punct', 'punct_lemm',\n",
              "       'concreteness_rank_nan', 'concreteness_rank',\n",
              "       'concreteness_rank_nan_no_punc', 'concreteness_rank_no_punc',\n",
              "       'concreteness_rank_nan_perc', 'concreteness_rank_perc',\n",
              "       'concreteness_rank_nan_no_punc_perc', 'concreteness_rank_no_punc_perc',\n",
              "       'aol_rank_nan', 'aol_rank', 'aol_rank_nan_no_punc', 'aol_rank_no_punc',\n",
              "       'aol_rank_nan_perc', 'aol_rank_perc', 'aol_rank_nan_no_punc_perc',\n",
              "       'aol_rank_no_punc_perc', 'stop_word', 'nums'],\n",
              "      dtype='object')"
            ]
          },
          "metadata": {},
          "execution_count": 161
        }
      ]
    },
    {
      "cell_type": "code",
      "source": [
        "df_final"
      ],
      "metadata": {
        "id": "OqokjU0BU1GC"
      },
      "execution_count": null,
      "outputs": []
    },
    {
      "cell_type": "code",
      "source": [
        ""
      ],
      "metadata": {
        "id": "9O9tdcRCWtvX"
      },
      "execution_count": null,
      "outputs": []
    },
    {
      "cell_type": "code",
      "source": [
        "from sklearn.feature_selection import mutual_info_classif\n",
        "# df_test_drop = df.copy().dropna()\n",
        "# df_test_drop = df_test_drop.select_dtypes('number')\n",
        "# df_test_drop.pop('label')\n",
        "# # label = df['label'].copy()\n",
        "# # normalized_df=(df_test_drop-df_test_drop.mean())/df_test_drop.std()\n",
        "\n",
        "# # normalized_df = pd.concat([normalized_df,label], axis=1)\n",
        "\n",
        "# from sklearn.preprocessing import MinMaxScaler, StandardScaler\n",
        "\n",
        "# scaler = MinMaxScaler()\n",
        "# standard = StandardScaler()\n",
        "# normalized_df = pd.DataFrame(standard.fit_transform(df_test_drop), columns=df_test_drop.columns)\n",
        "# normalized_df = pd.concat([normalized_df,label], axis=1)\n",
        "X =df_final[['top_aol', 'mid_aol', 'bot_aol', 'top_con','mid_con', 'bot_con', 'basic_sim', 'basic_rank']].dropna()\n",
        "y = df_final['label']\n",
        "\n",
        "\n",
        "#mutual_info_classif(X,y)"
      ],
      "metadata": {
        "id": "Vx3WmelJYfJo"
      },
      "execution_count": null,
      "outputs": []
    },
    {
      "cell_type": "code",
      "source": [
        "def make_mi_scores(X, y):\n",
        "    mi_scores = mutual_info_classif(X, y)\n",
        "    mi_scores = pd.Series(mi_scores, name=\"MI Scores\", index=X.columns)\n",
        "    mi_scores = mi_scores.sort_values(ascending=False)\n",
        "    return mi_scores\n",
        "\n",
        "mi_scores = make_mi_scores(X, y)"
      ],
      "metadata": {
        "id": "16z_RvZAYfJq"
      },
      "execution_count": null,
      "outputs": []
    },
    {
      "cell_type": "code",
      "source": [
        "!pip install matplotlib"
      ],
      "metadata": {
        "colab": {
          "base_uri": "https://localhost:8080/"
        },
        "id": "Y2ERmFIPZIL2",
        "outputId": "4fe9178d-ffce-4cff-ab4e-a3d61baaf991"
      },
      "execution_count": null,
      "outputs": [
        {
          "output_type": "stream",
          "name": "stdout",
          "text": [
            "Collecting matplotlib\n",
            "  Using cached matplotlib-3.5.1-cp39-cp39-win_amd64.whl (7.2 MB)\n",
            "Collecting pillow>=6.2.0\n",
            "  Using cached Pillow-9.0.0-cp39-cp39-win_amd64.whl (3.2 MB)\n",
            "Requirement already satisfied: packaging>=20.0 in c:\\users\\corsi\\downloads\\umich-siads-695-fall21-predicting-text-difficulty\\gensim2\\lib\\site-packages (from matplotlib) (21.3)\n",
            "Requirement already satisfied: numpy>=1.17 in c:\\users\\corsi\\downloads\\umich-siads-695-fall21-predicting-text-difficulty\\gensim2\\lib\\site-packages (from matplotlib) (1.22.0)\n",
            "Collecting fonttools>=4.22.0\n",
            "  Using cached fonttools-4.28.5-py3-none-any.whl (890 kB)\n",
            "Requirement already satisfied: python-dateutil>=2.7 in c:\\users\\corsi\\downloads\\umich-siads-695-fall21-predicting-text-difficulty\\gensim2\\lib\\site-packages (from matplotlib) (2.8.2)\n",
            "Collecting kiwisolver>=1.0.1\n",
            "  Using cached kiwisolver-1.3.2-cp39-cp39-win_amd64.whl (52 kB)\n",
            "Collecting cycler>=0.10\n",
            "  Using cached cycler-0.11.0-py3-none-any.whl (6.4 kB)\n",
            "Requirement already satisfied: pyparsing>=2.2.1 in c:\\users\\corsi\\downloads\\umich-siads-695-fall21-predicting-text-difficulty\\gensim2\\lib\\site-packages (from matplotlib) (3.0.6)\n",
            "Requirement already satisfied: six>=1.5 in c:\\users\\corsi\\downloads\\umich-siads-695-fall21-predicting-text-difficulty\\gensim2\\lib\\site-packages (from python-dateutil>=2.7->matplotlib) (1.16.0)\n",
            "Installing collected packages: pillow, kiwisolver, fonttools, cycler, matplotlib\n",
            "Successfully installed cycler-0.11.0 fonttools-4.28.5 kiwisolver-1.3.2 matplotlib-3.5.1 pillow-9.0.0\n"
          ]
        }
      ]
    },
    {
      "cell_type": "code",
      "source": [
        "import matplotlib.pyplot as plt\n",
        "%matplotlib inline\n",
        "def plot_mi_scores(scores):\n",
        "    import numpy as np\n",
        "    import matplotlib.pyplot as plt\n",
        "    scores = scores.sort_values(ascending=True)\n",
        "    width = np.arange(len(scores))\n",
        "    ticks = list(scores.index)\n",
        "    plt.barh(width, scores)\n",
        "    plt.yticks(width, ticks)\n",
        "    plt.title(\"Mutual Information Scores\")\n",
        "    print(ticks)\n",
        "\n",
        "plt.figure(dpi=100, figsize=(8, 5))\n",
        "plot_mi_scores(mi_scores)"
      ],
      "metadata": {
        "colab": {
          "base_uri": "https://localhost:8080/",
          "height": 478
        },
        "outputId": "2571b1d4-94fb-45e8-8d03-21f779fbc3b2",
        "id": "qFYjWHSqYfJq"
      },
      "execution_count": null,
      "outputs": [
        {
          "output_type": "stream",
          "name": "stdout",
          "text": [
            "['basic_rank', 'mid_con', 'bot_aol', 'mid_aol', 'top_aol', 'bot_con', 'top_con', 'basic_sim']\n"
          ]
        },
        {
          "output_type": "display_data",
          "data": {
            "text/plain": [
              "<Figure size 800x500 with 1 Axes>"
            ],
            "image/png": "[encoded data removed]"
          },
          "metadata": {
            "needs_background": "light"
          }
        }
      ]
    },
    {
      "cell_type": "markdown",
      "source": [
        "![image.png](data:image/png;base64,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)"
      ],
      "metadata": {
        "id": "VNnuYkjfZrlH"
      }
    },
    {
      "cell_type": "code",
      "source": [
        ""
      ],
      "metadata": {
        "id": "DyBNGPL5Y1OX"
      },
      "execution_count": null,
      "outputs": []
    }
  ]
}